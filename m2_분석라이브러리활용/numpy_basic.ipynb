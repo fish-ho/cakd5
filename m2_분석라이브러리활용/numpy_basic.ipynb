{
 "cells": [
  {
   "cell_type": "markdown",
   "id": "c46b3eb5",
   "metadata": {},
   "source": [
    "Numpy는 \"Numerical Python\"의 약자로 대규모 다차원 배열과 행렬 연산에 필요한 다양한 함수를 제공\n",
    "\n",
    "- Numerical Python을 의미하는 Numpy는 파이썬에서 선형대수 기반의 프로그램을 쉽게 만들 수 있도록 지원하는 대표적인 패키지\n",
    "- 많은 머신러닝 알고리즘이 Numpy 기반으로 작성되어 있으며, 알고리즘의 입출력 데이터를 Numpy 배열 타입으로 사용함\n",
    "- 넘파이의 기본 데이터 타입은 ndarray.nddrray를 이용해 넘파이에서 다차원 배열을 쉽게 생성하고 다양한 연산 수행\n",
    "\n",
    "Numpy 특징\n",
    "- 강력한 N차원 배열 객체\n",
    "- 정교한 브로드캐스팅 가능\n",
    "- 유용한 선형 대수학, 푸리에 변환 및 난수 기능\n",
    "- 푸리에 변환은 시간이나 공간에 대한 함수를 시간 또는 공간 주파수 성분으로 분해하는 변환\n",
    "- 범용적 데이터 처리에 사용 가능한 다차원 컨테이너 "
   ]
  },
  {
   "cell_type": "code",
   "execution_count": 2,
   "id": "dc413658",
   "metadata": {},
   "outputs": [
    {
     "name": "stdout",
     "output_type": "stream",
     "text": [
      "[0 1 2 3 4 5 6 7 8 9] <class 'numpy.ndarray'>\n"
     ]
    }
   ],
   "source": [
    "import numpy as np\n",
    "z=np.arange(10)\n",
    "print(z,type(z))"
   ]
  },
  {
   "cell_type": "code",
   "execution_count": 5,
   "id": "e1771714",
   "metadata": {},
   "outputs": [],
   "source": [
    "my_arr = np.arange(1000000)\n",
    "my_list=list(range(1000000))"
   ]
  },
  {
   "cell_type": "code",
   "execution_count": 8,
   "id": "20e23f8e",
   "metadata": {},
   "outputs": [
    {
     "name": "stdout",
     "output_type": "stream",
     "text": [
      "Wall time: 11 ms\n"
     ]
    }
   ],
   "source": [
    "%time for _ in range(10): my_array2=my_arr*2"
   ]
  },
  {
   "cell_type": "code",
   "execution_count": 10,
   "id": "3826709f",
   "metadata": {},
   "outputs": [
    {
     "name": "stdout",
     "output_type": "stream",
     "text": [
      "Wall time: 595 ms\n"
     ]
    }
   ],
   "source": [
    "%time for _ in range(10): my_list2=[x*2 for x in my_list]"
   ]
  },
  {
   "cell_type": "code",
   "execution_count": 12,
   "id": "90a83a3d",
   "metadata": {},
   "outputs": [
    {
     "name": "stdout",
     "output_type": "stream",
     "text": [
      "[[-1.10592093 -0.30519615  0.4775397 ]\n",
      " [ 2.13589761 -0.20624694 -0.70396066]] \n",
      "\n",
      "[[-11.05920931  -3.05196154   4.77539696]\n",
      " [ 21.35897607  -2.06246936  -7.03960659]] \n",
      "\n",
      "[[-2.21184186 -0.61039231  0.95507939]\n",
      " [ 4.27179521 -0.41249387 -1.40792132]]\n"
     ]
    }
   ],
   "source": [
    "# 배열 연산\n",
    "# np.random.randn 가우시안 표준 정규분포에서 난수 매트릭스 array 생성\n",
    "data = np.random.randn(2,3) # 표준 정규분포로 구성되는 2행 3열 매트릭스\n",
    "print(data,'\\n')\n",
    "print(data * 10, '\\n')\n",
    "print(data + data)"
   ]
  },
  {
   "cell_type": "code",
   "execution_count": 13,
   "id": "25ee2269",
   "metadata": {},
   "outputs": [
    {
     "name": "stdout",
     "output_type": "stream",
     "text": [
      "(2, 3)\n",
      "float64\n",
      "2\n"
     ]
    }
   ],
   "source": [
    "print(data.shape) # 크기\n",
    "print(data.dtype) # 데이터 타입\n",
    "print(data.ndim) # 차원"
   ]
  },
  {
   "cell_type": "markdown",
   "id": "0cc3f6bb",
   "metadata": {},
   "source": [
    "다차원 배열\n",
    "<img src = 'numpy차원.jpg' STYLE='width:300px;'>"
   ]
  },
  {
   "cell_type": "code",
   "execution_count": 14,
   "id": "f3abd5b8",
   "metadata": {},
   "outputs": [
    {
     "name": "stdout",
     "output_type": "stream",
     "text": [
      "<class 'list'> \n",
      "\n",
      "[[1 2 3 4]\n",
      " [5 6 7 8]] <class 'numpy.ndarray'>\n"
     ]
    }
   ],
   "source": [
    "data2 = [[1,2,3,4],[5,6,7,8]] \n",
    "print(type(data2),'\\n')\n",
    "arr2=np.array(data2)\n",
    "print(arr2,type(arr2))\n"
   ]
  },
  {
   "cell_type": "code",
   "execution_count": 16,
   "id": "a118baa2",
   "metadata": {},
   "outputs": [
    {
     "name": "stdout",
     "output_type": "stream",
     "text": [
      "2 \n",
      "\n",
      "(2, 4)\n"
     ]
    }
   ],
   "source": [
    "print(arr2.ndim,'\\n')\n",
    "print(arr2.shape)"
   ]
  },
  {
   "cell_type": "code",
   "execution_count": 18,
   "id": "912e5c9e",
   "metadata": {},
   "outputs": [
    {
     "name": "stdout",
     "output_type": "stream",
     "text": [
      "[1 2 3] <class 'numpy.ndarray'> (3,)\n"
     ]
    }
   ],
   "source": [
    "# 1차원 배열로 3개의 데이터\n",
    "array1 = np.array([1,2,3])\n",
    " # (,열)dl dksls (열,) 형태로 출력"
   ]
  },
  {
   "cell_type": "code",
   "execution_count": 21,
   "id": "cb958345",
   "metadata": {},
   "outputs": [
    {
     "name": "stdout",
     "output_type": "stream",
     "text": [
      "[[1 2 3]\n",
      " [4 5 6]] <class 'numpy.ndarray'> (2, 3)\n"
     ]
    }
   ],
   "source": [
    "# 2차원 배열로 2개의 row와 3개의 column으로 구성된 6개의 데이터\n",
    "array2 = np.array([[1,2,3],[4,5,6]])\n",
    "print(array2,type(array2),array2.shape)"
   ]
  },
  {
   "cell_type": "code",
   "execution_count": 22,
   "id": "bdb3a91f",
   "metadata": {},
   "outputs": [
    {
     "name": "stdout",
     "output_type": "stream",
     "text": [
      "[[4 5 6]] <class 'numpy.ndarray'> (1, 3)\n"
     ]
    }
   ],
   "source": [
    "# 1개의 row와 3개의 column으로 구성된 2차원 배열\n",
    "array3 = np.array([[4,5,6]])\n",
    "print(array3,type(array3),array3.shape)"
   ]
  },
  {
   "cell_type": "code",
   "execution_count": 30,
   "id": "7e33e32f",
   "metadata": {},
   "outputs": [
    {
     "name": "stdout",
     "output_type": "stream",
     "text": [
      "[[[ 1  2  3  4  5]\n",
      "  [ 6  7  8  9 10]]\n",
      "\n",
      " [[ 2  4  6  8 10]\n",
      "  [10  8  6  4  2]]\n",
      "\n",
      " [[ 1  3  5  7  9]\n",
      "  [ 9  7  5  3  1]]] <class 'numpy.ndarray'> (3, 2, 5) \n",
      "\n"
     ]
    }
   ],
   "source": [
    "# 3차원\n",
    "array4 = np.array([[[1,2,3,4,5],[6,7,8,9,10]],\n",
    "                 [[2,4,6,8,10],[10,8,6,4,2]],\n",
    "                 [[1,3,5,7,9],[9,7,5,3,1]]])\n",
    "print(array4,type(array4),array4.shape,'\\n')"
   ]
  },
  {
   "cell_type": "code",
   "execution_count": 31,
   "id": "d0276d5a",
   "metadata": {},
   "outputs": [],
   "source": [
    "# 경고 메시지 제외 처리\n",
    "import warnings\n",
    "warnings.filterwarnings('ignore')"
   ]
  },
  {
   "cell_type": "markdown",
   "id": "91ced7ee",
   "metadata": {},
   "source": [
    "배열 생성 및 초기화\n",
    "- Numpy는 원하는 shape로 배열을 설정하고 각 요소를 특정 값으로 초기화하는 zeros, ones, full, eye 함수 제공\n",
    "- 파라미터로 입력한 배열과 같은 shape의 배열을 만드는 zeros_like, ones_like, full_like 함수도 제공"
   ]
  },
  {
   "cell_type": "code",
   "execution_count": 32,
   "id": "99f71b9e",
   "metadata": {},
   "outputs": [
    {
     "name": "stdout",
     "output_type": "stream",
     "text": [
      "[0. 0. 0. 0. 0. 0. 0. 0. 0. 0.] \n",
      "\n",
      "[[0. 0. 0. 0. 0. 0.]\n",
      " [0. 0. 0. 0. 0. 0.]\n",
      " [0. 0. 0. 0. 0. 0.]] \n",
      "\n",
      "[[[0. 0.]\n",
      "  [0. 0.]\n",
      "  [0. 0.]]\n",
      "\n",
      " [[0. 0.]\n",
      "  [0. 0.]\n",
      "  [0. 0.]]]\n"
     ]
    }
   ],
   "source": [
    "print(np.zeros(10),'\\n')\n",
    "print(np.zeros((3,6)),'\\n')\n",
    "print(np.zeros((2,3,2)))"
   ]
  },
  {
   "cell_type": "code",
   "execution_count": 33,
   "id": "5e09f173",
   "metadata": {},
   "outputs": [
    {
     "name": "stdout",
     "output_type": "stream",
     "text": [
      "[1. 1. 1. 1. 1. 1. 1. 1. 1. 1.] \n",
      "\n",
      "[[1. 1. 1. 1. 1. 1.]\n",
      " [1. 1. 1. 1. 1. 1.]\n",
      " [1. 1. 1. 1. 1. 1.]] \n",
      "\n",
      "[[[1. 1.]\n",
      "  [1. 1.]\n",
      "  [1. 1.]]\n",
      "\n",
      " [[1. 1.]\n",
      "  [1. 1.]\n",
      "  [1. 1.]]]\n"
     ]
    }
   ],
   "source": [
    "print(np.ones(10),'\\n')\n",
    "print(np.ones((3,6)),'\\n')\n",
    "print(np.ones((2,3,2)))"
   ]
  },
  {
   "cell_type": "code",
   "execution_count": 34,
   "id": "60cd7a4d",
   "metadata": {},
   "outputs": [
    {
     "data": {
      "text/plain": [
       "array([[5, 5],\n",
       "       [5, 5]])"
      ]
     },
     "execution_count": 34,
     "metadata": {},
     "output_type": "execute_result"
    }
   ],
   "source": [
    "ar1 = np.full((2,2),5)\n",
    "ar1"
   ]
  },
  {
   "cell_type": "code",
   "execution_count": 35,
   "id": "cffa9faa",
   "metadata": {},
   "outputs": [
    {
     "data": {
      "text/plain": [
       "array([[1., 0., 0.],\n",
       "       [0., 1., 0.],\n",
       "       [0., 0., 1.]])"
      ]
     },
     "execution_count": 35,
     "metadata": {},
     "output_type": "execute_result"
    }
   ],
   "source": [
    "# 항등행렬, 단위행렬\n",
    "ar2 = np.eye(3)\n",
    "ar2"
   ]
  },
  {
   "cell_type": "code",
   "execution_count": null,
   "id": "4af9e953",
   "metadata": {},
   "outputs": [],
   "source": [
    "# [과제] zeros_like, ones_like, full_like 함수 사용 예를 작성하세요."
   ]
  },
  {
   "cell_type": "code",
   "execution_count": 37,
   "id": "90967990",
   "metadata": {},
   "outputs": [
    {
     "data": {
      "text/plain": [
       "array([ 0,  1,  2,  3,  4,  5,  6,  7,  8,  9, 10, 11, 12, 13, 14])"
      ]
     },
     "execution_count": 37,
     "metadata": {},
     "output_type": "execute_result"
    }
   ],
   "source": [
    "# arange 함수 : python의 range 함수의 배열 버전\n",
    "arr1 = np.arange(15)\n",
    "arr1"
   ]
  },
  {
   "cell_type": "code",
   "execution_count": 41,
   "id": "d828a1c5",
   "metadata": {},
   "outputs": [
    {
     "name": "stdout",
     "output_type": "stream",
     "text": [
      "[[ 0  1  2  3  4]\n",
      " [ 5  6  7  8  9]\n",
      " [10 11 12 13 14]] (3, 5) \n",
      "\n",
      "[[[ 0  1  2  3  4]\n",
      "  [ 5  6  7  8  9]\n",
      "  [10 11 12 13 14]]] (1, 3, 5)\n"
     ]
    }
   ],
   "source": [
    "arr2 = arr1.reshape(3,5)\n",
    "print(arr2,arr2.shape,'\\n')\n",
    "arr3 = arr1.reshape(1,3,5)\n",
    "print(arr3, arr3.shape)"
   ]
  },
  {
   "cell_type": "code",
   "execution_count": 43,
   "id": "be1b6ce4",
   "metadata": {},
   "outputs": [
    {
     "data": {
      "text/plain": [
       "array([[0, 1],\n",
       "       [2, 3],\n",
       "       [4, 5],\n",
       "       [6, 7],\n",
       "       [8, 9]])"
      ]
     },
     "execution_count": 43,
     "metadata": {},
     "output_type": "execute_result"
    }
   ],
   "source": [
    "# Q. array1에 reshape 함수를 이용, (5,2) 배열을 생성하고 크기를 같이 출력하세요.\n",
    "array1=np.arange(10)\n",
    "array2=array1.reshape(5,2)\n",
    "array2"
   ]
  },
  {
   "cell_type": "code",
   "execution_count": 42,
   "id": "820cd009",
   "metadata": {},
   "outputs": [
    {
     "name": "stdout",
     "output_type": "stream",
     "text": [
      "[ 0  1  2  3  4  5  6  7  8  9 10 11 12 13 14 15 16 17 18 19 20 21 22 23\n",
      " 24 25 26 27 28 29] (30,) \n",
      "\n",
      "[[ 0  1  2  3  4  5]\n",
      " [ 6  7  8  9 10 11]\n",
      " [12 13 14 15 16 17]\n",
      " [18 19 20 21 22 23]\n",
      " [24 25 26 27 28 29]] (5, 6) \n",
      "\n",
      "[[[ 0  1  2  3  4]\n",
      "  [ 5  6  7  8  9]]\n",
      "\n",
      " [[10 11 12 13 14]\n",
      "  [15 16 17 18 19]]\n",
      "\n",
      " [[20 21 22 23 24]\n",
      "  [25 26 27 28 29]]] (3, 2, 5)\n"
     ]
    }
   ],
   "source": [
    "# 0~29 일차원 배열을 생성한 후 다시 2,3차원 배열로 변환하여 출력하세요.\n",
    "arr1 = np.arange(30)\n",
    "arr2 = arr1.reshape(5,6)\n",
    "arr3 = arr1.reshape(3,2,5)\n",
    "print(arr1, arr1.shape,'\\n')\n",
    "print(arr2, arr2.shape,'\\n')\n",
    "print(arr3, arr3.shape)"
   ]
  },
  {
   "cell_type": "code",
   "execution_count": 45,
   "id": "6af3eb26",
   "metadata": {},
   "outputs": [
    {
     "name": "stdout",
     "output_type": "stream",
     "text": [
      "[[ 0  1  2  3  4  5]\n",
      " [ 6  7  8  9 10 11]\n",
      " [12 13 14 15 16 17]\n",
      " [18 19 20 21 22 23]\n",
      " [24 25 26 27 28 29]] (5, 6) \n",
      "\n",
      "[[[ 0  1  2  3  4]\n",
      "  [ 5  6  7  8  9]]\n",
      "\n",
      " [[10 11 12 13 14]\n",
      "  [15 16 17 18 19]]\n",
      "\n",
      " [[20 21 22 23 24]\n",
      "  [25 26 27 28 29]]] (3, 2, 5)\n"
     ]
    }
   ],
   "source": [
    "# reshape(-1,-1) 이용, 차원 변경\n",
    "arr1 = np.arange(30)\n",
    "arr12 = arr1.reshape(5,-1) # 입력한 값에 따라 알아서 설정\n",
    "print(arr12,arr12.shape,'\\n')\n",
    "arr13 = arr1.reshape(-1,2,5)\n",
    "print(arr13,arr13.shape)"
   ]
  },
  {
   "cell_type": "code",
   "execution_count": 51,
   "id": "96c4f049",
   "metadata": {},
   "outputs": [
    {
     "name": "stdout",
     "output_type": "stream",
     "text": [
      "[[ 0  1  2  3  4  5]\n",
      " [ 6  7  8  9 10 11]\n",
      " [12 13 14 15 16 17]\n",
      " [18 19 20 21 22 23]\n",
      " [24 25 26 27 28 29]] \n",
      "\n",
      "[ 0  1  2  3  4  5  6  7  8  9 10 11 12 13 14 15 16 17 18 19 20 21 22 23\n",
      " 24 25 26 27 28 29] (30,) \n",
      "\n",
      "[[[ 0  1  2]\n",
      "  [ 3  4  5]\n",
      "  [ 6  7  8]\n",
      "  [ 9 10 11]\n",
      "  [12 13 14]]\n",
      "\n",
      " [[15 16 17]\n",
      "  [18 19 20]\n",
      "  [21 22 23]\n",
      "  [24 25 26]\n",
      "  [27 28 29]]] (2, 5, 3)\n"
     ]
    }
   ],
   "source": [
    "# 2 -> 1,3 차원으로 변환하여 출력\n",
    "print(arr12,'\\n')\n",
    "arr21 = arr12.reshape(-1,)\n",
    "arr31 = arr12.reshape(2,5,-1)\n",
    "print(arr21,arr21.shape,'\\n')\n",
    "print(arr31,arr31.shape)"
   ]
  },
  {
   "cell_type": "code",
   "execution_count": 52,
   "id": "c7ee2ca4",
   "metadata": {},
   "outputs": [
    {
     "name": "stdout",
     "output_type": "stream",
     "text": [
      "[[[ 0  1  2]\n",
      "  [ 3  4  5]\n",
      "  [ 6  7  8]\n",
      "  [ 9 10 11]\n",
      "  [12 13 14]]\n",
      "\n",
      " [[15 16 17]\n",
      "  [18 19 20]\n",
      "  [21 22 23]\n",
      "  [24 25 26]\n",
      "  [27 28 29]]] \n",
      "\n",
      "[ 0  1  2  3  4  5  6  7  8  9 10 11 12 13 14 15 16 17 18 19 20 21 22 23\n",
      " 24 25 26 27 28 29] (30,) \n",
      "\n",
      "[[ 0  1  2  3  4]\n",
      " [ 5  6  7  8  9]\n",
      " [10 11 12 13 14]\n",
      " [15 16 17 18 19]\n",
      " [20 21 22 23 24]\n",
      " [25 26 27 28 29]] (6, 5)\n"
     ]
    }
   ],
   "source": [
    "# 3 -> 1,2 차원으로 변환하여 출력\n",
    "print(arr31,'\\n')\n",
    "ar1 = arr31.reshape(-1,)\n",
    "ar2 = arr31.reshape(-1,5)\n",
    "print(ar1,ar1.shape,'\\n')\n",
    "print(ar2,ar2.shape)"
   ]
  },
  {
   "cell_type": "markdown",
   "id": "3b126fa5",
   "metadata": {},
   "source": [
    "행렬의 종류\n",
    "- 정방행렬은 행과 열의 수가 같은 행렬\n",
    "- 대각행렬은 주대각선 원소를 제외한 모든 원소들이 0인 정방행렬\n",
    "- 항등행렬은 행렬 곱셈 연산에 항등원으로 작용하는 행렬\n",
    "- 영행렬은 모든 원소가 0인 행렬로 곱셈 연산에서 영원으로 작용하는 행렬\n",
    "- 전치행렬은 주대각선 원소를 기준으로 행과 열을 바꿔주는 행렬\n",
    "- 직교행렬은 행령 A의 역행렬이 A의 전치행렬이고 A의 전치행렬과 A 행렬을 곱하였을 때 항등행렬이 나오는 행렬"
   ]
  },
  {
   "cell_type": "code",
   "execution_count": 53,
   "id": "d23811ee",
   "metadata": {},
   "outputs": [
    {
     "data": {
      "text/plain": [
       "array([[7, 7, 7, 7, 7],\n",
       "       [7, 7, 7, 7, 7],\n",
       "       [7, 7, 7, 7, 7],\n",
       "       [7, 7, 7, 7, 7],\n",
       "       [7, 7, 7, 7, 7]])"
      ]
     },
     "execution_count": 53,
     "metadata": {},
     "output_type": "execute_result"
    }
   ],
   "source": [
    "# 정방행렬\n",
    "a = np.full((5,5),7)\n",
    "a"
   ]
  },
  {
   "cell_type": "code",
   "execution_count": 54,
   "id": "be077f8f",
   "metadata": {},
   "outputs": [
    {
     "data": {
      "text/plain": [
       "array([[1., 0., 0., 0., 0.],\n",
       "       [0., 1., 0., 0., 0.],\n",
       "       [0., 0., 1., 0., 0.],\n",
       "       [0., 0., 0., 1., 0.],\n",
       "       [0., 0., 0., 0., 1.]])"
      ]
     },
     "execution_count": 54,
     "metadata": {},
     "output_type": "execute_result"
    }
   ],
   "source": [
    "# 항등행렬, 단위행렬\n",
    "a = np.eye(5)\n",
    "a"
   ]
  },
  {
   "cell_type": "code",
   "execution_count": 56,
   "id": "7d60cc80",
   "metadata": {},
   "outputs": [
    {
     "data": {
      "text/plain": [
       "array([[0., 0., 0., 0., 0.],\n",
       "       [0., 0., 0., 0., 0.],\n",
       "       [0., 0., 0., 0., 0.],\n",
       "       [0., 0., 0., 0., 0.],\n",
       "       [0., 0., 0., 0., 0.]])"
      ]
     },
     "execution_count": 56,
     "metadata": {},
     "output_type": "execute_result"
    }
   ],
   "source": [
    "# 영행렬\n",
    "a = np.zeros(25)\n",
    "a.reshape(5,5)"
   ]
  },
  {
   "cell_type": "markdown",
   "id": "d2a1b7d5",
   "metadata": {},
   "source": [
    "ndarray 데이터 형태 지정 및 변경\n",
    "<img src = '데이터형태.jpg' STYLE='width:300px;'>"
   ]
  },
  {
   "cell_type": "code",
   "execution_count": 57,
   "id": "ebb3e118",
   "metadata": {},
   "outputs": [
    {
     "name": "stdout",
     "output_type": "stream",
     "text": [
      "[1. 2. 3.] float64 \n",
      "\n",
      "[1 2 3] int32\n"
     ]
    }
   ],
   "source": [
    "arr1 = np.array([1,2,3],dtype=np.float64)\n",
    "arr2 = np.array([1,2,3],dtype=np.int32)\n",
    "print(arr1,arr1.dtype,'\\n')\n",
    "print(arr2,arr2.dtype)"
   ]
  },
  {
   "cell_type": "code",
   "execution_count": 58,
   "id": "506371e1",
   "metadata": {},
   "outputs": [
    {
     "name": "stdout",
     "output_type": "stream",
     "text": [
      "int32\n",
      "float64\n"
     ]
    }
   ],
   "source": [
    "# 타입 변경 astype()\n",
    "arr = np.array([1,2,3,4,5])\n",
    "print(arr.dtype)\n",
    "float_arr = arr.astype(np.float64)\n",
    "print(float_arr.dtype)"
   ]
  },
  {
   "cell_type": "code",
   "execution_count": 69,
   "id": "b7e4bcaf",
   "metadata": {},
   "outputs": [
    {
     "name": "stdout",
     "output_type": "stream",
     "text": [
      "[1 1 1 1 1 1 1 1 1 1]\n"
     ]
    }
   ],
   "source": [
    "# empty 함수 : shape와 dtype을 입력 받아 초기화되지 않은 배열을 만들어준다. cf. zeros()\n",
    "# empty 함수를 실행할 때마다 값이 다른 것을 확인할 수 있다. 이는 해당 메모리 영역에 어떤 데이터가 남아있던지 상관없이\n",
    "# 그대로 영역의 주소만 알려줄 뿐 초기화는 사용자에게 맡기기 때문임.\n",
    "print(np.empty(shape=(10,), dtype=np.int8))"
   ]
  },
  {
   "cell_type": "code",
   "execution_count": 65,
   "id": "05cd1319",
   "metadata": {},
   "outputs": [
    {
     "name": "stdout",
     "output_type": "stream",
     "text": [
      "[b'1' b'2' b'3' b'4'] |S1\n"
     ]
    }
   ],
   "source": [
    "# 문자열 타입으로 배열 만들기\n",
    "# arr = np.array([1,2,3,4], dtype='S')\n",
    "arr = np.array([1,2,3,4], dtype=np.string_)\n",
    "print(arr, arr.dtype)"
   ]
  },
  {
   "cell_type": "code",
   "execution_count": 62,
   "id": "2df8a261",
   "metadata": {},
   "outputs": [
    {
     "name": "stdout",
     "output_type": "stream",
     "text": [
      "[1. 2. 3. 4.] float64\n"
     ]
    }
   ],
   "source": [
    "arr1 = arr.astype(float)\n",
    "print(arr1,arr1.dtype)"
   ]
  },
  {
   "cell_type": "code",
   "execution_count": 73,
   "id": "a19354cf",
   "metadata": {},
   "outputs": [
    {
     "name": "stdout",
     "output_type": "stream",
     "text": [
      "[1 2 2 3 3] int32\n",
      "[1. 2. 2. 3. 3.] float64\n"
     ]
    }
   ],
   "source": [
    "# 정수와 실수로 구성된 list_e = [1,2,2,3,3]을 numpy를 이용해서 실수형과 정수형으로 각각 출력하세요.\n",
    "list_e = [1,2,2,3,3]\n",
    "arr=np.array(list_e)\n",
    "arr.astype(int)\n",
    "print(arr,arr.dtype)\n",
    "arr2=arr.astype(float)\n",
    "print(arr2,arr2.dtype)"
   ]
  },
  {
   "cell_type": "code",
   "execution_count": 74,
   "id": "88f9249e",
   "metadata": {},
   "outputs": [
    {
     "name": "stdout",
     "output_type": "stream",
     "text": [
      "[[1 2 3]\n",
      " [4 5 6]] int32\n"
     ]
    }
   ],
   "source": [
    "# 배열의 산술 연산\n",
    "arr = np.array([[1,2,3],[4,5,6]])\n",
    "arr = np.arange(1,7).reshape(2,3)\n",
    "print(arr,arr.dtype)"
   ]
  },
  {
   "cell_type": "code",
   "execution_count": 75,
   "id": "5e90ab8b",
   "metadata": {},
   "outputs": [
    {
     "data": {
      "text/plain": [
       "array([[ 1,  4,  9],\n",
       "       [16, 25, 36]])"
      ]
     },
     "execution_count": 75,
     "metadata": {},
     "output_type": "execute_result"
    }
   ],
   "source": [
    "arr * arr"
   ]
  },
  {
   "cell_type": "code",
   "execution_count": 76,
   "id": "fa0eb870",
   "metadata": {},
   "outputs": [
    {
     "data": {
      "text/plain": [
       "array([[0, 0, 0],\n",
       "       [0, 0, 0]])"
      ]
     },
     "execution_count": 76,
     "metadata": {},
     "output_type": "execute_result"
    }
   ],
   "source": [
    "arr - arr"
   ]
  },
  {
   "cell_type": "code",
   "execution_count": 77,
   "id": "7304a4b9",
   "metadata": {},
   "outputs": [
    {
     "data": {
      "text/plain": [
       "array([[ 0.,  4.,  1.],\n",
       "       [ 7.,  2., 12.]])"
      ]
     },
     "execution_count": 77,
     "metadata": {},
     "output_type": "execute_result"
    }
   ],
   "source": [
    "arr2 = np.array([[0.,4.,1.],[7.,2.,12.]])\n",
    "arr2"
   ]
  },
  {
   "cell_type": "code",
   "execution_count": 79,
   "id": "8df7bec2",
   "metadata": {},
   "outputs": [
    {
     "data": {
      "text/plain": [
       "array([[False,  True, False],\n",
       "       [ True, False,  True]])"
      ]
     },
     "execution_count": 79,
     "metadata": {},
     "output_type": "execute_result"
    }
   ],
   "source": [
    "arr2 > arr"
   ]
  },
  {
   "cell_type": "code",
   "execution_count": 90,
   "id": "110652ae",
   "metadata": {},
   "outputs": [
    {
     "name": "stdout",
     "output_type": "stream",
     "text": [
      "[[12 14 16]\n",
      " [18 20 22]\n",
      " [24 26 28]] \n",
      "\n",
      "[[12 14 16]\n",
      " [18 20 22]\n",
      " [24 26 28]] \n",
      "\n",
      "[[10 10 10]\n",
      " [10 10 10]\n",
      " [10 10 10]] \n",
      "\n",
      "[[10 10 10]\n",
      " [10 10 10]\n",
      " [10 10 10]] \n",
      "\n",
      "[[ 11  24  39]\n",
      " [ 56  75  96]\n",
      " [119 144 171]] \n",
      "\n",
      "[[ 11  24  39]\n",
      " [ 56  75  96]\n",
      " [119 144 171]] \n",
      "\n",
      "[[11.          6.          4.33333333]\n",
      " [ 3.5         3.          2.66666667]\n",
      " [ 2.42857143  2.25        2.11111111]] \n",
      "\n",
      "[[11.          6.          4.33333333]\n",
      " [ 3.5         3.          2.66666667]\n",
      " [ 2.42857143  2.25        2.11111111]]\n"
     ]
    }
   ],
   "source": [
    "# 기본 사칙연산\n",
    "v1 = np.arange(1,10).reshape(3,3)\n",
    "v2 = np.arange(11,20).reshape(3,3)\n",
    "\n",
    "print(v1+v2,'\\n')\n",
    "print(np.add(v1,v2),'\\n')\n",
    "print(v2-v1,'\\n')\n",
    "print(np.subtract(v2,v1),'\\n')\n",
    "print(v1*v2,'\\n')\n",
    "print(np.multiply(v1,v2),'\\n')\n",
    "print(v2/v1,'\\n')\n",
    "print(np.divide(v2,v1))"
   ]
  },
  {
   "cell_type": "code",
   "execution_count": 95,
   "id": "d9ad5802",
   "metadata": {},
   "outputs": [
    {
     "data": {
      "text/plain": [
       "array([[-0.87715759,  0.24706595],\n",
       "       [-1.90979044, -0.09098135]])"
      ]
     },
     "execution_count": 95,
     "metadata": {},
     "output_type": "execute_result"
    }
   ],
   "source": [
    "arr = np.random.randn(2,2)\n",
    "arr"
   ]
  },
  {
   "cell_type": "code",
   "execution_count": 96,
   "id": "8026dd31",
   "metadata": {},
   "outputs": [
    {
     "data": {
      "text/plain": [
       "-0.6577"
      ]
     },
     "execution_count": 96,
     "metadata": {},
     "output_type": "execute_result"
    }
   ],
   "source": [
    "arr.mean().round(4)"
   ]
  },
  {
   "cell_type": "code",
   "execution_count": 97,
   "id": "f9181cab",
   "metadata": {},
   "outputs": [
    {
     "data": {
      "text/plain": [
       "array([-0.31504582, -1.0003859 ])"
      ]
     },
     "execution_count": 97,
     "metadata": {},
     "output_type": "execute_result"
    }
   ],
   "source": [
    "arr.mean(axis=1)"
   ]
  },
  {
   "cell_type": "code",
   "execution_count": 100,
   "id": "33bcbc5b",
   "metadata": {},
   "outputs": [
    {
     "data": {
      "text/plain": [
       "array([-1.39347401,  0.0780423 ])"
      ]
     },
     "execution_count": 100,
     "metadata": {},
     "output_type": "execute_result"
    }
   ],
   "source": [
    "arr.mean(axis=0)"
   ]
  },
  {
   "cell_type": "code",
   "execution_count": 101,
   "id": "6e150530",
   "metadata": {},
   "outputs": [
    {
     "data": {
      "text/plain": [
       "-2.6309"
      ]
     },
     "execution_count": 101,
     "metadata": {},
     "output_type": "execute_result"
    }
   ],
   "source": [
    "arr.sum().round(4)"
   ]
  },
  {
   "cell_type": "code",
   "execution_count": 102,
   "id": "a5eb1d07",
   "metadata": {},
   "outputs": [
    {
     "data": {
      "text/plain": [
       "array([-0.87715759, -0.21671577,  0.41388171, -0.03765552])"
      ]
     },
     "execution_count": 102,
     "metadata": {},
     "output_type": "execute_result"
    }
   ],
   "source": [
    "arr.cumprod()"
   ]
  },
  {
   "cell_type": "code",
   "execution_count": 103,
   "id": "e41045ac",
   "metadata": {},
   "outputs": [
    {
     "data": {
      "text/plain": [
       "array([[1, 2, 3],\n",
       "       [4, 5, 6],\n",
       "       [7, 8, 9]])"
      ]
     },
     "execution_count": 103,
     "metadata": {},
     "output_type": "execute_result"
    }
   ],
   "source": [
    "# 인덱싱, 슬라이싱\n",
    "arr2d = np.arange(1,10).reshape(3,3)\n",
    "arr2d"
   ]
  },
  {
   "cell_type": "code",
   "execution_count": 104,
   "id": "2567fe73",
   "metadata": {},
   "outputs": [
    {
     "data": {
      "text/plain": [
       "array([7, 8, 9])"
      ]
     },
     "execution_count": 104,
     "metadata": {},
     "output_type": "execute_result"
    }
   ],
   "source": [
    "arr2d[2]"
   ]
  },
  {
   "cell_type": "code",
   "execution_count": 108,
   "id": "8086b9f7",
   "metadata": {},
   "outputs": [
    {
     "data": {
      "text/plain": [
       "9"
      ]
     },
     "execution_count": 108,
     "metadata": {},
     "output_type": "execute_result"
    }
   ],
   "source": [
    "arr2d[2][2]"
   ]
  },
  {
   "cell_type": "code",
   "execution_count": 115,
   "id": "def9aa47",
   "metadata": {},
   "outputs": [
    {
     "data": {
      "text/plain": [
       "array([1, 4, 7])"
      ]
     },
     "execution_count": 115,
     "metadata": {},
     "output_type": "execute_result"
    }
   ],
   "source": [
    "arr2d[:,0]"
   ]
  },
  {
   "cell_type": "code",
   "execution_count": 118,
   "id": "aabefc29",
   "metadata": {},
   "outputs": [
    {
     "data": {
      "text/plain": [
       "array([[1, 2, 3],\n",
       "       [4, 5, 6]])"
      ]
     },
     "execution_count": 118,
     "metadata": {},
     "output_type": "execute_result"
    }
   ],
   "source": [
    "arr2d[:2,:]"
   ]
  },
  {
   "cell_type": "code",
   "execution_count": null,
   "id": "e552464e",
   "metadata": {},
   "outputs": [],
   "source": [
    "# arr2d를 다른 방식으로 아래와 같이 출력하세요.\n",
    "[[1,2,3],\n",
    " [4,5,6]]"
   ]
  },
  {
   "cell_type": "code",
   "execution_count": 131,
   "id": "695b377e",
   "metadata": {},
   "outputs": [
    {
     "data": {
      "text/plain": [
       "array([[1, 2, 3],\n",
       "       [7, 8, 9]])"
      ]
     },
     "execution_count": 131,
     "metadata": {},
     "output_type": "execute_result"
    }
   ],
   "source": [
    "arr2d[[0,2],:]"
   ]
  },
  {
   "cell_type": "code",
   "execution_count": 119,
   "id": "6d91e70e",
   "metadata": {},
   "outputs": [
    {
     "name": "stdout",
     "output_type": "stream",
     "text": [
      "[3 6]\n",
      "\n",
      "[[1 2]\n",
      " [4 5]]\n"
     ]
    }
   ],
   "source": [
    "# arr2d에서 [3,6],[[1,2],[4,5]]을 출력하세요.\n",
    "print(arr2d[:2,2])\n",
    "print()\n",
    "print(arr2d[:2,:2])"
   ]
  },
  {
   "cell_type": "code",
   "execution_count": 132,
   "id": "7d47bd02",
   "metadata": {},
   "outputs": [
    {
     "data": {
      "text/plain": [
       "array([[ 0,  1,  2,  3,  4,  5],\n",
       "       [ 6,  7,  8,  9, 10, 11],\n",
       "       [12, 13, 14, 15, 16, 17],\n",
       "       [18, 19, 20, 21, 22, 23],\n",
       "       [24, 25, 26, 27, 28, 29]])"
      ]
     },
     "execution_count": 132,
     "metadata": {},
     "output_type": "execute_result"
    }
   ],
   "source": [
    "arr = np.arange(30).reshape(5,6)\n",
    "arr"
   ]
  },
  {
   "cell_type": "code",
   "execution_count": null,
   "id": "7e5749b7",
   "metadata": {},
   "outputs": [],
   "source": [
    "[14,15,16]\n",
    "[3,9]\n",
    "[1,7,13]"
   ]
  },
  {
   "cell_type": "code",
   "execution_count": 148,
   "id": "a4387f7d",
   "metadata": {},
   "outputs": [
    {
     "data": {
      "text/plain": [
       "array([14, 15, 16])"
      ]
     },
     "execution_count": 148,
     "metadata": {},
     "output_type": "execute_result"
    }
   ],
   "source": [
    "arr[2,2:5]\n"
   ]
  },
  {
   "cell_type": "code",
   "execution_count": 173,
   "id": "6f21a9c1",
   "metadata": {},
   "outputs": [
    {
     "data": {
      "text/plain": [
       "array([3, 9])"
      ]
     },
     "execution_count": 173,
     "metadata": {},
     "output_type": "execute_result"
    }
   ],
   "source": [
    "arr[[0,1],3]"
   ]
  },
  {
   "cell_type": "code",
   "execution_count": 184,
   "id": "300129e4",
   "metadata": {},
   "outputs": [
    {
     "data": {
      "text/plain": [
       "array([ 1,  7, 13])"
      ]
     },
     "execution_count": 184,
     "metadata": {},
     "output_type": "execute_result"
    }
   ],
   "source": [
    "arr[:3,1]\n",
    "arr[[0,1,2],1]"
   ]
  },
  {
   "cell_type": "code",
   "execution_count": 185,
   "id": "e366154e",
   "metadata": {},
   "outputs": [
    {
     "name": "stdout",
     "output_type": "stream",
     "text": [
      "[[0, 1, 2, 3, 4, 5], [6, 7, 8, 9, 10, 11], [12, 13, 14, 15, 16, 17], [18, 19, 20, 21, 22, 23], [24, 25, 26, 27, 28, 29]] <class 'list'>\n"
     ]
    }
   ],
   "source": [
    "# 배열을 리스트로 변환\n",
    "li = arr.tolist()\n",
    "print(li,type(li))"
   ]
  },
  {
   "cell_type": "code",
   "execution_count": 191,
   "id": "5ec35922",
   "metadata": {},
   "outputs": [
    {
     "name": "stdout",
     "output_type": "stream",
     "text": [
      "[1 2 3 4 5 6 7 8 9]\n",
      "[6 7 8 9]\n",
      "[False False False False False  True  True  True  True]\n"
     ]
    }
   ],
   "source": [
    "# Boolean indexing\n",
    "arr1d = np.arange(1,10)\n",
    "print(arr1d)\n",
    "arr3 = arr1d[arr1d > 5]\n",
    "print(arr3)\n",
    "print(arr1d > 5)"
   ]
  },
  {
   "cell_type": "code",
   "execution_count": 195,
   "id": "6905e61f",
   "metadata": {},
   "outputs": [
    {
     "name": "stdout",
     "output_type": "stream",
     "text": [
      "[6 7 8 9]\n"
     ]
    }
   ],
   "source": [
    "# arr1d에서 일반 인덱스를 이용해서 [6 7 8 9]를 출력하세요.\n",
    "print(arr1d[5:])"
   ]
  },
  {
   "cell_type": "code",
   "execution_count": 202,
   "id": "d6fd4598",
   "metadata": {},
   "outputs": [
    {
     "name": "stdout",
     "output_type": "stream",
     "text": [
      "[11 12 13 14]\n"
     ]
    }
   ],
   "source": [
    "# Q. 1 ~ 14 까지의 ndarray를 만들어 array_e로 저장하고 (array_e / 2) > 5를 만족하는 값을 boolean 인덱싱으로 출력\n",
    "array_e = np.arange(15)\n",
    "print(array_e[array_e/2 > 5])"
   ]
  },
  {
   "cell_type": "code",
   "execution_count": 199,
   "id": "ee3687b6",
   "metadata": {},
   "outputs": [
    {
     "name": "stdout",
     "output_type": "stream",
     "text": [
      "['Bob' 'Joe' 'Will' 'Bob' 'will' 'joe' 'joe'] \n",
      "\n",
      "[[ 0.84018891  1.56924131 -0.49406331 -0.78941544]\n",
      " [ 2.22130178 -1.26977578 -0.6175739   1.22812665]\n",
      " [-0.66798985 -0.08387947  0.82759317 -0.72117709]\n",
      " [-0.51251733 -0.9271782  -1.47562007 -1.44366835]\n",
      " [ 0.00788121  1.91013542 -1.48650318 -0.70890341]\n",
      " [-0.55909732  1.79374464 -0.1854024  -0.93414249]\n",
      " [ 1.10905967  0.68422402  0.10502296  0.24069467]]\n"
     ]
    }
   ],
   "source": [
    "names = np.array(['Bob','Joe','Will','Bob',\"will\",'joe','joe'])\n",
    "data = np.random.randn(7,4)\n",
    "print(names,'\\n')\n",
    "print(data)"
   ]
  },
  {
   "cell_type": "code",
   "execution_count": 203,
   "id": "e698d633",
   "metadata": {},
   "outputs": [
    {
     "data": {
      "text/plain": [
       "array([ True, False, False,  True, False, False, False])"
      ]
     },
     "execution_count": 203,
     "metadata": {},
     "output_type": "execute_result"
    }
   ],
   "source": [
    "names == 'Bob'"
   ]
  },
  {
   "cell_type": "code",
   "execution_count": 204,
   "id": "ded2dfcb",
   "metadata": {},
   "outputs": [
    {
     "data": {
      "text/plain": [
       "array([[ 0.84018891,  1.56924131, -0.49406331, -0.78941544],\n",
       "       [-0.51251733, -0.9271782 , -1.47562007, -1.44366835]])"
      ]
     },
     "execution_count": 204,
     "metadata": {},
     "output_type": "execute_result"
    }
   ],
   "source": [
    "data[names=='Bob']"
   ]
  },
  {
   "cell_type": "code",
   "execution_count": 205,
   "id": "03e525b2",
   "metadata": {},
   "outputs": [
    {
     "data": {
      "text/plain": [
       "array([[-0.49406331, -0.78941544],\n",
       "       [-1.47562007, -1.44366835]])"
      ]
     },
     "execution_count": 205,
     "metadata": {},
     "output_type": "execute_result"
    }
   ],
   "source": [
    "data[names=='Bob',2:]"
   ]
  },
  {
   "cell_type": "code",
   "execution_count": 206,
   "id": "b2292399",
   "metadata": {},
   "outputs": [
    {
     "data": {
      "text/plain": [
       "array([[ 2.22130178, -1.26977578, -0.6175739 ,  1.22812665],\n",
       "       [-0.66798985, -0.08387947,  0.82759317, -0.72117709],\n",
       "       [ 0.00788121,  1.91013542, -1.48650318, -0.70890341],\n",
       "       [-0.55909732,  1.79374464, -0.1854024 , -0.93414249],\n",
       "       [ 1.10905967,  0.68422402,  0.10502296,  0.24069467]])"
      ]
     },
     "execution_count": 206,
     "metadata": {},
     "output_type": "execute_result"
    }
   ],
   "source": [
    "data[names != 'Bob']"
   ]
  },
  {
   "cell_type": "code",
   "execution_count": 226,
   "id": "53e2c809",
   "metadata": {},
   "outputs": [
    {
     "data": {
      "text/plain": [
       "array([[ 0.84018891,  1.56924131, -0.49406331, -0.78941544],\n",
       "       [-0.66798985, -0.08387947,  0.82759317, -0.72117709],\n",
       "       [-0.51251733, -0.9271782 , -1.47562007, -1.44366835]])"
      ]
     },
     "execution_count": 226,
     "metadata": {},
     "output_type": "execute_result"
    }
   ],
   "source": [
    "# Bob이거나 Will인 것 출력\n",
    "data[(names == 'Bob') | (names=='Will')]\n",
    "mask = (names == 'Bob') | (names=='Will')\n",
    "data[mask]"
   ]
  },
  {
   "cell_type": "code",
   "execution_count": 228,
   "id": "a6f62f41",
   "metadata": {},
   "outputs": [
    {
     "name": "stdout",
     "output_type": "stream",
     "text": [
      "[[0.84018891 1.56924131 0.         0.        ]\n",
      " [2.22130178 0.         0.         1.22812665]\n",
      " [0.         0.         0.82759317 0.        ]\n",
      " [0.         0.         0.         0.        ]\n",
      " [0.00788121 1.91013542 0.         0.        ]\n",
      " [0.         1.79374464 0.         0.        ]\n",
      " [1.10905967 0.68422402 0.10502296 0.24069467]]\n"
     ]
    }
   ],
   "source": [
    "# 음수를 모두 0으로 처리하여 출력\n",
    "data[data<0]=0\n",
    "print(data)"
   ]
  },
  {
   "cell_type": "code",
   "execution_count": 244,
   "id": "e9e7cdb3",
   "metadata": {},
   "outputs": [
    {
     "name": "stdout",
     "output_type": "stream",
     "text": [
      "[3, 6, 9, 12, 15, 18, 21, 24, 27, 30, 33, 36, 39, 42, 45, 48, 51, 54, 57, 60, 63, 66, 69, 72, 75, 78, 81, 84, 87, 90, 93, 96, 99] \n",
      "\n",
      "[ 3  6  9 12 15 18 21 24 27 30 33 36 39 42 45 48 51 54 57 60 63 66 69 72\n",
      " 75 78 81 84 87 90 93 96 99]\n"
     ]
    }
   ],
   "source": [
    "# [과제] 1 ~ 100까지 정수에서 3의 배수인 것만을 출력 (for문,배열 두가지 방식)\n",
    "li=[]\n",
    "for i in range(1,101):\n",
    "    if i % 3 == 0:\n",
    "        li.append(i)\n",
    "print(li,'\\n')\n",
    "\n",
    "arr = np.arange(1,101)\n",
    "print(arr[arr%3==0])\n",
    "    "
   ]
  },
  {
   "cell_type": "code",
   "execution_count": 250,
   "id": "ff2d85ab",
   "metadata": {},
   "outputs": [
    {
     "name": "stdout",
     "output_type": "stream",
     "text": [
      "[10, 20, 30, 40, 50, 60, 70, 80, 90, 100] \n",
      "\n",
      "[ 10  20  30  40  50  60  70  80  90 100]\n"
     ]
    }
   ],
   "source": [
    "# [과제] 1 ~ 100까지 정수에서 5의 배수이면서 2의 배수인 것만을 출력 (for문,배열 두가지 방식)\n",
    "li=[]\n",
    "for i in range(1,101):\n",
    "    if i % 5 == 0 and i % 2 ==0:\n",
    "        li.append(i)\n",
    "print(li,'\\n')\n",
    "\n",
    "arr = np.arange(1,101)\n",
    "print(arr[(arr%5==0) & (arr%2==0)])"
   ]
  },
  {
   "cell_type": "code",
   "execution_count": 270,
   "id": "948c3592",
   "metadata": {},
   "outputs": [
    {
     "name": "stdout",
     "output_type": "stream",
     "text": [
      "[[-0.40926731 -2.34080607 -0.20474715 -1.43682172  0.7822186 ]\n",
      " [-0.9319652  -2.09853301  2.09083527  0.94470534  0.26540013]\n",
      " [ 1.71666258 -0.90306254 -1.50488965 -1.00465801 -0.82091576]\n",
      " [-0.19586734 -1.2869266   1.95413303 -0.82409959  0.03515676]\n",
      " [-1.13209728  1.12918654  0.24546472 -0.4448283   0.27088308]] \n",
      "\n",
      "-0.24419358023180315\n",
      "1.170869806210642\n"
     ]
    }
   ],
   "source": [
    "# [과제] 표준정규분포로 구성된 5행 5열 다차원 배열을 생성하고 함수를 이용하여 평균과 표준편차를 구하세요.\n",
    "arr = np.random.randn(5,5)\n",
    "print(arr,'\\n')\n",
    "print(arr.mean())\n",
    "print(np.std(arr))"
   ]
  },
  {
   "cell_type": "code",
   "execution_count": 271,
   "id": "3bd03083",
   "metadata": {},
   "outputs": [
    {
     "data": {
      "text/plain": [
       "'1.21.2'"
      ]
     },
     "execution_count": 271,
     "metadata": {},
     "output_type": "execute_result"
    }
   ],
   "source": [
    "# [과제] 현재 사용하고 있는 numpy의 버전을 출력하세요.\n",
    "np.version.version"
   ]
  },
  {
   "cell_type": "code",
   "execution_count": 272,
   "id": "50e93d31",
   "metadata": {},
   "outputs": [
    {
     "name": "stdout",
     "output_type": "stream",
     "text": [
      "add(x1, x2, /, out=None, *, where=True, casting='same_kind', order='K', dtype=None, subok=True[, signature, extobj])\n",
      "\n",
      "Add arguments element-wise.\n",
      "\n",
      "Parameters\n",
      "----------\n",
      "x1, x2 : array_like\n",
      "    The arrays to be added.\n",
      "    If ``x1.shape != x2.shape``, they must be broadcastable to a common\n",
      "    shape (which becomes the shape of the output).\n",
      "out : ndarray, None, or tuple of ndarray and None, optional\n",
      "    A location into which the result is stored. If provided, it must have\n",
      "    a shape that the inputs broadcast to. If not provided or None,\n",
      "    a freshly-allocated array is returned. A tuple (possible only as a\n",
      "    keyword argument) must have length equal to the number of outputs.\n",
      "where : array_like, optional\n",
      "    This condition is broadcast over the input. At locations where the\n",
      "    condition is True, the `out` array will be set to the ufunc result.\n",
      "    Elsewhere, the `out` array will retain its original value.\n",
      "    Note that if an uninitialized `out` array is created via the default\n",
      "    ``out=None``, locations within it where the condition is False will\n",
      "    remain uninitialized.\n",
      "**kwargs\n",
      "    For other keyword-only arguments, see the\n",
      "    :ref:`ufunc docs <ufuncs.kwargs>`.\n",
      "\n",
      "Returns\n",
      "-------\n",
      "add : ndarray or scalar\n",
      "    The sum of `x1` and `x2`, element-wise.\n",
      "    This is a scalar if both `x1` and `x2` are scalars.\n",
      "\n",
      "Notes\n",
      "-----\n",
      "Equivalent to `x1` + `x2` in terms of array broadcasting.\n",
      "\n",
      "Examples\n",
      "--------\n",
      ">>> np.add(1.0, 4.0)\n",
      "5.0\n",
      ">>> x1 = np.arange(9.0).reshape((3, 3))\n",
      ">>> x2 = np.arange(3.0)\n",
      ">>> np.add(x1, x2)\n",
      "array([[  0.,   2.,   4.],\n",
      "       [  3.,   5.,   7.],\n",
      "       [  6.,   8.,  10.]])\n",
      "\n",
      "The ``+`` operator can be used as a shorthand for ``np.add`` on ndarrays.\n",
      "\n",
      ">>> x1 = np.arange(9.0).reshape((3, 3))\n",
      ">>> x2 = np.arange(3.0)\n",
      ">>> x1 + x2\n",
      "array([[ 0.,  2.,  4.],\n",
      "       [ 3.,  5.,  7.],\n",
      "       [ 6.,  8., 10.]])\n"
     ]
    }
   ],
   "source": [
    "# [과제] numpy 함수의 도움말 기능을 볼 수 있는 방법을 수행하여 add함수의 가이드를 출력하세요.\n",
    "np.info(np.add)"
   ]
  },
  {
   "cell_type": "code",
   "execution_count": 237,
   "id": "471796fb",
   "metadata": {},
   "outputs": [
    {
     "data": {
      "text/plain": [
       "array([0., 0., 0., 0., 1., 0., 0., 0., 0., 0.])"
      ]
     },
     "execution_count": 237,
     "metadata": {},
     "output_type": "execute_result"
    }
   ],
   "source": [
    "# [과제] zeros 함수를 이용해서 아래와 같이 출력하세요.\n",
    "# array([0., 0., 0., 0., 1., 0., 0., 0., 0., 0.])\n",
    "a=np.zeros(10)\n",
    "a[4]=1\n",
    "a"
   ]
  },
  {
   "cell_type": "code",
   "execution_count": 310,
   "id": "52ca741b",
   "metadata": {},
   "outputs": [
    {
     "name": "stdout",
     "output_type": "stream",
     "text": [
      "[0 1 2 3 4 5 6 7 8 9]\n",
      "[9 8 7 6 5 4 3 2 1 0]\n"
     ]
    }
   ],
   "source": [
    "# [과제] 인덱싱을 이용하여 아래 배열을 내림차순으로 정렬하세요.\n",
    "# [0, 1, 2, 3, 4, 5, 6, 7, 8, 9]\n",
    "arr=np.arange(10)\n",
    "print(arr)\n",
    "print(np.sort(arr)[::-1])"
   ]
  },
  {
   "cell_type": "code",
   "execution_count": 316,
   "id": "5249c962",
   "metadata": {},
   "outputs": [
    {
     "data": {
      "text/plain": [
       "array([1, 2, 4])"
      ]
     },
     "execution_count": 316,
     "metadata": {},
     "output_type": "execute_result"
    }
   ],
   "source": [
    "# [과제] [1,2,0,0,4,0]에서 zero가 아닌 인덱스를 배열 형태로 출력하세요.\n",
    "li = [1,2,0,0,4,0]\n",
    "arr = np.array(li)\n",
    "arr\n",
    "arr[arr!=0]"
   ]
  }
 ],
 "metadata": {
  "kernelspec": {
   "display_name": "Python 3 (ipykernel)",
   "language": "python",
   "name": "python3"
  },
  "language_info": {
   "codemirror_mode": {
    "name": "ipython",
    "version": 3
   },
   "file_extension": ".py",
   "mimetype": "text/x-python",
   "name": "python",
   "nbconvert_exporter": "python",
   "pygments_lexer": "ipython3",
   "version": "3.8.12"
  }
 },
 "nbformat": 4,
 "nbformat_minor": 5
}
