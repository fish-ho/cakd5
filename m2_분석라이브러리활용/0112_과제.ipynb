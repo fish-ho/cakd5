{
 "cells": [
  {
   "cell_type": "code",
   "execution_count": 2,
   "id": "ab707dca",
   "metadata": {},
   "outputs": [],
   "source": [
    "import pandas as pd\n",
    "import numpy as np"
   ]
  },
  {
   "cell_type": "code",
   "execution_count": 3,
   "id": "da7fdcb6",
   "metadata": {},
   "outputs": [
    {
     "data": {
      "text/html": [
       "<div>\n",
       "<style scoped>\n",
       "    .dataframe tbody tr th:only-of-type {\n",
       "        vertical-align: middle;\n",
       "    }\n",
       "\n",
       "    .dataframe tbody tr th {\n",
       "        vertical-align: top;\n",
       "    }\n",
       "\n",
       "    .dataframe thead th {\n",
       "        text-align: right;\n",
       "    }\n",
       "</style>\n",
       "<table border=\"1\" class=\"dataframe\">\n",
       "  <thead>\n",
       "    <tr style=\"text-align: right;\">\n",
       "      <th></th>\n",
       "      <th>kor</th>\n",
       "      <th>eng</th>\n",
       "      <th>art</th>\n",
       "      <th>math</th>\n",
       "      <th>gym</th>\n",
       "      <th>sci</th>\n",
       "    </tr>\n",
       "  </thead>\n",
       "  <tbody>\n",
       "    <tr>\n",
       "      <th>jim</th>\n",
       "      <td>82</td>\n",
       "      <td>85</td>\n",
       "      <td>91</td>\n",
       "      <td>70</td>\n",
       "      <td>73</td>\n",
       "      <td>97</td>\n",
       "    </tr>\n",
       "    <tr>\n",
       "      <th>sam</th>\n",
       "      <td>73</td>\n",
       "      <td>77</td>\n",
       "      <td>79</td>\n",
       "      <td>89</td>\n",
       "      <td>91</td>\n",
       "      <td>88</td>\n",
       "    </tr>\n",
       "    <tr>\n",
       "      <th>tom</th>\n",
       "      <td>74</td>\n",
       "      <td>93</td>\n",
       "      <td>76</td>\n",
       "      <td>94</td>\n",
       "      <td>94</td>\n",
       "      <td>82</td>\n",
       "    </tr>\n",
       "    <tr>\n",
       "      <th>tim</th>\n",
       "      <td>96</td>\n",
       "      <td>71</td>\n",
       "      <td>76</td>\n",
       "      <td>77</td>\n",
       "      <td>93</td>\n",
       "      <td>84</td>\n",
       "    </tr>\n",
       "    <tr>\n",
       "      <th>bob</th>\n",
       "      <td>94</td>\n",
       "      <td>87</td>\n",
       "      <td>75</td>\n",
       "      <td>95</td>\n",
       "      <td>83</td>\n",
       "      <td>78</td>\n",
       "    </tr>\n",
       "  </tbody>\n",
       "</table>\n",
       "</div>"
      ],
      "text/plain": [
       "     kor  eng  art  math  gym  sci\n",
       "jim   82   85   91    70   73   97\n",
       "sam   73   77   79    89   91   88\n",
       "tom   74   93   76    94   94   82\n",
       "tim   96   71   76    77   93   84\n",
       "bob   94   87   75    95   83   78"
      ]
     },
     "execution_count": 3,
     "metadata": {},
     "output_type": "execute_result"
    }
   ],
   "source": [
    "np.random.seed(0)\n",
    "col=['kor','eng','art','math','gym','sci']\n",
    "index=['jim','sam','tom','tim','bob']\n",
    "data=np.random.randint(70,100,size=(5,6))\n",
    "df=pd.DataFrame(data,index,columns=col)\n",
    "df"
   ]
  },
  {
   "cell_type": "markdown",
   "id": "72d77404",
   "metadata": {},
   "source": [
    "[과제] iloc, loc를 이용해서 아래 요구사항들을 출력하세요\n",
    "- df의 kor열을 series와 dataframe을 각각 출력\n",
    "- df에서 sam의 math 점수를 출력 (2가지 방법)\n",
    "- df에서 tom의 eng와 sci 점수를 출력 (2가지 방법)\n",
    "- df에서 jim, tim의 eng, gym 점수를 출력\n",
    "- df에서 jim, sam의 art, math, gym 점수를 출력"
   ]
  },
  {
   "cell_type": "code",
   "execution_count": 10,
   "id": "99ff74c9",
   "metadata": {},
   "outputs": [
    {
     "name": "stdout",
     "output_type": "stream",
     "text": [
      "jim    82\n",
      "sam    73\n",
      "tom    74\n",
      "tim    96\n",
      "bob    94\n",
      "Name: kor, dtype: int32 <class 'pandas.core.series.Series'>\n",
      "jim    82\n",
      "sam    73\n",
      "tom    74\n",
      "tim    96\n",
      "bob    94\n",
      "Name: kor, dtype: int32 <class 'pandas.core.series.Series'>\n"
     ]
    }
   ],
   "source": [
    "#df의 kor열을 series와 dataframe을 각각 출력\n",
    "k_s=df.loc[:,'kor']\n",
    "k_d=df.iloc[:,0]\n",
    "print(k_s,type(k_s))\n",
    "print(k_d,type(k_d))\n"
   ]
  },
  {
   "cell_type": "markdown",
   "id": "2701660d",
   "metadata": {},
   "source": [
    "[과제] iloc, loc를 이용해서 아래 요구사항들을 출력하세요\n",
    "- df에서 sam의 math 점수를 100으로 변경\n",
    "- df에서 tom의 eng와 math 점수를 100으로 변경\n",
    "- df에서 jim, tim의 kor, gym 점수를 null값으로 변경\n",
    "- df에서 math와 gym 점수를 바꾸어 출력"
   ]
  },
  {
   "cell_type": "code",
   "execution_count": null,
   "id": "aea03c59",
   "metadata": {},
   "outputs": [],
   "source": []
  },
  {
   "cell_type": "markdown",
   "id": "6503f4a8",
   "metadata": {},
   "source": [
    "[과제] 데이터 추출(인덱싱, 조건), 변경, 삭제, 정렬, 칼럼 병합(sibsp + parch = family) 등을 수행하여 데이터에서 인사이트를 찾아보세요.\n",
    "\n",
    "- survived : 생존여부\n",
    "- pclass : 등급\n",
    "- sex : 성별\n",
    "- age : 나이\n",
    "- sibsp : 탑승한 형제/배우자 수\n",
    "- parch : 탑승한 부모/자녀 수\n",
    "- fare : 승객 지불 요금\n",
    "- embarked : 승선항 (C = 쉘 부르그, Q = 퀸즈타운, S = 사우스 햄튼)\n",
    "- adult_male : 성인 남성 여부\n",
    "- deck : 플랫폼 번호\n",
    "- alive : 생존 여부\n",
    "- alone : 혼자 여부"
   ]
  },
  {
   "cell_type": "code",
   "execution_count": null,
   "id": "b2881e1b",
   "metadata": {},
   "outputs": [],
   "source": [
    "import seaborn as sns\n",
    "df=sns.load_dataset('titanic')\n",
    "df"
   ]
  }
 ],
 "metadata": {
  "kernelspec": {
   "display_name": "Python 3 (ipykernel)",
   "language": "python",
   "name": "python3"
  },
  "language_info": {
   "codemirror_mode": {
    "name": "ipython",
    "version": 3
   },
   "file_extension": ".py",
   "mimetype": "text/x-python",
   "name": "python",
   "nbconvert_exporter": "python",
   "pygments_lexer": "ipython3",
   "version": "3.8.12"
  }
 },
 "nbformat": 4,
 "nbformat_minor": 5
}
