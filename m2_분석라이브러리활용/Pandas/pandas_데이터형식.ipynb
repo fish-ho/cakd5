{
 "cells": [
  {
   "cell_type": "markdown",
   "id": "b919da36",
   "metadata": {},
   "source": [
    "## 판다스\n",
    "- 판다스는 구조화된 데이터 형식을 제공. 시리즈는 1차원 배열, 데이터프레임은 2차원 배열\n",
    "- 라이브러리는 여러 종류의 class와 다양한 내장 함수로 구성. 시리즈와 데이터프레임은 대표적인 클래스 객체임\n",
    "- 시리즈 인덱스는 데이터값과 일대일 대응. 파이썬 딕셔너리와 비슷한 구조. pandas.Series(딕셔너리)\n",
    "- Contents\n",
    " - Series(변환, 인덱스 구조, 원소 선택)\n",
    " - DataFrmae(변환, 인덱스, 삭제, 선택, 추가, 변경, 전치 등)"
   ]
  },
  {
   "cell_type": "code",
   "execution_count": 2,
   "id": "63b1b4c2",
   "metadata": {},
   "outputs": [
    {
     "name": "stdout",
     "output_type": "stream",
     "text": [
      "a    1\n",
      "b    2\n",
      "c    3\n",
      "dtype: int64 <class 'pandas.core.series.Series'>\n"
     ]
    }
   ],
   "source": [
    "# 시리즈 클래스 만들기\n",
    "import pandas as pd\n",
    "\n",
    "dic_data={'a':1, 'b':2, 'c':3}\n",
    "sr=pd.Series(dic_data)\n",
    "print(sr,type(sr))"
   ]
  },
  {
   "cell_type": "code",
   "execution_count": 2,
   "id": "b775715c",
   "metadata": {},
   "outputs": [
    {
     "name": "stdout",
     "output_type": "stream",
     "text": [
      "a    2019-10-02\n",
      "b          3.14\n",
      "c           ABC\n",
      "d           100\n",
      "e          True\n",
      "dtype: object <class 'pandas.core.series.Series'>\n"
     ]
    }
   ],
   "source": [
    "# 리스트를 시리즈로 변환\n",
    "\n",
    "list_data = ['2019-10-02', 3.14, 'ABC', 100, True]\n",
    "sr=pd.Series(list_data, index=['a','b','c','d','e'])\n",
    "print(sr,type(sr))"
   ]
  },
  {
   "cell_type": "code",
   "execution_count": 4,
   "id": "0178a6ac",
   "metadata": {},
   "outputs": [
    {
     "name": "stdout",
     "output_type": "stream",
     "text": [
      "Index(['a', 'b', 'c', 'd', 'e'], dtype='object') \n",
      "\n",
      "['2019-10-02' 3.14 'ABC' 100 True]\n"
     ]
    }
   ],
   "source": [
    "idx=sr.index\n",
    "print(idx,'\\n')\n",
    "val=sr.values\n",
    "print(val)"
   ]
  },
  {
   "cell_type": "code",
   "execution_count": 3,
   "id": "9c95f4fe",
   "metadata": {},
   "outputs": [
    {
     "name": "stdout",
     "output_type": "stream",
     "text": [
      "이름              영인\n",
      "생년월일    2015-05-01\n",
      "성별               여\n",
      "학생여부          True\n",
      "dtype: object <class 'pandas.core.series.Series'>\n"
     ]
    }
   ],
   "source": [
    "# 튜플을 시리즈로 변환\n",
    "tup_data = ('영인', '2015-05-01', '여', True)\n",
    "sr = pd.Series(tup_data, index=['이름','생년월일','성별','학생여부'])\n",
    "print(sr,type(sr))"
   ]
  },
  {
   "cell_type": "code",
   "execution_count": 9,
   "id": "9125d6a4",
   "metadata": {},
   "outputs": [
    {
     "name": "stdout",
     "output_type": "stream",
     "text": [
      "영인\n",
      "영인\n",
      "생년월일    2015-05-01\n",
      "성별               여\n",
      "dtype: object\n"
     ]
    }
   ],
   "source": [
    "print(sr[0])\n",
    "print(sr['이름'])\n",
    "print(sr[1:3])"
   ]
  },
  {
   "cell_type": "code",
   "execution_count": 3,
   "id": "346f2ad7",
   "metadata": {},
   "outputs": [
    {
     "name": "stdout",
     "output_type": "stream",
     "text": [
      "[11 12 13 14 15] <class 'numpy.ndarray'> \n",
      "\n",
      "ED1    11\n",
      "ED2    12\n",
      "ED3    13\n",
      "ED4    14\n",
      "ED5    15\n",
      "dtype: int32 <class 'pandas.core.series.Series'>\n"
     ]
    }
   ],
   "source": [
    "# 배열을 시리즈로 변환\n",
    "import numpy as np\n",
    "s1 = np.arange(start=11,stop=16)\n",
    "s2 = pd.Series(s1, index=['ED1','ED2','ED3','ED4','ED5'])\n",
    "print(s1,type(s1),'\\n')\n",
    "print(s2,type(s2))"
   ]
  },
  {
   "cell_type": "code",
   "execution_count": 15,
   "id": "e6e709cc",
   "metadata": {},
   "outputs": [
    {
     "name": "stdout",
     "output_type": "stream",
     "text": [
      "ED2    12\n",
      "ED3    13\n",
      "dtype: int32 \n",
      "\n",
      "ED2    12\n",
      "ED4    14\n",
      "dtype: int32\n"
     ]
    }
   ],
   "source": [
    "print(s2[1:3],'\\n')\n",
    "print(s2[[1,3]])"
   ]
  },
  {
   "cell_type": "code",
   "execution_count": 16,
   "id": "620e8365",
   "metadata": {},
   "outputs": [
    {
     "name": "stdout",
     "output_type": "stream",
     "text": [
      "<class 'pandas.core.series.Series'>\n",
      "[11 12 13 14 15] <class 'numpy.ndarray'>\n"
     ]
    }
   ],
   "source": [
    "# 시리즈 -> 배열\n",
    "\n",
    "print(type(s2))\n",
    "ar = np.array(s2)\n",
    "print(ar,type(ar))"
   ]
  },
  {
   "cell_type": "code",
   "execution_count": 22,
   "id": "412a3c69",
   "metadata": {},
   "outputs": [
    {
     "name": "stdout",
     "output_type": "stream",
     "text": [
      "0    가\n",
      "1    나\n",
      "2    다\n",
      "dtype: object \n",
      "\n",
      "0    1\n",
      "1    2\n",
      "2    3\n",
      "dtype: int64 \n",
      "\n",
      "a    1\n",
      "b    2\n",
      "c    3\n",
      "dtype: int64 \n",
      "\n",
      "0    ㄱ\n",
      "1    ㄴ\n",
      "2    ㄷ\n",
      "dtype: object\n"
     ]
    }
   ],
   "source": [
    "# Q. 4가지 자료형 데이터를 생성하고 각각 Series로 변환하여 출력하세요.\n",
    "li1=['가','나','다']\n",
    "tup1=(1,2,3)\n",
    "dic1={'a':1,'b':2,'c':3}\n",
    "arr1=np.array(['ㄱ','ㄴ','ㄷ'])\n",
    "\n",
    "li_s = pd.Series(li1)\n",
    "tup_s = pd.Series(tup1)\n",
    "dic_s = pd.Series(dic1)\n",
    "arr_s = pd.Series(arr1)\n",
    "\n",
    "print(li_s, '\\n')\n",
    "print(tup_s, '\\n')\n",
    "print(dic_s, '\\n')\n",
    "print(arr_s)"
   ]
  },
  {
   "cell_type": "code",
   "execution_count": 27,
   "id": "10d5eab4",
   "metadata": {},
   "outputs": [
    {
     "data": {
      "text/plain": [
       "state\n",
       "Califonia    1000\n",
       "Ohio         2000\n",
       "Oregon       3000\n",
       "Texas        4000\n",
       "Name: population, dtype: int32"
      ]
     },
     "execution_count": 27,
     "metadata": {},
     "output_type": "execute_result"
    }
   ],
   "source": [
    "data=np.arange(1000,5000,1000)\n",
    "obj=pd.Series(data)\n",
    "state = ['Califonia','Ohio','Oregon','Texas']\n",
    "obj.name='population'\n",
    "obj.index=state\n",
    "obj.index.name='state'\n",
    "obj"
   ]
  },
  {
   "cell_type": "code",
   "execution_count": 28,
   "id": "8f86dace",
   "metadata": {},
   "outputs": [
    {
     "data": {
      "text/plain": [
       "state\n",
       "Califonia       NaN\n",
       "Ohio         2000.0\n",
       "Oregon       3000.0\n",
       "Texas        4000.0\n",
       "Name: population, dtype: float64"
      ]
     },
     "execution_count": 28,
     "metadata": {},
     "output_type": "execute_result"
    }
   ],
   "source": [
    "obj.Califonia = np.nan\n",
    "obj"
   ]
  },
  {
   "cell_type": "code",
   "execution_count": 32,
   "id": "14e694db",
   "metadata": {},
   "outputs": [
    {
     "data": {
      "text/plain": [
       "state\n",
       "Califonia       NaN\n",
       "Ohio         2000.0\n",
       "Oregon       3000.0\n",
       "Texas        4000.0\n",
       "Newyork      3000.0\n",
       "Name: population, dtype: float64"
      ]
     },
     "execution_count": 32,
     "metadata": {},
     "output_type": "execute_result"
    }
   ],
   "source": [
    "obj['Newyork'] = 3000\n",
    "obj"
   ]
  },
  {
   "cell_type": "code",
   "execution_count": 33,
   "id": "18386532",
   "metadata": {},
   "outputs": [
    {
     "data": {
      "text/plain": [
       "3000.0"
      ]
     },
     "execution_count": 33,
     "metadata": {},
     "output_type": "execute_result"
    }
   ],
   "source": [
    "obj.Newyork"
   ]
  },
  {
   "cell_type": "code",
   "execution_count": 29,
   "id": "b08583c5",
   "metadata": {},
   "outputs": [
    {
     "data": {
      "text/plain": [
       "state\n",
       "Califonia     True\n",
       "Ohio         False\n",
       "Oregon       False\n",
       "Texas        False\n",
       "Name: population, dtype: bool"
      ]
     },
     "execution_count": 29,
     "metadata": {},
     "output_type": "execute_result"
    }
   ],
   "source": [
    "obj.isnull()"
   ]
  },
  {
   "cell_type": "markdown",
   "id": "dc8e1795",
   "metadata": {},
   "source": [
    "## 데이터프레임\n",
    "- 데이터프레임은 2차원 배열. R의 데이터프레임에서 유래\n",
    "- 데이터프레임의 열은 각각 시리즈 개체\n",
    "- 시리즈를 역벡터라고 하면 데이터프레임은 여러개의 열벡터들이 같은 행 인덱스를 기준으로 줄지어 결합된 2차원 벡터 또는 행렬\n",
    "- 션형대수학에서 열 벡터(mx1행렬)는 m 원소들의 단일 열 행렬\n",
    "- 행 벡터(!XM 헁렬은\n",
    "- 리스트, 딕셔너리, 배열 등 다양한 데이터로부터 생성\n",
    "- 반대로 리스트, 딕셔너리, 배열 등으로 변환될 수 있음"
   ]
  },
  {
   "cell_type": "code",
   "execution_count": 38,
   "id": "314fa5af",
   "metadata": {},
   "outputs": [
    {
     "name": "stdout",
     "output_type": "stream",
     "text": [
      "[[141 167 138]\n",
      " [113 197 120]\n",
      " [152 170 191]] <class 'numpy.ndarray'> \n",
      "\n",
      "     pd  sales  int\n",
      "d1  141    167  138\n",
      "d2  113    197  120\n",
      "d3  152    170  191 <class 'pandas.core.frame.DataFrame'>\n"
     ]
    }
   ],
   "source": [
    "# 배열 -> 데이터프레임\n",
    "ar=np.random.randint(100,200,size=(3,3))\n",
    "print(ar,type(ar),'\\n')\n",
    "df=pd.DataFrame(ar,index=['d1','d2','d3'],columns=['pd','sales','int'])\n",
    "print(df,type(df))"
   ]
  },
  {
   "cell_type": "markdown",
   "id": "bf1f91aa",
   "metadata": {},
   "source": [
    "pandas indexing\n",
    "- iloc : integer localtion의 약어, 데이터프레임의 행이나 칼럼의 순서를 나타내는 정수로 특정 값을 추출해오는 방법\n",
    "- loc : 인덱스명, 칼럼명을 직접 적거나 특정 조건식을 써줌으로써 사람이 읽기 좋은 방법으로 데이터에 접근하는 방법"
   ]
  },
  {
   "cell_type": "code",
   "execution_count": 39,
   "id": "53846976",
   "metadata": {},
   "outputs": [
    {
     "name": "stdout",
     "output_type": "stream",
     "text": [
      "pd       113\n",
      "sales    197\n",
      "int      120\n",
      "Name: d2, dtype: int32 \n",
      "\n",
      "pd       113\n",
      "sales    197\n",
      "int      120\n",
      "Name: d2, dtype: int32\n"
     ]
    }
   ],
   "source": [
    "# 행 선택\n",
    "print(df.iloc[1],'\\n')\n",
    "print(df.loc['d2'])"
   ]
  },
  {
   "cell_type": "code",
   "execution_count": 40,
   "id": "c4f087a7",
   "metadata": {},
   "outputs": [
    {
     "name": "stdout",
     "output_type": "stream",
     "text": [
      "197 \n",
      "\n",
      "197\n"
     ]
    }
   ],
   "source": [
    "# 특정 행, 열 선택\n",
    "print(df.iloc[1,1],'\\n')\n",
    "print(df.loc['d2','sales'])"
   ]
  },
  {
   "cell_type": "code",
   "execution_count": 42,
   "id": "00503aea",
   "metadata": {},
   "outputs": [
    {
     "data": {
      "text/html": [
       "<div>\n",
       "<style scoped>\n",
       "    .dataframe tbody tr th:only-of-type {\n",
       "        vertical-align: middle;\n",
       "    }\n",
       "\n",
       "    .dataframe tbody tr th {\n",
       "        vertical-align: top;\n",
       "    }\n",
       "\n",
       "    .dataframe thead th {\n",
       "        text-align: right;\n",
       "    }\n",
       "</style>\n",
       "<table border=\"1\" class=\"dataframe\">\n",
       "  <thead>\n",
       "    <tr style=\"text-align: right;\">\n",
       "      <th></th>\n",
       "      <th>pd</th>\n",
       "      <th>sales</th>\n",
       "      <th>int</th>\n",
       "    </tr>\n",
       "  </thead>\n",
       "  <tbody>\n",
       "    <tr>\n",
       "      <th>d1</th>\n",
       "      <td>141</td>\n",
       "      <td>167</td>\n",
       "      <td>138</td>\n",
       "    </tr>\n",
       "    <tr>\n",
       "      <th>d2</th>\n",
       "      <td>113</td>\n",
       "      <td>197</td>\n",
       "      <td>120</td>\n",
       "    </tr>\n",
       "    <tr>\n",
       "      <th>d3</th>\n",
       "      <td>152</td>\n",
       "      <td>170</td>\n",
       "      <td>191</td>\n",
       "    </tr>\n",
       "    <tr>\n",
       "      <th>d5</th>\n",
       "      <td>0</td>\n",
       "      <td>0</td>\n",
       "      <td>0</td>\n",
       "    </tr>\n",
       "  </tbody>\n",
       "</table>\n",
       "</div>"
      ],
      "text/plain": [
       "     pd  sales  int\n",
       "d1  141    167  138\n",
       "d2  113    197  120\n",
       "d3  152    170  191\n",
       "d5    0      0    0"
      ]
     },
     "execution_count": 42,
     "metadata": {},
     "output_type": "execute_result"
    }
   ],
   "source": [
    "# 행, 열 추가 \n",
    "df1=df.copy()\n",
    "df1.loc['d5']=0 # 행 추가\n",
    "df1"
   ]
  },
  {
   "cell_type": "code",
   "execution_count": 46,
   "id": "818b19df",
   "metadata": {},
   "outputs": [
    {
     "data": {
      "text/html": [
       "<div>\n",
       "<style scoped>\n",
       "    .dataframe tbody tr th:only-of-type {\n",
       "        vertical-align: middle;\n",
       "    }\n",
       "\n",
       "    .dataframe tbody tr th {\n",
       "        vertical-align: top;\n",
       "    }\n",
       "\n",
       "    .dataframe thead th {\n",
       "        text-align: right;\n",
       "    }\n",
       "</style>\n",
       "<table border=\"1\" class=\"dataframe\">\n",
       "  <thead>\n",
       "    <tr style=\"text-align: right;\">\n",
       "      <th></th>\n",
       "      <th>pd</th>\n",
       "      <th>sales</th>\n",
       "      <th>int</th>\n",
       "      <th>pf</th>\n",
       "    </tr>\n",
       "  </thead>\n",
       "  <tbody>\n",
       "    <tr>\n",
       "      <th>d1</th>\n",
       "      <td>141</td>\n",
       "      <td>167.0</td>\n",
       "      <td>138</td>\n",
       "      <td>138</td>\n",
       "    </tr>\n",
       "    <tr>\n",
       "      <th>d2</th>\n",
       "      <td>113</td>\n",
       "      <td>NaN</td>\n",
       "      <td>120</td>\n",
       "      <td>138</td>\n",
       "    </tr>\n",
       "    <tr>\n",
       "      <th>d3</th>\n",
       "      <td>152</td>\n",
       "      <td>170.0</td>\n",
       "      <td>191</td>\n",
       "      <td>138</td>\n",
       "    </tr>\n",
       "    <tr>\n",
       "      <th>d5</th>\n",
       "      <td>0</td>\n",
       "      <td>0.0</td>\n",
       "      <td>0</td>\n",
       "      <td>138</td>\n",
       "    </tr>\n",
       "  </tbody>\n",
       "</table>\n",
       "</div>"
      ],
      "text/plain": [
       "     pd  sales  int   pf\n",
       "d1  141  167.0  138  138\n",
       "d2  113    NaN  120  138\n",
       "d3  152  170.0  191  138\n",
       "d5    0    0.0    0  138"
      ]
     },
     "execution_count": 46,
     "metadata": {},
     "output_type": "execute_result"
    }
   ],
   "source": [
    "df1['pf']=np.random.randint(100,200) # 열 추가\n",
    "df1"
   ]
  },
  {
   "cell_type": "code",
   "execution_count": 43,
   "id": "b44a570d",
   "metadata": {},
   "outputs": [
    {
     "data": {
      "text/html": [
       "<div>\n",
       "<style scoped>\n",
       "    .dataframe tbody tr th:only-of-type {\n",
       "        vertical-align: middle;\n",
       "    }\n",
       "\n",
       "    .dataframe tbody tr th {\n",
       "        vertical-align: top;\n",
       "    }\n",
       "\n",
       "    .dataframe thead th {\n",
       "        text-align: right;\n",
       "    }\n",
       "</style>\n",
       "<table border=\"1\" class=\"dataframe\">\n",
       "  <thead>\n",
       "    <tr style=\"text-align: right;\">\n",
       "      <th></th>\n",
       "      <th>pd</th>\n",
       "      <th>sales</th>\n",
       "      <th>int</th>\n",
       "    </tr>\n",
       "  </thead>\n",
       "  <tbody>\n",
       "    <tr>\n",
       "      <th>d1</th>\n",
       "      <td>141</td>\n",
       "      <td>167.0</td>\n",
       "      <td>138</td>\n",
       "    </tr>\n",
       "    <tr>\n",
       "      <th>d2</th>\n",
       "      <td>113</td>\n",
       "      <td>NaN</td>\n",
       "      <td>120</td>\n",
       "    </tr>\n",
       "    <tr>\n",
       "      <th>d3</th>\n",
       "      <td>152</td>\n",
       "      <td>170.0</td>\n",
       "      <td>191</td>\n",
       "    </tr>\n",
       "    <tr>\n",
       "      <th>d5</th>\n",
       "      <td>0</td>\n",
       "      <td>0.0</td>\n",
       "      <td>0</td>\n",
       "    </tr>\n",
       "  </tbody>\n",
       "</table>\n",
       "</div>"
      ],
      "text/plain": [
       "     pd  sales  int\n",
       "d1  141  167.0  138\n",
       "d2  113    NaN  120\n",
       "d3  152  170.0  191\n",
       "d5    0    0.0    0"
      ]
     },
     "execution_count": 43,
     "metadata": {},
     "output_type": "execute_result"
    }
   ],
   "source": [
    "# 원소 값 변경\n",
    "df1.iloc[1,1] = np.nan\n",
    "df1"
   ]
  },
  {
   "cell_type": "code",
   "execution_count": 4,
   "id": "8221d838",
   "metadata": {},
   "outputs": [
    {
     "data": {
      "text/html": [
       "<div>\n",
       "<style scoped>\n",
       "    .dataframe tbody tr th:only-of-type {\n",
       "        vertical-align: middle;\n",
       "    }\n",
       "\n",
       "    .dataframe tbody tr th {\n",
       "        vertical-align: top;\n",
       "    }\n",
       "\n",
       "    .dataframe thead th {\n",
       "        text-align: right;\n",
       "    }\n",
       "</style>\n",
       "<table border=\"1\" class=\"dataframe\">\n",
       "  <thead>\n",
       "    <tr style=\"text-align: right;\">\n",
       "      <th></th>\n",
       "      <th>col1</th>\n",
       "      <th>col2</th>\n",
       "      <th>col3</th>\n",
       "    </tr>\n",
       "  </thead>\n",
       "  <tbody>\n",
       "    <tr>\n",
       "      <th>0</th>\n",
       "      <td>1</td>\n",
       "      <td>2</td>\n",
       "      <td>A</td>\n",
       "    </tr>\n",
       "    <tr>\n",
       "      <th>1</th>\n",
       "      <td>2</td>\n",
       "      <td>4</td>\n",
       "      <td>B</td>\n",
       "    </tr>\n",
       "    <tr>\n",
       "      <th>2</th>\n",
       "      <td>3</td>\n",
       "      <td>6</td>\n",
       "      <td>C</td>\n",
       "    </tr>\n",
       "    <tr>\n",
       "      <th>3</th>\n",
       "      <td>4</td>\n",
       "      <td>8</td>\n",
       "      <td>D</td>\n",
       "    </tr>\n",
       "    <tr>\n",
       "      <th>4</th>\n",
       "      <td>5</td>\n",
       "      <td>10</td>\n",
       "      <td>E</td>\n",
       "    </tr>\n",
       "  </tbody>\n",
       "</table>\n",
       "</div>"
      ],
      "text/plain": [
       "   col1  col2 col3\n",
       "0     1     2    A\n",
       "1     2     4    B\n",
       "2     3     6    C\n",
       "3     4     8    D\n",
       "4     5    10    E"
      ]
     },
     "execution_count": 4,
     "metadata": {},
     "output_type": "execute_result"
    }
   ],
   "source": [
    "# 사전 -> 데이터프레임\n",
    "sp1=np.arange(1,6)\n",
    "df = pd.DataFrame({\n",
    "    'col1':sp1,'col2':sp1 * 2,'col3':['A','B','C','D','E']\n",
    "})\n",
    "df"
   ]
  },
  {
   "cell_type": "code",
   "execution_count": 5,
   "id": "81da8250",
   "metadata": {},
   "outputs": [
    {
     "data": {
      "text/html": [
       "<div>\n",
       "<style scoped>\n",
       "    .dataframe tbody tr th:only-of-type {\n",
       "        vertical-align: middle;\n",
       "    }\n",
       "\n",
       "    .dataframe tbody tr th {\n",
       "        vertical-align: top;\n",
       "    }\n",
       "\n",
       "    .dataframe thead th {\n",
       "        text-align: right;\n",
       "    }\n",
       "</style>\n",
       "<table border=\"1\" class=\"dataframe\">\n",
       "  <thead>\n",
       "    <tr style=\"text-align: right;\">\n",
       "      <th></th>\n",
       "      <th>c1</th>\n",
       "      <th>c2</th>\n",
       "      <th>c3</th>\n",
       "      <th>c4</th>\n",
       "      <th>c5</th>\n",
       "    </tr>\n",
       "  </thead>\n",
       "  <tbody>\n",
       "    <tr>\n",
       "      <th>1</th>\n",
       "      <td>1</td>\n",
       "      <td>1</td>\n",
       "      <td>3</td>\n",
       "      <td>4</td>\n",
       "      <td>2</td>\n",
       "    </tr>\n",
       "    <tr>\n",
       "      <th>2</th>\n",
       "      <td>3</td>\n",
       "      <td>4</td>\n",
       "      <td>1</td>\n",
       "      <td>4</td>\n",
       "      <td>2</td>\n",
       "    </tr>\n",
       "    <tr>\n",
       "      <th>3</th>\n",
       "      <td>1</td>\n",
       "      <td>2</td>\n",
       "      <td>3</td>\n",
       "      <td>2</td>\n",
       "      <td>3</td>\n",
       "    </tr>\n",
       "    <tr>\n",
       "      <th>4</th>\n",
       "      <td>4</td>\n",
       "      <td>2</td>\n",
       "      <td>4</td>\n",
       "      <td>2</td>\n",
       "      <td>4</td>\n",
       "    </tr>\n",
       "    <tr>\n",
       "      <th>5</th>\n",
       "      <td>3</td>\n",
       "      <td>1</td>\n",
       "      <td>3</td>\n",
       "      <td>3</td>\n",
       "      <td>2</td>\n",
       "    </tr>\n",
       "    <tr>\n",
       "      <th>6</th>\n",
       "      <td>2</td>\n",
       "      <td>2</td>\n",
       "      <td>1</td>\n",
       "      <td>2</td>\n",
       "      <td>3</td>\n",
       "    </tr>\n",
       "    <tr>\n",
       "      <th>7</th>\n",
       "      <td>2</td>\n",
       "      <td>2</td>\n",
       "      <td>4</td>\n",
       "      <td>1</td>\n",
       "      <td>3</td>\n",
       "    </tr>\n",
       "    <tr>\n",
       "      <th>8</th>\n",
       "      <td>2</td>\n",
       "      <td>1</td>\n",
       "      <td>1</td>\n",
       "      <td>3</td>\n",
       "      <td>3</td>\n",
       "    </tr>\n",
       "    <tr>\n",
       "      <th>9</th>\n",
       "      <td>2</td>\n",
       "      <td>2</td>\n",
       "      <td>2</td>\n",
       "      <td>4</td>\n",
       "      <td>4</td>\n",
       "    </tr>\n",
       "    <tr>\n",
       "      <th>10</th>\n",
       "      <td>1</td>\n",
       "      <td>3</td>\n",
       "      <td>1</td>\n",
       "      <td>3</td>\n",
       "      <td>2</td>\n",
       "    </tr>\n",
       "  </tbody>\n",
       "</table>\n",
       "</div>"
      ],
      "text/plain": [
       "    c1  c2  c3  c4  c5\n",
       "1    1   1   3   4   2\n",
       "2    3   4   1   4   2\n",
       "3    1   2   3   2   3\n",
       "4    4   2   4   2   4\n",
       "5    3   1   3   3   2\n",
       "6    2   2   1   2   3\n",
       "7    2   2   4   1   3\n",
       "8    2   1   1   3   3\n",
       "9    2   2   2   4   4\n",
       "10   1   3   1   3   2"
      ]
     },
     "execution_count": 5,
     "metadata": {},
     "output_type": "execute_result"
    }
   ],
   "source": [
    "# 리스트 -> 데이터프레임\n",
    "a=np.random.randint(1,5,size=(10,5))\n",
    "list1=a.tolist()\n",
    "list1\n",
    "index=np.arange(1,11)\n",
    "df = pd.DataFrame(list1,index,columns=['c1','c2','c3','c4','c5'])\n",
    "df"
   ]
  },
  {
   "cell_type": "code",
   "execution_count": 9,
   "id": "ed74deab",
   "metadata": {},
   "outputs": [
    {
     "name": "stdout",
     "output_type": "stream",
     "text": [
      "[[1 1 3 4 2]\n",
      " [3 4 1 4 2]\n",
      " [1 2 3 2 3]\n",
      " [4 2 4 2 4]\n",
      " [3 1 3 3 2]\n",
      " [2 2 1 2 3]\n",
      " [2 2 4 1 3]\n",
      " [2 1 1 3 3]\n",
      " [2 2 2 4 4]\n",
      " [1 3 1 3 2]] <class 'numpy.ndarray'> \n",
      "\n",
      "[[1, 1, 3, 4, 2], [3, 4, 1, 4, 2], [1, 2, 3, 2, 3], [4, 2, 4, 2, 4], [3, 1, 3, 3, 2], [2, 2, 1, 2, 3], [2, 2, 4, 1, 3], [2, 1, 1, 3, 3], [2, 2, 2, 4, 4], [1, 3, 1, 3, 2]] <class 'list'> \n",
      "\n",
      "{'c1': [1, 3, 1, 4, 3, 2, 2, 2, 2, 1], 'c2': [1, 4, 2, 2, 1, 2, 2, 1, 2, 3], 'c3': [3, 1, 3, 4, 3, 1, 4, 1, 2, 1], 'c4': [4, 4, 2, 2, 3, 2, 1, 3, 4, 3], 'c5': [2, 2, 3, 4, 2, 3, 3, 3, 4, 2]} <class 'dict'>\n"
     ]
    }
   ],
   "source": [
    "# 데이터프레임 -> 배열, 리스트, 딕셔너리\n",
    "ar=df.values\n",
    "print(ar,type(ar),'\\n')\n",
    "li=df.values.tolist()\n",
    "print(li,type(li),'\\n')\n",
    "dic=df.to_dict('list')\n",
    "print(dic,type(dic))"
   ]
  },
  {
   "cell_type": "code",
   "execution_count": 93,
   "id": "26e529b7",
   "metadata": {},
   "outputs": [
    {
     "name": "stdout",
     "output_type": "stream",
     "text": [
      "[[5 1 3 7]\n",
      " [2 3 5 2]\n",
      " [6 6 7 4]\n",
      " [9 3 3 8]\n",
      " [4 4 2 9]] <class 'numpy.ndarray'> \n",
      "\n",
      "[[5, 1, 3, 7], [2, 3, 5, 2], [6, 6, 7, 4], [9, 3, 3, 8], [4, 4, 2, 9]] <class 'list'> \n",
      "\n",
      "{'d1': [1, 2, 3], 'd2': [2, 4, 6], 'd3': [3, 6, 9]} <class 'dict'>\n"
     ]
    }
   ],
   "source": [
    "# Q. 배열, 리스트, 딕셔너리로 데이터프레임을 생성한 후 다시 배열, 리스트, 딕셔너리로 변환하여 출력하세요.\n",
    "ar=np.random.randint(1,10,size=(5,4))\n",
    "li=ar.tolist()\n",
    "\n",
    "df_a=pd.DataFrame(ar,index=np.arange(1,6),columns=['a1','a2','a3','a4'])\n",
    "df_l=pd.DataFrame(li,index=np.arange(1,6),columns=['l1','l2','l3','l4'])\n",
    "df_d=pd.DataFrame({'d1':[1,2,3],'d2':[2,4,6],'d3':[3,6,9]})\n",
    "\n",
    "ar_r=df_a.values\n",
    "print(ar_r,type(ar_r),'\\n')\n",
    "li_r=df_l.values.tolist()\n",
    "print(li_r,type(li_r),'\\n')\n",
    "dic=df_d.to_dict('list')\n",
    "print(dic,type(dic))"
   ]
  },
  {
   "cell_type": "code",
   "execution_count": 96,
   "id": "ee598117",
   "metadata": {},
   "outputs": [
    {
     "data": {
      "text/html": [
       "<div>\n",
       "<style scoped>\n",
       "    .dataframe tbody tr th:only-of-type {\n",
       "        vertical-align: middle;\n",
       "    }\n",
       "\n",
       "    .dataframe tbody tr th {\n",
       "        vertical-align: top;\n",
       "    }\n",
       "\n",
       "    .dataframe thead th {\n",
       "        text-align: right;\n",
       "    }\n",
       "</style>\n",
       "<table border=\"1\" class=\"dataframe\">\n",
       "  <thead>\n",
       "    <tr style=\"text-align: right;\">\n",
       "      <th></th>\n",
       "      <th>차림표</th>\n",
       "    </tr>\n",
       "  </thead>\n",
       "  <tbody>\n",
       "    <tr>\n",
       "      <th>0</th>\n",
       "      <td>냉면</td>\n",
       "    </tr>\n",
       "    <tr>\n",
       "      <th>1</th>\n",
       "      <td>칼국수</td>\n",
       "    </tr>\n",
       "    <tr>\n",
       "      <th>2</th>\n",
       "      <td>잔치국수</td>\n",
       "    </tr>\n",
       "    <tr>\n",
       "      <th>3</th>\n",
       "      <td>수제비</td>\n",
       "    </tr>\n",
       "    <tr>\n",
       "      <th>4</th>\n",
       "      <td>우동</td>\n",
       "    </tr>\n",
       "  </tbody>\n",
       "</table>\n",
       "</div>"
      ],
      "text/plain": [
       "    차림표\n",
       "0    냉면\n",
       "1   칼국수\n",
       "2  잔치국수\n",
       "3   수제비\n",
       "4    우동"
      ]
     },
     "execution_count": 96,
     "metadata": {},
     "output_type": "execute_result"
    }
   ],
   "source": [
    "# file 생성\n",
    "li=['냉면','칼국수','잔치국수','수제비','우동']\n",
    "df1=pd.DataFrame(li,index=['메뉴1','메뉴2','메뉴3','메뉴4','메뉴5'],columns=['차림표'])\n",
    "df1.to_csv(\"C:\\cakd5\\workspace\\m2_분석라이브러리활용\\dataset/file_data_csv\",index=None)\n",
    "file_data=pd.read_csv(\"C:\\cakd5\\workspace\\m2_분석라이브러리활용\\dataset/file_data_csv\")\n",
    "file_data"
   ]
  }
 ],
 "metadata": {
  "kernelspec": {
   "display_name": "Python 3 (ipykernel)",
   "language": "python",
   "name": "python3"
  },
  "language_info": {
   "codemirror_mode": {
    "name": "ipython",
    "version": 3
   },
   "file_extension": ".py",
   "mimetype": "text/x-python",
   "name": "python",
   "nbconvert_exporter": "python",
   "pygments_lexer": "ipython3",
   "version": "3.8.12"
  }
 },
 "nbformat": 4,
 "nbformat_minor": 5
}
