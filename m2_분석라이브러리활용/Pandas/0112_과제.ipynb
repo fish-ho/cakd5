{
 "cells": [
  {
   "cell_type": "code",
   "execution_count": 2,
   "id": "443fec85",
   "metadata": {},
   "outputs": [],
   "source": [
    "import pandas as pd\n",
    "import numpy as np"
   ]
  },
  {
   "cell_type": "code",
   "execution_count": 40,
   "id": "f06adab1",
   "metadata": {},
   "outputs": [
    {
     "data": {
      "text/html": [
       "<div>\n",
       "<style scoped>\n",
       "    .dataframe tbody tr th:only-of-type {\n",
       "        vertical-align: middle;\n",
       "    }\n",
       "\n",
       "    .dataframe tbody tr th {\n",
       "        vertical-align: top;\n",
       "    }\n",
       "\n",
       "    .dataframe thead th {\n",
       "        text-align: right;\n",
       "    }\n",
       "</style>\n",
       "<table border=\"1\" class=\"dataframe\">\n",
       "  <thead>\n",
       "    <tr style=\"text-align: right;\">\n",
       "      <th></th>\n",
       "      <th>kor</th>\n",
       "      <th>eng</th>\n",
       "      <th>art</th>\n",
       "      <th>math</th>\n",
       "      <th>gym</th>\n",
       "      <th>sci</th>\n",
       "    </tr>\n",
       "  </thead>\n",
       "  <tbody>\n",
       "    <tr>\n",
       "      <th>jim</th>\n",
       "      <td>82</td>\n",
       "      <td>85</td>\n",
       "      <td>91</td>\n",
       "      <td>70</td>\n",
       "      <td>73</td>\n",
       "      <td>97</td>\n",
       "    </tr>\n",
       "    <tr>\n",
       "      <th>sam</th>\n",
       "      <td>73</td>\n",
       "      <td>77</td>\n",
       "      <td>79</td>\n",
       "      <td>89</td>\n",
       "      <td>91</td>\n",
       "      <td>88</td>\n",
       "    </tr>\n",
       "    <tr>\n",
       "      <th>tom</th>\n",
       "      <td>74</td>\n",
       "      <td>93</td>\n",
       "      <td>76</td>\n",
       "      <td>94</td>\n",
       "      <td>94</td>\n",
       "      <td>82</td>\n",
       "    </tr>\n",
       "    <tr>\n",
       "      <th>tim</th>\n",
       "      <td>96</td>\n",
       "      <td>71</td>\n",
       "      <td>76</td>\n",
       "      <td>77</td>\n",
       "      <td>93</td>\n",
       "      <td>84</td>\n",
       "    </tr>\n",
       "    <tr>\n",
       "      <th>bob</th>\n",
       "      <td>94</td>\n",
       "      <td>87</td>\n",
       "      <td>75</td>\n",
       "      <td>95</td>\n",
       "      <td>83</td>\n",
       "      <td>78</td>\n",
       "    </tr>\n",
       "  </tbody>\n",
       "</table>\n",
       "</div>"
      ],
      "text/plain": [
       "     kor  eng  art  math  gym  sci\n",
       "jim   82   85   91    70   73   97\n",
       "sam   73   77   79    89   91   88\n",
       "tom   74   93   76    94   94   82\n",
       "tim   96   71   76    77   93   84\n",
       "bob   94   87   75    95   83   78"
      ]
     },
     "execution_count": 40,
     "metadata": {},
     "output_type": "execute_result"
    }
   ],
   "source": [
    "np.random.seed(0)\n",
    "col=['kor','eng','art','math','gym','sci']\n",
    "index=['jim','sam','tom','tim','bob']\n",
    "data=np.random.randint(70,100,size=(5,6))\n",
    "df=pd.DataFrame(data,index,columns=col)\n",
    "df"
   ]
  },
  {
   "cell_type": "markdown",
   "id": "ebd1c951",
   "metadata": {},
   "source": [
    "[과제] iloc, loc를 이용해서 아래 요구사항들을 출력하세요\n",
    "- df의 kor열을 series와 dataframe을 각각 출력\n",
    "- df에서 sam의 math 점수를 출력 (2가지 방법)\n",
    "- df에서 tom의 eng와 sci 점수를 출력 (2가지 방법)\n",
    "- df에서 jim, tim의 eng, gym 점수를 출력\n",
    "- df에서 jim, sam의 art, math, gym 점수를 출력"
   ]
  },
  {
   "cell_type": "code",
   "execution_count": 12,
   "id": "56c76feb",
   "metadata": {},
   "outputs": [
    {
     "name": "stdout",
     "output_type": "stream",
     "text": [
      "jim    82\n",
      "sam    73\n",
      "tom    74\n",
      "tim    96\n",
      "bob    94\n",
      "Name: kor, dtype: int32 <class 'pandas.core.series.Series'>\n",
      "     kor\n",
      "jim   82\n",
      "sam   73\n",
      "tom   74\n",
      "tim   96\n",
      "bob   94 <class 'pandas.core.frame.DataFrame'>\n"
     ]
    }
   ],
   "source": [
    "#df의 kor열을 series와 dataframe을 각각 출력\n",
    "k_s=df.loc[:,'kor']\n",
    "k_d=pd.DataFrame(df.kor)\n",
    "print(k_s,type(k_s))\n",
    "print(k_d,type(k_d))\n"
   ]
  },
  {
   "cell_type": "code",
   "execution_count": 16,
   "id": "c854188c",
   "metadata": {},
   "outputs": [
    {
     "name": "stdout",
     "output_type": "stream",
     "text": [
      "89\n",
      "89\n"
     ]
    }
   ],
   "source": [
    "# df에서 sam의 math 점수를 출력 (2가지 방법)\n",
    "s_m1=df.loc['sam','math']\n",
    "s_m2=df.iloc[1,3]\n",
    "print(s_m1)\n",
    "print(s_m2)"
   ]
  },
  {
   "cell_type": "code",
   "execution_count": 21,
   "id": "389362d0",
   "metadata": {},
   "outputs": [
    {
     "name": "stdout",
     "output_type": "stream",
     "text": [
      "eng    93\n",
      "sci    82\n",
      "Name: tom, dtype: int32\n",
      "eng    93\n",
      "sci    82\n",
      "Name: tom, dtype: int32\n"
     ]
    }
   ],
   "source": [
    "# df에서 tom의 eng와 sci 점수를 출력 (2가지 방법)\n",
    "t_es1=df.loc['tom',['eng','sci']]\n",
    "t_es2=df.iloc[2,[1,5]]\n",
    "print(t_es1)\n",
    "print(t_es2)"
   ]
  },
  {
   "cell_type": "code",
   "execution_count": 23,
   "id": "231c0b3f",
   "metadata": {},
   "outputs": [
    {
     "name": "stdout",
     "output_type": "stream",
     "text": [
      "     eng  gym\n",
      "jim   85   73\n",
      "tom   93   94\n"
     ]
    }
   ],
   "source": [
    "# df에서 jim, tim의 eng, gym 점수를 출력\n",
    "jt_eg=df.loc[['jim','tom'],['eng','gym']]\n",
    "print(jt_eg)\n"
   ]
  },
  {
   "cell_type": "code",
   "execution_count": 25,
   "id": "6291c5ef",
   "metadata": {},
   "outputs": [
    {
     "name": "stdout",
     "output_type": "stream",
     "text": [
      "     art  math  gym\n",
      "jim   91    70   73\n",
      "sam   79    89   91\n"
     ]
    }
   ],
   "source": [
    "# df에서 jim, sam의 art, math, gym 점수를 출력\n",
    "js_amg=df.loc[['jim','sam'],['art','math','gym']]\n",
    "print(js_amg)"
   ]
  },
  {
   "cell_type": "markdown",
   "id": "5125e77f",
   "metadata": {},
   "source": [
    "[과제] iloc, loc를 이용해서 아래 요구사항들을 출력하세요\n",
    "- df에서 sam의 math 점수를 100으로 변경\n",
    "- df에서 tom의 eng와 math 점수를 100으로 변경\n",
    "- df에서 jim, tim의 kor, gym 점수를 null값으로 변경\n",
    "- df에서 math와 gym 점수를 바꾸어 출력"
   ]
  },
  {
   "cell_type": "code",
   "execution_count": 41,
   "id": "a3ac088c",
   "metadata": {},
   "outputs": [],
   "source": [
    "df1=df.copy()"
   ]
  },
  {
   "cell_type": "code",
   "execution_count": 42,
   "id": "35381027",
   "metadata": {},
   "outputs": [],
   "source": [
    "# df에서 sam의 math 점수를 100으로 변경\n",
    "df1.loc['sam','math'] = 100"
   ]
  },
  {
   "cell_type": "code",
   "execution_count": 43,
   "id": "4e1ef793",
   "metadata": {},
   "outputs": [],
   "source": [
    "# df에서 tom의 eng와 math 점수를 100으로 변경\n",
    "df1.loc['tom',['eng','math']] = 100"
   ]
  },
  {
   "cell_type": "code",
   "execution_count": 44,
   "id": "f139eba7",
   "metadata": {},
   "outputs": [],
   "source": [
    "# df에서 jim, tim의 kor, gym 점수를 null값으로 변경\n",
    "df1.loc[['jim','tim'],['kor','gym']] = np.nan"
   ]
  },
  {
   "cell_type": "code",
   "execution_count": 54,
   "id": "d63094c0",
   "metadata": {},
   "outputs": [
    {
     "data": {
      "text/html": [
       "<div>\n",
       "<style scoped>\n",
       "    .dataframe tbody tr th:only-of-type {\n",
       "        vertical-align: middle;\n",
       "    }\n",
       "\n",
       "    .dataframe tbody tr th {\n",
       "        vertical-align: top;\n",
       "    }\n",
       "\n",
       "    .dataframe thead th {\n",
       "        text-align: right;\n",
       "    }\n",
       "</style>\n",
       "<table border=\"1\" class=\"dataframe\">\n",
       "  <thead>\n",
       "    <tr style=\"text-align: right;\">\n",
       "      <th></th>\n",
       "      <th>kor</th>\n",
       "      <th>eng</th>\n",
       "      <th>art</th>\n",
       "      <th>math</th>\n",
       "      <th>gym</th>\n",
       "      <th>sci</th>\n",
       "    </tr>\n",
       "  </thead>\n",
       "  <tbody>\n",
       "    <tr>\n",
       "      <th>jim</th>\n",
       "      <td>NaN</td>\n",
       "      <td>85</td>\n",
       "      <td>91</td>\n",
       "      <td>70</td>\n",
       "      <td>NaN</td>\n",
       "      <td>97</td>\n",
       "    </tr>\n",
       "    <tr>\n",
       "      <th>sam</th>\n",
       "      <td>73.0</td>\n",
       "      <td>77</td>\n",
       "      <td>79</td>\n",
       "      <td>100</td>\n",
       "      <td>91.0</td>\n",
       "      <td>88</td>\n",
       "    </tr>\n",
       "    <tr>\n",
       "      <th>tom</th>\n",
       "      <td>74.0</td>\n",
       "      <td>100</td>\n",
       "      <td>76</td>\n",
       "      <td>100</td>\n",
       "      <td>94.0</td>\n",
       "      <td>82</td>\n",
       "    </tr>\n",
       "    <tr>\n",
       "      <th>tim</th>\n",
       "      <td>NaN</td>\n",
       "      <td>71</td>\n",
       "      <td>76</td>\n",
       "      <td>77</td>\n",
       "      <td>NaN</td>\n",
       "      <td>84</td>\n",
       "    </tr>\n",
       "    <tr>\n",
       "      <th>bob</th>\n",
       "      <td>94.0</td>\n",
       "      <td>87</td>\n",
       "      <td>75</td>\n",
       "      <td>95</td>\n",
       "      <td>83.0</td>\n",
       "      <td>78</td>\n",
       "    </tr>\n",
       "  </tbody>\n",
       "</table>\n",
       "</div>"
      ],
      "text/plain": [
       "      kor  eng  art  math   gym  sci\n",
       "jim   NaN   85   91    70   NaN   97\n",
       "sam  73.0   77   79   100  91.0   88\n",
       "tom  74.0  100   76   100  94.0   82\n",
       "tim   NaN   71   76    77   NaN   84\n",
       "bob  94.0   87   75    95  83.0   78"
      ]
     },
     "execution_count": 54,
     "metadata": {},
     "output_type": "execute_result"
    }
   ],
   "source": [
    "df1"
   ]
  },
  {
   "cell_type": "code",
   "execution_count": 52,
   "id": "a28388e0",
   "metadata": {},
   "outputs": [
    {
     "data": {
      "text/html": [
       "<div>\n",
       "<style scoped>\n",
       "    .dataframe tbody tr th:only-of-type {\n",
       "        vertical-align: middle;\n",
       "    }\n",
       "\n",
       "    .dataframe tbody tr th {\n",
       "        vertical-align: top;\n",
       "    }\n",
       "\n",
       "    .dataframe thead th {\n",
       "        text-align: right;\n",
       "    }\n",
       "</style>\n",
       "<table border=\"1\" class=\"dataframe\">\n",
       "  <thead>\n",
       "    <tr style=\"text-align: right;\">\n",
       "      <th></th>\n",
       "      <th>kor</th>\n",
       "      <th>eng</th>\n",
       "      <th>art</th>\n",
       "      <th>math</th>\n",
       "      <th>gym</th>\n",
       "      <th>sci</th>\n",
       "    </tr>\n",
       "  </thead>\n",
       "  <tbody>\n",
       "    <tr>\n",
       "      <th>jim</th>\n",
       "      <td>82</td>\n",
       "      <td>85</td>\n",
       "      <td>91</td>\n",
       "      <td>73</td>\n",
       "      <td>70</td>\n",
       "      <td>97</td>\n",
       "    </tr>\n",
       "    <tr>\n",
       "      <th>sam</th>\n",
       "      <td>73</td>\n",
       "      <td>77</td>\n",
       "      <td>79</td>\n",
       "      <td>91</td>\n",
       "      <td>89</td>\n",
       "      <td>88</td>\n",
       "    </tr>\n",
       "    <tr>\n",
       "      <th>tom</th>\n",
       "      <td>74</td>\n",
       "      <td>93</td>\n",
       "      <td>76</td>\n",
       "      <td>94</td>\n",
       "      <td>94</td>\n",
       "      <td>82</td>\n",
       "    </tr>\n",
       "    <tr>\n",
       "      <th>tim</th>\n",
       "      <td>96</td>\n",
       "      <td>71</td>\n",
       "      <td>76</td>\n",
       "      <td>93</td>\n",
       "      <td>77</td>\n",
       "      <td>84</td>\n",
       "    </tr>\n",
       "    <tr>\n",
       "      <th>bob</th>\n",
       "      <td>94</td>\n",
       "      <td>87</td>\n",
       "      <td>75</td>\n",
       "      <td>83</td>\n",
       "      <td>95</td>\n",
       "      <td>78</td>\n",
       "    </tr>\n",
       "  </tbody>\n",
       "</table>\n",
       "</div>"
      ],
      "text/plain": [
       "     kor  eng  art  math  gym  sci\n",
       "jim   82   85   91    73   70   97\n",
       "sam   73   77   79    91   89   88\n",
       "tom   74   93   76    94   94   82\n",
       "tim   96   71   76    93   77   84\n",
       "bob   94   87   75    83   95   78"
      ]
     },
     "execution_count": 52,
     "metadata": {},
     "output_type": "execute_result"
    }
   ],
   "source": [
    "# df에서 math와 gym 점수를 바꾸어 출력\n",
    "newdf=df.copy()\n",
    "newdf.math=df.gym\n",
    "newdf.gym=df.math\n",
    "newdf"
   ]
  },
  {
   "cell_type": "markdown",
   "id": "7973b93b",
   "metadata": {},
   "source": [
    "[과제] 데이터 추출(인덱싱, 조건), 변경, 삭제, 정렬, 칼럼 병합(sibsp + parch = family) 등을 수행하여 데이터에서 인사이트를 찾아보세요.\n",
    "\n",
    "- survived : 생존여부\n",
    "- pclass : 등급\n",
    "- sex : 성별\n",
    "- age : 나이\n",
    "- sibsp : 탑승한 형제/배우자 수\n",
    "- parch : 탑승한 부모/자녀 수\n",
    "- fare : 승객 지불 요금\n",
    "- embarked : 승선항 (C = 쉘 부르그, Q = 퀸즈타운, S = 사우스 햄튼)\n",
    "- adult_male : 성인 남성 여부\n",
    "- deck : 플랫폼 번호\n",
    "- alive : 생존 여부\n",
    "- alone : 혼자 여부"
   ]
  },
  {
   "cell_type": "code",
   "execution_count": null,
   "id": "709984cd",
   "metadata": {},
   "outputs": [],
   "source": [
    "import seaborn as sns\n",
    "df=sns.load_dataset('titanic')\n",
    "newdf=pd.concat(['family'])"
   ]
  }
 ],
 "metadata": {
  "kernelspec": {
   "display_name": "Python 3 (ipykernel)",
   "language": "python",
   "name": "python3"
  },
  "language_info": {
   "codemirror_mode": {
    "name": "ipython",
    "version": 3
   },
   "file_extension": ".py",
   "mimetype": "text/x-python",
   "name": "python",
   "nbconvert_exporter": "python",
   "pygments_lexer": "ipython3",
   "version": "3.8.12"
  }
 },
 "nbformat": 4,
 "nbformat_minor": 5
}
