{
 "cells": [
  {
   "cell_type": "markdown",
   "metadata": {},
   "source": [
    "### Q. titanic 데이터셋에서 age, fare 2개 열을 선택하여 데이터프레임 df를 만드세요"
   ]
  },
  {
   "cell_type": "markdown",
   "metadata": {},
   "source": [
    "### Q. 10을 더하는 함수 add_10 과 두 객체의 합 add_two_obj 함수를 정의한 후 결과값이 각각 20과 20을 출력하세요."
   ]
  },
  {
   "cell_type": "markdown",
   "metadata": {},
   "source": [
    "### Q. 10을 곱하는 사용자 함수와 두 객체의 나눗셈을 수행하는 사용자 함수를 정의한 후 결과값이 각각 200과 10을 출력하세요."
   ]
  },
  {
   "cell_type": "markdown",
   "metadata": {},
   "source": [
    "### Q.df_age 에 add_10 함수를 적용해서 출력하세요."
   ]
  },
  {
   "cell_type": "markdown",
   "metadata": {},
   "source": [
    "### Q. 시리즈 객체 + 숫자를 연산하는 방식으로 df.age에 10을 더한 후 sr2에 저장하고 출력하세요."
   ]
  },
  {
   "cell_type": "markdown",
   "metadata": {},
   "source": [
    "### Q. 람다 함수를 활용해서 위와 같은 연산을 수행하고 결과를 sr3로 출력하세요."
   ]
  },
  {
   "cell_type": "markdown",
   "metadata": {},
   "source": [
    "### Q. df의 'age', 'fare' 칼럼에 10을 사칙연산하는 사용자 함수를 정의하고 applymap()으로 각 사용자 함수를 매핑한 후 출력하세요."
   ]
  },
  {
   "cell_type": "markdown",
   "metadata": {},
   "source": [
    "### Q. df_map의 [0,0]을 NaN으로 변경한 후 missing_value 함수를 적용해서 불린 시리즈를 반환하세요."
   ]
  },
  {
   "cell_type": "markdown",
   "metadata": {},
   "source": [
    "### Q. titanic 데이터셋을 seaborn에서 로딩한 후 블린 인덱싱을 이용하여 아래 사항들을 수행하세요.\n",
    "- 나이가 10대(10~19세)인 승객만 따로 선택\n",
    "- 나이가 10세 미만(0~9세)이고 여성인 승객만 따로 선택\n",
    "- 나이가 10세 미만(0~9세) 또는 60세 이상인 승객의 age, sex, alone 열만 선택"
   ]
  },
  {
   "cell_type": "markdown",
   "metadata": {},
   "source": [
    "## Q. 나이가 10세 미만(0~9세) 또는 60세 이상인 승객의 alone 열만 선택한 후 값을 True로 변경하세요"
   ]
  },
  {
   "cell_type": "markdown",
   "metadata": {},
   "source": [
    "### Q. 최대값 - 최소값을 반환하는 사용자 함수를 min_max로 정의하고 age, fare 열로 구성되는 타이타닉 데이터프레임df 에 적용하여 결과와 자료형을 출력하세요. source : titanic = sns.load_dataset('titanic')"
   ]
  },
  {
   "cell_type": "markdown",
   "metadata": {},
   "source": [
    "### Q. df 에서 'age' 칼럼과 'fare'칼럼을 더한 가격을 리턴하는 사용자 함수를 정의한 후 df['add'] 변수를 생성하여 출력하세요.(lambda 함수 사용)"
   ]
  },
  {
   "cell_type": "markdown",
   "metadata": {},
   "source": [
    "### Q. 'age', 'fare' 두개 칼럼으로 구성되는 titanic 데이터프레임에서 [0,1]의 값을 NaN을 변경한 후 df 이름으로 출력하세요."
   ]
  },
  {
   "cell_type": "markdown",
   "metadata": {},
   "source": [
    "### Q. 각 열의 NaN 찾기, 각 열의 NaN 개수 반환, 데이터프레임의 총 NaN 개수를 반환하는 사용자 함수를 정의한 후 df.pipe 메소드로 함수 매핑한 결과를 모두 출력하세요."
   ]
  },
  {
   "cell_type": "markdown",
   "metadata": {},
   "source": [
    "### Q. 타이타닉 df의 열 순서를 아래와 같이 재구성하고 출력하세요\n",
    "* 열 선택 : ['pclass', 'sex', 'age', 'survived'].\n",
    "* 열 이름의 리스트 만들기\n",
    "* 열 이름을 알파벳 순으로 정렬하기\n",
    "* 열 이름을 기존 순서의 정반대 역순으로 정렬하기\n",
    "* 열 이름을 사용자가 정의한 임의의 순서로 재배치하기"
   ]
  }
 ],
 "metadata": {
  "kernelspec": {
   "display_name": "Python 3 (ipykernel)",
   "language": "python",
   "name": "python3"
  },
  "language_info": {
   "codemirror_mode": {
    "name": "ipython",
    "version": 3
   },
   "file_extension": ".py",
   "mimetype": "text/x-python",
   "name": "python",
   "nbconvert_exporter": "python",
   "pygments_lexer": "ipython3",
   "version": "3.8.12"
  }
 },
 "nbformat": 4,
 "nbformat_minor": 2
}
