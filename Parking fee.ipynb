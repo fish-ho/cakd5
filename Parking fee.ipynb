{
 "cells": [
  {
   "cell_type": "code",
   "execution_count": null,
   "id": "42271b49",
   "metadata": {},
   "outputs": [],
   "source": [
    "import datetime as dt\n",
    "info={}\n",
    "def comein():\n",
    "    global info"
   ]
  },
  {
   "cell_type": "code",
   "execution_count": null,
   "id": "c9942cfb",
   "metadata": {},
   "outputs": [],
   "source": [
    "import datetime as dt\n",
    "import time\n",
    "li={}\n",
    "enter_time=dt.datetime.now()\n",
    "e_t=enter_time.strftime('%Y%m%d%H%M%S')\n",
    "print(e_t)\n",
    "li['04러0408'] = e_t\n",
    "#li.append(e_t)\n",
    "print(li)\n",
    "time.sleep(3)\n",
    "out_time=dt.datetime.now()\n",
    "e_t_for_cal=dt.datetime.strptime(li[0],'%Y%m%d%H%M%S')\n",
    "dif= out_time - e_t_for_cal\n",
    "print(round(dif.total_seconds()))"
   ]
  },
  {
   "cell_type": "code",
   "execution_count": 17,
   "id": "b0530196",
   "metadata": {},
   "outputs": [
    {
     "name": "stdout",
     "output_type": "stream",
     "text": [
      "1. 입장 정보 입력 2. 정산1\n",
      "차량 번호 입력: 1234\n",
      "1. 입장 정보 입력 2. 정산1111\n",
      "1. 입장 정보 입력 2. 정산1\n",
      "차량 번호 입력: 1111\n",
      "1. 입장 정보 입력 2. 정산2\n",
      "차량 번호 입력: 1234\n",
      "1234 차량의 총 주차시간은 6초 입니다.\n",
      "1. 입장 정보 입력 2. 정산2\n",
      "차량 번호 입력: 1234\n",
      "없는 차량입니다. 차량 번호를 확인하여 주세요.\n",
      "1. 입장 정보 입력 2. 정산2\n",
      "차량 번호 입력: 1111\n",
      "1111 차량의 총 주차시간은 17초 입니다.\n"
     ]
    },
    {
     "ename": "KeyboardInterrupt",
     "evalue": "Interrupted by user",
     "output_type": "error",
     "traceback": [
      "\u001b[1;31m---------------------------------------------------------------------------\u001b[0m",
      "\u001b[1;31mKeyboardInterrupt\u001b[0m                         Traceback (most recent call last)",
      "\u001b[1;32m~\\AppData\\Local\\Temp/ipykernel_5988/249431909.py\u001b[0m in \u001b[0;36m<module>\u001b[1;34m\u001b[0m\n\u001b[0;32m      5\u001b[0m \u001b[0mbase_fee\u001b[0m \u001b[1;33m=\u001b[0m \u001b[1;36m3000\u001b[0m\u001b[1;33m\u001b[0m\u001b[1;33m\u001b[0m\u001b[0m\n\u001b[0;32m      6\u001b[0m \u001b[1;32mwhile\u001b[0m \u001b[1;36m1\u001b[0m\u001b[1;33m:\u001b[0m\u001b[1;33m\u001b[0m\u001b[1;33m\u001b[0m\u001b[0m\n\u001b[1;32m----> 7\u001b[1;33m     \u001b[0mwork_choice\u001b[0m\u001b[1;33m=\u001b[0m\u001b[0mint\u001b[0m\u001b[1;33m(\u001b[0m\u001b[0minput\u001b[0m\u001b[1;33m(\u001b[0m\u001b[1;34m'1. 입장 정보 입력 2. 정산'\u001b[0m\u001b[1;33m)\u001b[0m\u001b[1;33m)\u001b[0m\u001b[1;33m\u001b[0m\u001b[1;33m\u001b[0m\u001b[0m\n\u001b[0m\u001b[0;32m      8\u001b[0m     \u001b[1;32mif\u001b[0m \u001b[0mwork_choice\u001b[0m \u001b[1;33m==\u001b[0m \u001b[1;36m1\u001b[0m\u001b[1;33m:\u001b[0m\u001b[1;33m\u001b[0m\u001b[1;33m\u001b[0m\u001b[0m\n\u001b[0;32m      9\u001b[0m         \u001b[0mcar_num_come\u001b[0m\u001b[1;33m=\u001b[0m \u001b[0minput\u001b[0m\u001b[1;33m(\u001b[0m\u001b[1;34m'차량 번호 입력: '\u001b[0m\u001b[1;33m)\u001b[0m\u001b[1;33m\u001b[0m\u001b[1;33m\u001b[0m\u001b[0m\n",
      "\u001b[1;32m~\\Anaconda3\\envs\\cakd5\\lib\\site-packages\\ipykernel\\kernelbase.py\u001b[0m in \u001b[0;36mraw_input\u001b[1;34m(self, prompt)\u001b[0m\n\u001b[0;32m   1004\u001b[0m                 \u001b[1;34m\"raw_input was called, but this frontend does not support input requests.\"\u001b[0m\u001b[1;33m\u001b[0m\u001b[1;33m\u001b[0m\u001b[0m\n\u001b[0;32m   1005\u001b[0m             )\n\u001b[1;32m-> 1006\u001b[1;33m         return self._input_request(\n\u001b[0m\u001b[0;32m   1007\u001b[0m             \u001b[0mstr\u001b[0m\u001b[1;33m(\u001b[0m\u001b[0mprompt\u001b[0m\u001b[1;33m)\u001b[0m\u001b[1;33m,\u001b[0m\u001b[1;33m\u001b[0m\u001b[1;33m\u001b[0m\u001b[0m\n\u001b[0;32m   1008\u001b[0m             \u001b[0mself\u001b[0m\u001b[1;33m.\u001b[0m\u001b[0m_parent_ident\u001b[0m\u001b[1;33m[\u001b[0m\u001b[1;34m\"shell\"\u001b[0m\u001b[1;33m]\u001b[0m\u001b[1;33m,\u001b[0m\u001b[1;33m\u001b[0m\u001b[1;33m\u001b[0m\u001b[0m\n",
      "\u001b[1;32m~\\Anaconda3\\envs\\cakd5\\lib\\site-packages\\ipykernel\\kernelbase.py\u001b[0m in \u001b[0;36m_input_request\u001b[1;34m(self, prompt, ident, parent, password)\u001b[0m\n\u001b[0;32m   1049\u001b[0m             \u001b[1;32mexcept\u001b[0m \u001b[0mKeyboardInterrupt\u001b[0m\u001b[1;33m:\u001b[0m\u001b[1;33m\u001b[0m\u001b[1;33m\u001b[0m\u001b[0m\n\u001b[0;32m   1050\u001b[0m                 \u001b[1;31m# re-raise KeyboardInterrupt, to truncate traceback\u001b[0m\u001b[1;33m\u001b[0m\u001b[1;33m\u001b[0m\u001b[1;33m\u001b[0m\u001b[0m\n\u001b[1;32m-> 1051\u001b[1;33m                 \u001b[1;32mraise\u001b[0m \u001b[0mKeyboardInterrupt\u001b[0m\u001b[1;33m(\u001b[0m\u001b[1;34m\"Interrupted by user\"\u001b[0m\u001b[1;33m)\u001b[0m \u001b[1;32mfrom\u001b[0m \u001b[1;32mNone\u001b[0m\u001b[1;33m\u001b[0m\u001b[1;33m\u001b[0m\u001b[0m\n\u001b[0m\u001b[0;32m   1052\u001b[0m             \u001b[1;32mexcept\u001b[0m \u001b[0mException\u001b[0m\u001b[1;33m:\u001b[0m\u001b[1;33m\u001b[0m\u001b[1;33m\u001b[0m\u001b[0m\n\u001b[0;32m   1053\u001b[0m                 \u001b[0mself\u001b[0m\u001b[1;33m.\u001b[0m\u001b[0mlog\u001b[0m\u001b[1;33m.\u001b[0m\u001b[0mwarning\u001b[0m\u001b[1;33m(\u001b[0m\u001b[1;34m\"Invalid Message:\"\u001b[0m\u001b[1;33m,\u001b[0m \u001b[0mexc_info\u001b[0m\u001b[1;33m=\u001b[0m\u001b[1;32mTrue\u001b[0m\u001b[1;33m)\u001b[0m\u001b[1;33m\u001b[0m\u001b[1;33m\u001b[0m\u001b[0m\n",
      "\u001b[1;31mKeyboardInterrupt\u001b[0m: Interrupted by user"
     ]
    }
   ],
   "source": [
    "import datetime as dt\n",
    "import time\n",
    "\n",
    "dic={}\n",
    "coupon=True\n",
    "base_fee = 3000\n",
    "\n",
    "while 1:\n",
    "    work_choice=int(input('1. 입장 정보 입력 2. 정산'))\n",
    "    if work_choice == 1:\n",
    "        car_num_come= input('차량 번호 입력: ')\n",
    "        enter_time=dt.datetime.now()\n",
    "        e_t=enter_time.strftime('%Y%m%d%H%M%S')\n",
    "        dic[car_num_come]=e_t\n",
    "        time.sleep(3)\n",
    "        continue\n",
    "    \n",
    "    if work_choice == 2:\n",
    "        while 1: #정산\n",
    "            car_num_out= input('차량 번호 입력: ')\n",
    "            if car_num_out in dic:\n",
    "                out_time=dt.datetime.now()\n",
    "                e_t_for_cal=dt.datetime.strptime(e_t,'%Y%m%d%H%M%S')\n",
    "                dif= out_time - e_t_for_cal\n",
    "                time_total_sec=round(dif.total_seconds())\n",
    "                # time_d=time_total_sec//86400\n",
    "                time_h=time_total_sec//3600\n",
    "                time_m=time_h%3600//60\n",
    "                \n",
    "                print(f'{car_num_out} 차량의 총 주차시간은 {time_sec}초 입니다.')\n",
    "                del dic[car_num_out]\n",
    "                flag=False\n",
    "                break\n",
    "            \n",
    "            else:\n",
    "                print('없는 차량입니다. 차량 번호를 확인하여 주세요.')\n",
    "        \n",
    "            if flag == False:\n",
    "                break\n"
   ]
  },
  {
   "cell_type": "code",
   "execution_count": 13,
   "id": "a2b7ab7b",
   "metadata": {},
   "outputs": [
    {
     "name": "stdout",
     "output_type": "stream",
     "text": [
      "차량 번호 입력: 0408\n",
      "차량 번호 입력: 0408\n",
      "출차 시간 입력: 20220102181240\n",
      "0408 차량의 총 주차시간은 3624초 입니다.\n"
     ]
    }
   ],
   "source": [
    "import datetime as dt\n",
    "import time\n",
    "dic={}\n",
    "coupon=True\n",
    "flag=True\n",
    "base_fee = 3000\n",
    "fee_per_10min = 1000\n",
    "\n",
    "car_num_come= input('차량 번호 입력: ')\n",
    "enter_time=dt.datetime.now()\n",
    "e_t=enter_time.strftime('%Y%m%d%H%M%S')\n",
    "dic[car_num_come]=e_t\n",
    "time.sleep(3)\n",
    "\n",
    "while 1: #정산\n",
    "    car_num_out= input('차량 번호 입력: ')\n",
    "    if car_num_out in dic:\n",
    "        #out_time=dt.datetime.now()\n",
    "        out_time= input('출차 시간 입력: ')\n",
    "        o_t_for_cal=dt.datetime.strptime(out_time,'%Y%m%d%H%M%S')\n",
    "        e_t_for_cal=dt.datetime.strptime(e_t,'%Y%m%d%H%M%S')\n",
    "        dif=o_t_for_cal - e_t_for_cal\n",
    "        #dif= out_time - e_t_for_cal\n",
    "        time_sec=round(dif.total_seconds())\n",
    "        print(f'{car_num_out} 차량의 총 주차시간은 {time_sec}초 입니다.')\n",
    "        break\n",
    "    else:\n",
    "        print('없는 차량입니다. 차량 번호를 확인하여 주세요.')"
   ]
  },
  {
   "cell_type": "code",
   "execution_count": 12,
   "id": "49cf6de0",
   "metadata": {},
   "outputs": [
    {
     "name": "stdout",
     "output_type": "stream",
     "text": [
      "2021년도 매출 1등상품은 1. 백화점상품권10만원, 2. 외식상품권12만원 입니다. \n",
      "상품을 고르세요: 2\n",
      "선택 상품은 외식상품권12만원입니다.\n"
     ]
    }
   ],
   "source": [
    "p1_sum = ['백화점상품권10만원','외식상품권12만원']\n",
    "p2_sum = ['백화점상품권5만원','외식상품권7만원']\n",
    "p1_avg = ['백화점상품권 20만원','외식상품권15만원']\n",
    "p2_avg = ['백화점상품권 15만원','외식상품권 10만원']\n",
    "\n",
    "a=int(input(\"2021년도 매출 1등상품은 1. 백화점상품권10만원, 2. 외식상품권12만원 입니다. \\n상품을 고르세요: \"))\n",
    "print(f'선택 상품은 {p1_sum[a-1]}입니다.')"
   ]
  }
 ],
 "metadata": {
  "kernelspec": {
   "display_name": "Python 3 (ipykernel)",
   "language": "python",
   "name": "python3"
  },
  "language_info": {
   "codemirror_mode": {
    "name": "ipython",
    "version": 3
   },
   "file_extension": ".py",
   "mimetype": "text/x-python",
   "name": "python",
   "nbconvert_exporter": "python",
   "pygments_lexer": "ipython3",
   "version": "3.8.12"
  }
 },
 "nbformat": 4,
 "nbformat_minor": 5
}
