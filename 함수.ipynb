{
 "cells": [
  {
   "cell_type": "code",
   "execution_count": 2,
   "id": "9b7251b1",
   "metadata": {},
   "outputs": [
    {
     "name": "stdout",
     "output_type": "stream",
     "text": [
      "Hi\n"
     ]
    }
   ],
   "source": [
    "# 입력값이 없고 결과값만 있는 함수\n",
    "def say():\n",
    "    return 'Hi'\n",
    "\n",
    "a=say()\n",
    "print(a)"
   ]
  },
  {
   "cell_type": "code",
   "execution_count": 3,
   "id": "05ce1bf9",
   "metadata": {},
   "outputs": [
    {
     "name": "stdout",
     "output_type": "stream",
     "text": [
      "3, 4의 합은 7입니다\n"
     ]
    }
   ],
   "source": [
    "# 입력값은 있고 결과값이 없는 함수\n",
    "# 결과값은 오직 return 명령어로만 돌려 받을 수 있다.\n",
    "def add(a,b):\n",
    "    print('%d, %d의 합은 %d입니다'%(a,b,a+b))\n",
    "add(3,4)"
   ]
  },
  {
   "cell_type": "code",
   "execution_count": 4,
   "id": "2b5a44e3",
   "metadata": {},
   "outputs": [
    {
     "name": "stdout",
     "output_type": "stream",
     "text": [
      "Hi\n"
     ]
    }
   ],
   "source": [
    "# 입력값도 결과값도 없는 함수\n",
    "def say():\n",
    "    print(\"Hi\")\n",
    "say()"
   ]
  },
  {
   "cell_type": "code",
   "execution_count": 6,
   "id": "dd47612b",
   "metadata": {},
   "outputs": [
    {
     "data": {
      "text/plain": [
       "'5 bigger than 3'"
      ]
     },
     "execution_count": 6,
     "metadata": {},
     "output_type": "execute_result"
    }
   ],
   "source": [
    "# 입력값, 결과값이 모두 있는 함수\n",
    "def com(a,b):\n",
    "    if a>b:\n",
    "        return f'{a} bigger than {b}'\n",
    "    elif a<b:\n",
    "        return f'{a} smaller than {b}'\n",
    "    else:\n",
    "        return f'{a} equal {b}'\n",
    "com(5,3)"
   ]
  },
  {
   "cell_type": "code",
   "execution_count": 8,
   "id": "e7b3f91e",
   "metadata": {},
   "outputs": [
    {
     "data": {
      "text/plain": [
       "15"
      ]
     },
     "execution_count": 8,
     "metadata": {},
     "output_type": "execute_result"
    }
   ],
   "source": [
    "# 여러 개의 입력값을 받는 함수 만들기\n",
    "# *args 처럼 입력 변수명 앞에 *를 붙이면 입력값들을 전부 모아서 튜플로 만들어 줌\n",
    "\n",
    "def add_many(*args):\n",
    "    sum=0\n",
    "    for i in args:\n",
    "        sum+=i\n",
    "    return sum\n",
    "\n",
    "add_many(1,2,3,4,5)"
   ]
  },
  {
   "cell_type": "code",
   "execution_count": 9,
   "id": "99067af2",
   "metadata": {},
   "outputs": [
    {
     "name": "stdout",
     "output_type": "stream",
     "text": [
      "(7, 12)\n"
     ]
    }
   ],
   "source": [
    "# 함수의 반환 값은 언제나 하나 - 결과 값으로 튜플 값 하나를 갖게 됨\n",
    "def add_and_mul(a,b):\n",
    "    return a+b, a*b\n",
    "\n",
    "result=add_and_mul(3,4)\n",
    "print(result)"
   ]
  },
  {
   "cell_type": "code",
   "execution_count": 21,
   "id": "69ba71d6",
   "metadata": {},
   "outputs": [
    {
     "data": {
      "text/plain": [
       "15"
      ]
     },
     "execution_count": 21,
     "metadata": {},
     "output_type": "execute_result"
    }
   ],
   "source": [
    "# add_mul() 함수를 정의하여 1,2,3,4,5을 입력 값으로 적용하여 덧셈, 곱셈 연산을\n",
    "# 수행하세요.\n",
    "\n",
    "def add_mul(choice, *args):\n",
    "    sum_add=0\n",
    "    sum_mul=1\n",
    "    if choice=='add':\n",
    "        for i in args:\n",
    "            sum_add+=i\n",
    "        return sum_add\n",
    "    elif choice=='mul':\n",
    "        for i in args:\n",
    "            sum_mul*=i\n",
    "        return sum_mul\n",
    "    else:\n",
    "        return f'not defined'\n",
    "            \n",
    "add_mul('add', 1,2,3,4,5)\n",
    "    "
   ]
  },
  {
   "cell_type": "code",
   "execution_count": 29,
   "id": "ecbe8ad5",
   "metadata": {},
   "outputs": [
    {
     "name": "stdout",
     "output_type": "stream",
     "text": [
      "-26\n",
      "0.0010416666666666667\n"
     ]
    }
   ],
   "source": [
    "# [과제] 뺄셈, 나눗셈 멀티 계산 함수를 작성\n",
    "# ('sub', 2,4,6,8,10)\n",
    "# ('div', 2,4,6,8,10)\n",
    "\n",
    "def sub_div(math, *args):\n",
    "    re_sub=args[0]\n",
    "    re_div=args[0]\n",
    "    if math=='sub':\n",
    "        for i in range(len(args)-1):\n",
    "            re_sub-=args[i+1]\n",
    "        return re_sub\n",
    "    elif math=='div':\n",
    "        for i in range(len(args)-1):\n",
    "            re_div/=args[i+1]\n",
    "        return re_div\n",
    "    else:\n",
    "        return f'not defined expression'\n",
    "print(sub_div('sub',2,4,6,8,10))\n",
    "print(sub_div('div',2,4,6,8,10))"
   ]
  }
 ],
 "metadata": {
  "kernelspec": {
   "display_name": "Python 3 (ipykernel)",
   "language": "python",
   "name": "python3"
  },
  "language_info": {
   "codemirror_mode": {
    "name": "ipython",
    "version": 3
   },
   "file_extension": ".py",
   "mimetype": "text/x-python",
   "name": "python",
   "nbconvert_exporter": "python",
   "pygments_lexer": "ipython3",
   "version": "3.8.12"
  }
 },
 "nbformat": 4,
 "nbformat_minor": 5
}
