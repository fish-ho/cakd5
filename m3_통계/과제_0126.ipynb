{
 "cells": [
  {
   "cell_type": "code",
   "execution_count": null,
   "id": "3c8051fc",
   "metadata": {},
   "outputs": [],
   "source": [
    "# [과제] 샘플사이즈가 커질수록 표본평균의 표준편차가 작아짐을 시각화하여 입증하세요. (y축이 표준편차)"
   ]
  },
  {
   "cell_type": "code",
   "execution_count": null,
   "id": "635d73b3",
   "metadata": {},
   "outputs": [],
   "source": [
    "# [과제] 샘플사이즈가 커질수록 표본평균의 흩어지는 정도가 작아져서 모평균에 가깝게 모이는 현상을 바이올린 플롯으로 시각화하여 출력하세요."
   ]
  },
  {
   "cell_type": "code",
   "execution_count": null,
   "id": "2d8d0540",
   "metadata": {},
   "outputs": [],
   "source": []
  }
 ],
 "metadata": {
  "kernelspec": {
   "display_name": "Python 3 (ipykernel)",
   "language": "python",
   "name": "python3"
  },
  "language_info": {
   "codemirror_mode": {
    "name": "ipython",
    "version": 3
   },
   "file_extension": ".py",
   "mimetype": "text/x-python",
   "name": "python",
   "nbconvert_exporter": "python",
   "pygments_lexer": "ipython3",
   "version": "3.8.12"
  }
 },
 "nbformat": 4,
 "nbformat_minor": 5
}
