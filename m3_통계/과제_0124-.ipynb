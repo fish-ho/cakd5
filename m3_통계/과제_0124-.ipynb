{
 "cells": [
  {
   "cell_type": "code",
   "execution_count": 2,
   "id": "2525931c",
   "metadata": {},
   "outputs": [
    {
     "data": {
      "text/html": [
       "<div>\n",
       "<style scoped>\n",
       "    .dataframe tbody tr th:only-of-type {\n",
       "        vertical-align: middle;\n",
       "    }\n",
       "\n",
       "    .dataframe tbody tr th {\n",
       "        vertical-align: top;\n",
       "    }\n",
       "\n",
       "    .dataframe thead th {\n",
       "        text-align: right;\n",
       "    }\n",
       "</style>\n",
       "<table border=\"1\" class=\"dataframe\">\n",
       "  <thead>\n",
       "    <tr style=\"text-align: right;\">\n",
       "      <th></th>\n",
       "      <th>student number</th>\n",
       "      <th>english</th>\n",
       "      <th>mathematics</th>\n",
       "    </tr>\n",
       "  </thead>\n",
       "  <tbody>\n",
       "    <tr>\n",
       "      <th>0</th>\n",
       "      <td>1</td>\n",
       "      <td>42</td>\n",
       "      <td>65</td>\n",
       "    </tr>\n",
       "    <tr>\n",
       "      <th>1</th>\n",
       "      <td>2</td>\n",
       "      <td>69</td>\n",
       "      <td>80</td>\n",
       "    </tr>\n",
       "    <tr>\n",
       "      <th>2</th>\n",
       "      <td>3</td>\n",
       "      <td>56</td>\n",
       "      <td>63</td>\n",
       "    </tr>\n",
       "    <tr>\n",
       "      <th>3</th>\n",
       "      <td>4</td>\n",
       "      <td>41</td>\n",
       "      <td>63</td>\n",
       "    </tr>\n",
       "    <tr>\n",
       "      <th>4</th>\n",
       "      <td>5</td>\n",
       "      <td>57</td>\n",
       "      <td>76</td>\n",
       "    </tr>\n",
       "  </tbody>\n",
       "</table>\n",
       "</div>"
      ],
      "text/plain": [
       "   student number  english  mathematics\n",
       "0               1       42           65\n",
       "1               2       69           80\n",
       "2               3       56           63\n",
       "3               4       41           63\n",
       "4               5       57           76"
      ]
     },
     "execution_count": 2,
     "metadata": {},
     "output_type": "execute_result"
    }
   ],
   "source": [
    "import numpy as np\n",
    "import pandas as pd\n",
    "\n",
    "df = pd.read_csv('./data/ch2_scores_em.csv')\n",
    "df.head()"
   ]
  },
  {
   "cell_type": "code",
   "execution_count": 3,
   "id": "e65a3ff6",
   "metadata": {},
   "outputs": [],
   "source": [
    "data = np.array([2,3,3,4,4,4,4,5,5,6])"
   ]
  },
  {
   "cell_type": "markdown",
   "id": "825a59c7",
   "metadata": {},
   "source": [
    "#### 분산\n",
    "- 관측값에서 평균을 뺀 값을 제곱하고, 그것을 모두 더한 후 전체 개수로 나눠서 구한다. 즉, 차이값의 제곱의 평균이다. 관측값에서 평균을 뺀 값인 편차를 모두 더하면 0이 나오므로 제곱해서 더한다. \n",
    "- (편차와 비슷하게 평균으로부터 떨어진 거리 이지만 단위가 다름)\n",
    "\n",
    "#### 표본분산\n",
    "- 관측값에서 표본 평균을 빼고 제곱한 값을 모두 더한 것을 n-1로 나눈 것 ?(불편분산)?\n",
    "\n",
    "#### 편차\n",
    "- 관측값에서 평균을 뺀 값 (평균과 떨어진 거리)\n",
    "\n",
    "#### 표준편차\n",
    "- 분산의 제곱근 (분산의 단위에서 기존 단위로 돌아오게함)"
   ]
  },
  {
   "cell_type": "code",
   "execution_count": 5,
   "id": "483ba66c",
   "metadata": {},
   "outputs": [
    {
     "name": "stdout",
     "output_type": "stream",
     "text": [
      "평균 : 4.0 \n",
      "\n",
      "(표본)분산 : 1.2\n",
      "불편분산 : 1.3333333333333333\n",
      "표준편차 : 1.0954451150103321\n",
      "최댓값 : 6\n",
      "최솟값 : 2\n",
      "중앙값 : 4.0\n",
      "1분위수 : 3\n",
      "3분위수 : 5\n",
      "평균 : 4.0 \n",
      "\n",
      "표본분산 : 1.2\n",
      "불편분산 : 0    1.333333\n",
      "dtype: float64\n",
      "표준편차 : 1.0954451150103321\n",
      "최댓값 : 6\n",
      "최솟값 : 2\n",
      "중앙값 : 4.0\n",
      "1분위수 : 3.25\n",
      "3분위수 : 4.75\n"
     ]
    }
   ],
   "source": [
    "# [과제] 1변향 데이터 data에 대하여 평균, 표본분산, 불편분산,, 표준편차, 최대, 최소, 4분위수. 중앙값을 구하세요.\n",
    "# 단 함수사용하는 경우와 사용하지 않는 경우를 모두 수행\n",
    "\n",
    "data_df=pd.DataFrame(data)\n",
    "# 함수 미사용\n",
    "av=sum(data) / len(data) # 요소의 합 / 요소의 갯수\n",
    "print(f'평균 : {av} \\n')\n",
    "\n",
    "sv=sum((data-av)**2) / len(data) # (표본요소 - 표본평균)^2 의 합 / 표본의 수\n",
    "print(f'(표본)분산 : {sv}') # (각 요소 - 평균)=편차 / 편차 제곱의 합의 평균 \n",
    "\n",
    "uv = sum((data-av)**2) / (len(data)-1)\n",
    "print(f'불편분산 : {uv}')\n",
    "\n",
    "print(f'표준편차 : {np.sqrt(sv)}') # 분산의 제곱근\n",
    "print(f'최댓값 : {np.sort(data)[-1]}') \n",
    "print(f'최솟값 : {np.sort(data)[0]}')\n",
    "\n",
    "print(f'중앙값 : {((data[len(data)//2])+(data[len(data)//2-1]))/2}') # 요소가 홀수개 이면 (len+1)//2 -1 \n",
    "# print(f'1분위수 : {data[round(len(data)*0.25)]}')\n",
    "# print(f'3분위수 : {data[round(len(data)*0.75)]}')\n",
    "\n",
    "# 함수 사용\n",
    "print(f'평균 : {data.mean()} \\n') \n",
    "print(f'표본분산 : {data.var()}') \n",
    "print(f'불편분산 : {data_df.var()}')\n",
    "print(f'표준편차 : {data.std()}')\n",
    "print(f'최댓값 : {data.max()}')\n",
    "print(f'최솟값 : {data.min()}')\n",
    "print(f'중앙값 : {np.median(data)}')\n",
    "print(f'1분위수 : {np.percentile(data,25)}')\n",
    "print(f'3분위수 : {np.percentile(data,75)}')\n",
    "\n"
   ]
  },
  {
   "cell_type": "markdown",
   "id": "2dcc2828",
   "metadata": {},
   "source": [
    "#### 공분산\n",
    "- 두 데이터 사이의 관계를 나타내는 지표 (편차곱의 평균)\n",
    "- 양의 값 : 면적이 양의 값이 되는 데이터가 많다 ( +끼리, 또는 -끼리 곱한다.)\n",
    "- 음의 값 : 면적이 음의 값이 되는 데이터가 많다.\n",
    "- 0에 가까우면 무상관\n",
    "\n",
    "#### 상관계수\n",
    "- 단위에 의존하지 않는 상관 관계 지표 (공분산을 편차곱으로 나눈다. -1 ~ 1의 값)\n",
    "- 공분산 수치를 표준화함"
   ]
  },
  {
   "cell_type": "code",
   "execution_count": 4,
   "id": "73f82d1a",
   "metadata": {},
   "outputs": [
    {
     "name": "stdout",
     "output_type": "stream",
     "text": [
      "공분산 : 11.52\n"
     ]
    },
    {
     "data": {
      "text/html": [
       "<div>\n",
       "<style scoped>\n",
       "    .dataframe tbody tr th:only-of-type {\n",
       "        vertical-align: middle;\n",
       "    }\n",
       "\n",
       "    .dataframe tbody tr th {\n",
       "        vertical-align: top;\n",
       "    }\n",
       "\n",
       "    .dataframe thead th {\n",
       "        text-align: right;\n",
       "    }\n",
       "</style>\n",
       "<table border=\"1\" class=\"dataframe\">\n",
       "  <thead>\n",
       "    <tr style=\"text-align: right;\">\n",
       "      <th></th>\n",
       "      <th>a</th>\n",
       "      <th>b</th>\n",
       "      <th>a_div</th>\n",
       "      <th>b_div</th>\n",
       "      <th>pod</th>\n",
       "    </tr>\n",
       "  </thead>\n",
       "  <tbody>\n",
       "    <tr>\n",
       "      <th>a</th>\n",
       "      <td>1.000000</td>\n",
       "      <td>0.484548</td>\n",
       "      <td>1.000000</td>\n",
       "      <td>0.484548</td>\n",
       "      <td>-0.130913</td>\n",
       "    </tr>\n",
       "    <tr>\n",
       "      <th>b</th>\n",
       "      <td>0.484548</td>\n",
       "      <td>1.000000</td>\n",
       "      <td>0.484548</td>\n",
       "      <td>1.000000</td>\n",
       "      <td>0.391684</td>\n",
       "    </tr>\n",
       "    <tr>\n",
       "      <th>a_div</th>\n",
       "      <td>1.000000</td>\n",
       "      <td>0.484548</td>\n",
       "      <td>1.000000</td>\n",
       "      <td>0.484548</td>\n",
       "      <td>-0.130913</td>\n",
       "    </tr>\n",
       "    <tr>\n",
       "      <th>b_div</th>\n",
       "      <td>0.484548</td>\n",
       "      <td>1.000000</td>\n",
       "      <td>0.484548</td>\n",
       "      <td>1.000000</td>\n",
       "      <td>0.391684</td>\n",
       "    </tr>\n",
       "    <tr>\n",
       "      <th>pod</th>\n",
       "      <td>-0.130913</td>\n",
       "      <td>0.391684</td>\n",
       "      <td>-0.130913</td>\n",
       "      <td>0.391684</td>\n",
       "      <td>1.000000</td>\n",
       "    </tr>\n",
       "  </tbody>\n",
       "</table>\n",
       "</div>"
      ],
      "text/plain": [
       "              a         b     a_div     b_div       pod\n",
       "a      1.000000  0.484548  1.000000  0.484548 -0.130913\n",
       "b      0.484548  1.000000  0.484548  1.000000  0.391684\n",
       "a_div  1.000000  0.484548  1.000000  0.484548 -0.130913\n",
       "b_div  0.484548  1.000000  0.484548  1.000000  0.391684\n",
       "pod   -0.130913  0.391684 -0.130913  0.391684  1.000000"
      ]
     },
     "metadata": {},
     "output_type": "display_data"
    }
   ],
   "source": [
    "# [과제] 10행 2열 2차원 배열을 생성하고 두 열간의 공분산 및 상관계수를 구하세요.\n",
    "# 단, numpy, pandas 두가지 방식으로 모두 수행\n",
    "np.random.seed(0)\n",
    "arr = np.random.randint(1,20,(10,2))\n",
    "df=pd.DataFrame(arr,columns=['a','b'])\n",
    "df['a_div']=df.a - df.a.mean() \n",
    "df['b_div']=df.b - df.b.mean()\n",
    "df['pod']=df['a_div']*df['b_div']\n",
    "print(f'공분산 : {df.pod.mean()}')\n",
    "display(df.corr())"
   ]
  },
  {
   "cell_type": "code",
   "execution_count": 5,
   "id": "a648d90f",
   "metadata": {},
   "outputs": [
    {
     "data": {
      "text/plain": [
       "(18.21, 31.04)"
      ]
     },
     "execution_count": 5,
     "metadata": {},
     "output_type": "execute_result"
    }
   ],
   "source": [
    "np.var(df.a,ddof=0), np.var(df.b,ddof=0)"
   ]
  },
  {
   "cell_type": "code",
   "execution_count": 9,
   "id": "d8290fce",
   "metadata": {},
   "outputs": [
    {
     "data": {
      "text/plain": [
       "0     0.453901\n",
       "1     0.239103\n",
       "2     1.030411\n",
       "3     0.806723\n",
       "4     0.969697\n",
       "5    -0.285007\n",
       "6     3.408284\n",
       "7     0.232352\n",
       "8    -1.473146\n",
       "9   -27.428571\n",
       "Name: pod, dtype: float64"
      ]
     },
     "execution_count": 9,
     "metadata": {},
     "output_type": "execute_result"
    }
   ],
   "source": [
    "cov_mat = np.cov(df.a,df.b,ddof=0)[0,1]\n",
    "cov_mat"
   ]
  },
  {
   "cell_type": "code",
   "execution_count": 27,
   "id": "9102dd46",
   "metadata": {},
   "outputs": [
    {
     "data": {
      "text/plain": [
       "array([[1.        , 0.48454783],\n",
       "       [0.48454783, 1.        ]])"
      ]
     },
     "execution_count": 27,
     "metadata": {},
     "output_type": "execute_result"
    }
   ],
   "source": [
    "np.corrcoef(df.a,df.b)"
   ]
  },
  {
   "cell_type": "code",
   "execution_count": 10,
   "id": "fbf1d38d",
   "metadata": {},
   "outputs": [
    {
     "name": "stdout",
     "output_type": "stream",
     "text": [
      "[[20 80]\n",
      " [69 79]\n",
      " [47 64]\n",
      " [82 99]\n",
      " [88 49]\n",
      " [29 19]\n",
      " [19 14]\n",
      " [39 32]\n",
      " [65  9]\n",
      " [57 32]] \n",
      "\n",
      "공분산 : 239.75000000000006\n",
      "상관계수 : 0.34282390734478513\n"
     ]
    }
   ],
   "source": [
    "arr = np.random.randint(0,100,20).reshape(10,2)\n",
    "np.random.seed(0)\n",
    "print(arr,'\\n')\n",
    "arr1 = arr[:,0]\n",
    "arr2 = arr[:,1]\n",
    "arr1_dev = arr1 - np.mean(arr1)\n",
    "arr2_dev = arr2 - np.mean(arr2)\n",
    "GBS = np.mean(arr1_dev*arr2_dev)\n",
    "SGGS = np.cov(arr1,arr2,ddof=0)[0,1]/(np.std(arr1)*np.std(arr2))\n",
    "print(f'공분산 : {GBS}')\n",
    "print(f'상관계수 : {SGGS}')\n"
   ]
  }
 ],
 "metadata": {
  "kernelspec": {
   "display_name": "Python 3 (ipykernel)",
   "language": "python",
   "name": "python3"
  },
  "language_info": {
   "codemirror_mode": {
    "name": "ipython",
    "version": 3
   },
   "file_extension": ".py",
   "mimetype": "text/x-python",
   "name": "python",
   "nbconvert_exporter": "python",
   "pygments_lexer": "ipython3",
   "version": "3.8.12"
  }
 },
 "nbformat": 4,
 "nbformat_minor": 5
}
