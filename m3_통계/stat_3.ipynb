{
 "cells": [
  {
   "cell_type": "markdown",
   "id": "a84326e6",
   "metadata": {},
   "source": [
    "이산형 확률분포"
   ]
  },
  {
   "cell_type": "code",
   "execution_count": 1,
   "id": "b08de919",
   "metadata": {},
   "outputs": [],
   "source": [
    "# 1차원 이산확률분포\n",
    "import numpy as np\n",
    "import matplotlib.pyplot as plt\n",
    "\n",
    "x_set = np.array([1,2,3,4,5,6])\n",
    "\n",
    "def f(x):\n",
    "    if x in x_set:\n",
    "        return x/21\n",
    "    else:\n",
    "        return 0\n",
    "X = [x_set,f]"
   ]
  },
  {
   "cell_type": "code",
   "execution_count": 2,
   "id": "9be27032",
   "metadata": {},
   "outputs": [
    {
     "name": "stdout",
     "output_type": "stream",
     "text": [
      "[0.04761905 0.0952381  0.14285714 0.19047619 0.23809524 0.28571429] \n",
      "\n"
     ]
    },
    {
     "data": {
      "text/plain": [
       "{1: 0.047619047619047616,\n",
       " 2: 0.09523809523809523,\n",
       " 3: 0.14285714285714285,\n",
       " 4: 0.19047619047619047,\n",
       " 5: 0.23809523809523808,\n",
       " 6: 0.2857142857142857}"
      ]
     },
     "execution_count": 2,
     "metadata": {},
     "output_type": "execute_result"
    }
   ],
   "source": [
    "prob = np.array([f(x_k) for x_k in x_set])\n",
    "print(prob,'\\n')\n",
    "dict(zip(x_set, prob))"
   ]
  },
  {
   "cell_type": "code",
   "execution_count": 19,
   "id": "11d1ec17",
   "metadata": {},
   "outputs": [
    {
     "data": {
      "text/plain": [
       "<BarContainer object of 6 artists>"
      ]
     },
     "execution_count": 19,
     "metadata": {},
     "output_type": "execute_result"
    },
    {
     "data": {
      "image/png": "[encoded data removed]",
      "text/plain": [
       "<Figure size 432x288 with 1 Axes>"
      ]
     },
     "metadata": {
      "needs_background": "light"
     },
     "output_type": "display_data"
    }
   ],
   "source": [
    "import seaborn as sns\n",
    "# sns.barplot(x_set,prob)\n",
    "plt.bar(x_set,prob,color='cornflowerblue')"
   ]
  },
  {
   "cell_type": "code",
   "execution_count": 20,
   "id": "f3db92fb",
   "metadata": {},
   "outputs": [
    {
     "data": {
      "text/plain": [
       "True"
      ]
     },
     "execution_count": 20,
     "metadata": {},
     "output_type": "execute_result"
    }
   ],
   "source": [
    "np.all(prob>=0)"
   ]
  },
  {
   "cell_type": "code",
   "execution_count": 21,
   "id": "2cac6aee",
   "metadata": {},
   "outputs": [
    {
     "data": {
      "text/plain": [
       "0.9999999999999999"
      ]
     },
     "execution_count": 21,
     "metadata": {},
     "output_type": "execute_result"
    }
   ],
   "source": [
    "np.sum(prob)"
   ]
  },
  {
   "cell_type": "code",
   "execution_count": 24,
   "id": "dbca24d4",
   "metadata": {},
   "outputs": [],
   "source": [
    "# 누적분포함수\n",
    "def F(x):\n",
    "    return np.sum([f(x_k) for x_k in x_set if x_k <=x])"
   ]
  },
  {
   "cell_type": "code",
   "execution_count": 26,
   "id": "739a9d85",
   "metadata": {},
   "outputs": [
    {
     "data": {
      "text/plain": [
       "0.9999999999999999"
      ]
     },
     "execution_count": 26,
     "metadata": {},
     "output_type": "execute_result"
    }
   ],
   "source": [
    "F(6)"
   ]
  },
  {
   "cell_type": "code",
   "execution_count": 27,
   "id": "2ca9800e",
   "metadata": {},
   "outputs": [
    {
     "data": {
      "text/plain": [
       "{5: 0.047619047619047616,\n",
       " 7: 0.09523809523809523,\n",
       " 9: 0.14285714285714285,\n",
       " 11: 0.19047619047619047,\n",
       " 13: 0.23809523809523808,\n",
       " 15: 0.2857142857142857}"
      ]
     },
     "execution_count": 27,
     "metadata": {},
     "output_type": "execute_result"
    }
   ],
   "source": [
    "# 확률변수의 변환 : 확률변수 X에 2를 곱하고 3을 더한 2X + 3도 확률변수가 된다.\n",
    "y_set = np.array([2*x_k + 3 for x_k in x_set])\n",
    "prob = np.array([f(x_k) for x_k in x_set])\n",
    "dict(zip(y_set,prob))"
   ]
  },
  {
   "cell_type": "code",
   "execution_count": 53,
   "id": "5b84e25b",
   "metadata": {},
   "outputs": [
    {
     "data": {
      "text/plain": [
       "4.333333333333333"
      ]
     },
     "execution_count": 53,
     "metadata": {},
     "output_type": "execute_result"
    }
   ],
   "source": [
    "# 1차원 이산형 확률변수의 지표\n",
    "# 평균 : 확률변수의 평균은 확률변수의 중심을 나타내는 지표가 되며 기댓값이라고도 부른다.\n",
    "np.sum([x_k * f(x_k) for x_k in x_set])"
   ]
  },
  {
   "cell_type": "code",
   "execution_count": 52,
   "id": "5412c85d",
   "metadata": {},
   "outputs": [
    {
     "data": {
      "text/plain": [
       "4.332865"
      ]
     },
     "execution_count": 52,
     "metadata": {},
     "output_type": "execute_result"
    }
   ],
   "source": [
    "# 확률변수의 기댓값 은 확률변수를 무제한 시행하여 얻은 실현값의 평균\n",
    "sample = np.random.choice(x_set,int(1e6),p=prob)\n",
    "np.mean(sample)"
   ]
  },
  {
   "cell_type": "code",
   "execution_count": 64,
   "id": "38ede60a",
   "metadata": {},
   "outputs": [],
   "source": [
    "# 일반화\n",
    "def E(X, g=lambda x:x):\n",
    "    x_set, f=X\n",
    "    return np.sum([g(x_k) * f(x_k) for x_k in x_set])\n"
   ]
  },
  {
   "cell_type": "code",
   "execution_count": 65,
   "id": "6cf41bfe",
   "metadata": {},
   "outputs": [
    {
     "data": {
      "text/plain": [
       "4.333333333333333"
      ]
     },
     "execution_count": 65,
     "metadata": {},
     "output_type": "execute_result"
    }
   ],
   "source": [
    "E(X)"
   ]
  },
  {
   "cell_type": "code",
   "execution_count": 66,
   "id": "dc12ccca",
   "metadata": {},
   "outputs": [
    {
     "data": {
      "text/plain": [
       "11.666666666666664"
      ]
     },
     "execution_count": 66,
     "metadata": {},
     "output_type": "execute_result"
    }
   ],
   "source": [
    "E(X,g=lambda x:2*x+3)"
   ]
  },
  {
   "cell_type": "code",
   "execution_count": 67,
   "id": "40c8bb8e",
   "metadata": {},
   "outputs": [
    {
     "data": {
      "text/plain": [
       "11.666666666666666"
      ]
     },
     "execution_count": 67,
     "metadata": {},
     "output_type": "execute_result"
    }
   ],
   "source": [
    "# 기댒값의 선형성\n",
    "2 * E(X) + 3"
   ]
  },
  {
   "cell_type": "code",
   "execution_count": 72,
   "id": "a663095c",
   "metadata": {},
   "outputs": [
    {
     "data": {
      "text/plain": [
       "2.2222222222222223"
      ]
     },
     "execution_count": 72,
     "metadata": {},
     "output_type": "execute_result"
    }
   ],
   "source": [
    "# 분산 \n",
    "mean = E(X)\n",
    "np.sum([(x_k-mean)**2 * f(x_k) for x_k in x_set])"
   ]
  },
  {
   "cell_type": "code",
   "execution_count": 73,
   "id": "7ef53345",
   "metadata": {},
   "outputs": [],
   "source": [
    "# 일반화\n",
    "def V(X, g=lambda x:x):\n",
    "    x_set,f = X\n",
    "    mean = E(X,g)\n",
    "    return np.sum([(g(i)-mean)**2 * f(i) for i in x_set])"
   ]
  },
  {
   "cell_type": "code",
   "execution_count": 74,
   "id": "f90015bd",
   "metadata": {},
   "outputs": [
    {
     "data": {
      "text/plain": [
       "2.2222222222222223"
      ]
     },
     "execution_count": 74,
     "metadata": {},
     "output_type": "execute_result"
    }
   ],
   "source": [
    "V(X)"
   ]
  },
  {
   "cell_type": "code",
   "execution_count": 76,
   "id": "e4497c8a",
   "metadata": {},
   "outputs": [
    {
     "data": {
      "text/plain": [
       "8.88888888888889"
      ]
     },
     "execution_count": 76,
     "metadata": {},
     "output_type": "execute_result"
    }
   ],
   "source": [
    "V(X, lambda x:2*x+3)"
   ]
  },
  {
   "cell_type": "code",
   "execution_count": 77,
   "id": "d61366be",
   "metadata": {},
   "outputs": [
    {
     "data": {
      "text/plain": [
       "8.88888888888889"
      ]
     },
     "execution_count": 77,
     "metadata": {},
     "output_type": "execute_result"
    }
   ],
   "source": [
    "# 분산의 공식\n",
    "2**2*V(X)"
   ]
  },
  {
   "cell_type": "code",
   "execution_count": 78,
   "id": "a46230f6",
   "metadata": {},
   "outputs": [],
   "source": [
    "# 2차원 이산형 확률분포\n",
    "x_set = np.arange(2,13)\n",
    "y_set = np.arange(1,7)"
   ]
  },
  {
   "cell_type": "code",
   "execution_count": 89,
   "id": "c9d3815f",
   "metadata": {},
   "outputs": [],
   "source": [
    "def f_XY(x,y):\n",
    "    if 1 <= y <= 6 and 1 <= x-y <= 6:\n",
    "        return y * (x-y) / 441\n",
    "    else:\n",
    "        return 0"
   ]
  },
  {
   "cell_type": "code",
   "execution_count": 81,
   "id": "8616bed6",
   "metadata": {},
   "outputs": [],
   "source": [
    "XY = [x_set, y_set, f_XY]"
   ]
  },
  {
   "cell_type": "code",
   "execution_count": 96,
   "id": "3fcb63e0",
   "metadata": {},
   "outputs": [
    {
     "data": {
      "image/png": "[encoded data removed]",
      "text/plain": [
       "<Figure size 720x576 with 1 Axes>"
      ]
     },
     "metadata": {
      "needs_background": "light"
     },
     "output_type": "display_data"
    }
   ],
   "source": [
    "prob = np.array([[f_XY(x_i,y_j) for y_j in y_set] for x_i in x_set])\n",
    "fig = plt.figure(figsize=(10,8))\n",
    "ax = fig.add_subplot(111)\n",
    "\n",
    "c = ax.pcolor(prob)\n",
    "ax.set_xticks(np.arange(prob.shape[1])+0.5, minor=False)\n",
    "ax.set_yticks(np.arange(prob.shape[0])+0.5, minor=False)\n",
    "ax.set_xticklabels(np.arange(1,7),minor=False)\n",
    "ax.set_yticklabels(np.arange(2,13),minor=False)\n",
    "\n",
    "# y축을 내림차순의 숫자가 되게 하여, 위 아래를 역전시킨다.\n",
    "ax.invert_yaxis()\n",
    "\n",
    "# x축 눈금을 그래프 위쪽에 표시\n",
    "ax.xaxis.tick_top()"
   ]
  }
 ],
 "metadata": {
  "kernelspec": {
   "display_name": "Python 3 (ipykernel)",
   "language": "python",
   "name": "python3"
  },
  "language_info": {
   "codemirror_mode": {
    "name": "ipython",
    "version": 3
   },
   "file_extension": ".py",
   "mimetype": "text/x-python",
   "name": "python",
   "nbconvert_exporter": "python",
   "pygments_lexer": "ipython3",
   "version": "3.8.12"
  }
 },
 "nbformat": 4,
 "nbformat_minor": 5
}
