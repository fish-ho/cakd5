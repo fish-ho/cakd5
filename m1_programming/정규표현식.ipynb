{
 "cells": [
  {
   "cell_type": "markdown",
   "id": "c63232da",
   "metadata": {},
   "source": [
    "## 정규표현식의 기초, 메타 문자\n",
    "\n",
    "- . ^ $ * + ? {} \\ | ()\n",
    "- [] 문자 클래스\n",
    " - \\d 숫자와 매치, [0-9]와 동일한 표현식\n",
    " - \\D 숫자가 아닌 것과 매치, [^0-9]와 동일한 표현식\n",
    " - \\s whitespace 문자와 매치, [ \\t\\n\\r\\f\\v]와 동일한 표현식\n",
    " - \\S whitespace 문자가 아닌것과 매치, [^ \\t\\n\\r\\f\\v]와 동일한 표현식\n",
    " - \\w 문자 + 숫자와 매치, [a-zA-Z0-9]와 동일한 표현식\n",
    " - \\W 문자+ 숫자가 아닌 문자와 매치, [^a-zA-Z0-9]와 동일한 표현식\n",
    "- whitespace\n",
    " - 스페이스 바(아스키코드 32)\n",
    " - \\b 뒤로 한 칸 이동(Backspcace) (아스키코드 8)\n",
    " - \\t 수평 탭, 간격 띄우기\n",
    " - \\n 줄 바꿈\n",
    " - \\v 수직 탭, 간격 띄우기\n",
    " - \\f 프린트 출력 용지를 한 페이지 넘김\n",
    " - \\r 동일한 줄의 맨 앞에서 커서 이동\n",
    " \n",
    "- Dot(.) 메타 문자는 줄바꿈 문자인 \\n을 제외한 모든 문자와 매치됨을 의미\n",
    "- 반복(\\*) ca*t 0부터 무한대로 반복 caaaat , ct\n",
    "- 반복(\\+) ca+t 최소 1번 이상 반복\n",
    "- ca{m,n} a 반복 횟수가 m부터 n까지인 것을 매치\n",
    "- ca{2}t c+a(2번 반복)+t의 의미\n",
    "- 반복 횟수가 {1,}은 1 이상. {0,}은 0 이상인 경우로 +, * 와 동일하며 {,1}은 반복 횟수가 1이하를 의미\n",
    "- ab?c b가 0~1번 사용되면 매치되는 것으로 ?은 앞에 b가 있어도 되고 없어도 된다.\n",
    "\n",
    "re 모듈 : 파이썬은 정규표현식을 지원하기 위해 기본으로 제공\n",
    "- re.compile의 결과도 리턴되는 객체를 이용하여 그 이후 작업 수행\n",
    "\n",
    "정규식을 이용한 문자열 검색\n",
    "- match() : 문자열의 처음부터 정규식과 매치되는지를 조사\n",
    "- search() : 문자열의 전체를 검새ㄱ하여 정규식과 매치되는지 조사\n",
    "- findall() : 정규식과 매치되는 모든 문자열을 리스트로 리턴\n",
    "- finditer() : 정규식과 매치되는 모든 문자열을 반복 가능한 객체로 리턴"
   ]
  },
  {
   "cell_type": "code",
   "execution_count": 1,
   "id": "9d5bcb9b",
   "metadata": {},
   "outputs": [
    {
     "name": "stdout",
     "output_type": "stream",
     "text": [
      "<re.Match object; span=(0, 7), match='python '>\n"
     ]
    }
   ],
   "source": [
    "import re\n",
    "p = re.compile('[a-z]+\\s')\n",
    "m = p.match('python python')\n",
    "print(m)"
   ]
  },
  {
   "cell_type": "code",
   "execution_count": 4,
   "id": "2495a401",
   "metadata": {},
   "outputs": [
    {
     "data": {
      "text/plain": [
       "<re.Match object; span=(0, 7), match='python '>"
      ]
     },
     "execution_count": 4,
     "metadata": {},
     "output_type": "execute_result"
    }
   ],
   "source": [
    "re.match('[a-z]+\\s',\"python python\")"
   ]
  },
  {
   "cell_type": "code",
   "execution_count": 9,
   "id": "97591eb8",
   "metadata": {},
   "outputs": [
    {
     "data": {
      "text/plain": [
       "['python ', 'python ']"
      ]
     },
     "execution_count": 9,
     "metadata": {},
     "output_type": "execute_result"
    }
   ],
   "source": [
    "p.findall('python python ')"
   ]
  },
  {
   "cell_type": "code",
   "execution_count": 7,
   "id": "c5cc4526",
   "metadata": {},
   "outputs": [
    {
     "name": "stdout",
     "output_type": "stream",
     "text": [
      "None\n"
     ]
    }
   ],
   "source": [
    "m=p.match('3python ')\n",
    "print(m)"
   ]
  },
  {
   "cell_type": "code",
   "execution_count": 10,
   "id": "d3a9e434",
   "metadata": {},
   "outputs": [
    {
     "name": "stdout",
     "output_type": "stream",
     "text": [
      "<re.Match object; span=(1, 8), match='python '>\n"
     ]
    }
   ],
   "source": [
    "m=p.search(\"3python \")\n",
    "print(m)"
   ]
  },
  {
   "cell_type": "code",
   "execution_count": 11,
   "id": "23e37352",
   "metadata": {},
   "outputs": [
    {
     "name": "stdout",
     "output_type": "stream",
     "text": [
      "<re.Match object; span=(1, 6), match='anker'>\n",
      "<re.Match object; span=(0, 6), match='banker'>\n"
     ]
    }
   ],
   "source": [
    "# 문자 클래스 : []\n",
    "pattern=re.compile('[a-z]+')\n",
    "p1=pattern.search('Banker')\n",
    "p2=pattern.search('banker')\n",
    "print(p1)\n",
    "print(p2)"
   ]
  },
  {
   "cell_type": "code",
   "execution_count": 18,
   "id": "117f56da",
   "metadata": {},
   "outputs": [
    {
     "data": {
      "text/plain": [
       "'a'"
      ]
     },
     "execution_count": 18,
     "metadata": {},
     "output_type": "execute_result"
    }
   ],
   "source": [
    "# Q. '12345abc'에서 'a'만 출력하세요.\n",
    "text='12345abc'\n",
    "p=re.compile('[a]')\n",
    "m=p.search(text)\n",
    "m.group()\n"
   ]
  },
  {
   "cell_type": "code",
   "execution_count": 8,
   "id": "036799af",
   "metadata": {},
   "outputs": [
    {
     "name": "stdout",
     "output_type": "stream",
     "text": [
      "<re.Match object; span=(6, 7), match='대'>\n"
     ]
    }
   ],
   "source": [
    "# [과제] 'KOREA 대한민국'에서 '대'만 출력하세요.\n",
    "import re\n",
    "text='KOREA 대한민국'\n",
    "p=re.compile('대')\n",
    "m=p.search(text)\n",
    "print(m)"
   ]
  },
  {
   "cell_type": "code",
   "execution_count": 47,
   "id": "d3261e43",
   "metadata": {},
   "outputs": [
    {
     "data": {
      "text/plain": [
       "'122333c'"
      ]
     },
     "execution_count": 47,
     "metadata": {},
     "output_type": "execute_result"
    }
   ],
   "source": [
    "# Q. '122333c'를 모두 출력하세요.\n",
    "import re\n",
    "p=re.compile('12{2}3{3}c')\n",
    "text='122333c'\n",
    "m=p.search(text)\n",
    "m.group()"
   ]
  },
  {
   "cell_type": "code",
   "execution_count": 81,
   "id": "56f014a7",
   "metadata": {},
   "outputs": [
    {
     "data": {
      "text/plain": [
       "'aaaaBBBcccDDDeee'"
      ]
     },
     "execution_count": 81,
     "metadata": {},
     "output_type": "execute_result"
    }
   ],
   "source": [
    "# [과제] 'aaaaBBBcccDDDeee'를 모두 출력하세요\n",
    "# p=re.compile('a{4}B{3}c{3}D{3}e{3}')\n",
    "p=re.compile('[\\w]+')\n",
    "\n",
    "text='aaaaBBBcccDDDeee'\n",
    "m=p.search(text)\n",
    "m.group()"
   ]
  },
  {
   "cell_type": "code",
   "execution_count": 134,
   "id": "bd13ba0a",
   "metadata": {},
   "outputs": [
    {
     "name": "stdout",
     "output_type": "stream",
     "text": [
      "<re.Match object; span=(1, 2), match='C'>\n",
      "<re.Match object; span=(0, 1), match='C'>\n",
      "<re.Match object; span=(2, 3), match='C'>\n"
     ]
    }
   ],
   "source": [
    "# [과제] BC, CC, ABC 모두 C가 출력되는 정규 표현식을 ()에 작성하세요.\n",
    "pattern=re.compile('[C]'   )\n",
    "text1='BC'\n",
    "text2='CC'\n",
    "text3='ABC'\n",
    "p1=pattern.search(text1)\n",
    "p2=pattern.search(text2)\n",
    "p3=pattern.search(text3)\n",
    "print(p1)\n",
    "print(p2)\n",
    "print(p3)"
   ]
  },
  {
   "cell_type": "code",
   "execution_count": 75,
   "id": "66aaea5a",
   "metadata": {},
   "outputs": [
    {
     "name": "stdout",
     "output_type": "stream",
     "text": [
      "['life', 'is', 'too', 'short']\n",
      "life\n",
      "life\n"
     ]
    }
   ],
   "source": [
    "p=re.compile('[a-z]+')\n",
    "result1=p.findall('life is too short')\n",
    "result2=p.match('life is too short')\n",
    "result3=p.search('life is too short')\n",
    "print(result1)\n",
    "print(result2.group())\n",
    "print(result3.group())"
   ]
  },
  {
   "cell_type": "code",
   "execution_count": 78,
   "id": "f49b60f3",
   "metadata": {},
   "outputs": [
    {
     "name": "stdout",
     "output_type": "stream",
     "text": [
      "life\n",
      "is\n",
      "too\n",
      "short\n"
     ]
    }
   ],
   "source": [
    "# finditer는 findall과 동일하지만 그 결과로 반복 가능한 객체를 돌려준다.\n",
    "result=p.finditer('life is too short')\n",
    "\n",
    "#list(result)\n",
    "for r in result: print(r.group())"
   ]
  },
  {
   "cell_type": "code",
   "execution_count": 122,
   "id": "11a1cb7c",
   "metadata": {},
   "outputs": [
    {
     "name": "stdout",
     "output_type": "stream",
     "text": [
      "['1', '2', '3', '4', '1', '2', '3', '4']\n"
     ]
    }
   ],
   "source": [
    "# Q. '1234a1234' 에서 '1', '2', '3', '4'를 모두 출력하세요.\n",
    "\n",
    "p=re.compile('[0-9]')\n",
    "text='1234a1234'\n",
    "result=p.findall(text)\n",
    "print(result)\n",
    "\n"
   ]
  },
  {
   "cell_type": "code",
   "execution_count": 21,
   "id": "4b1ae68a",
   "metadata": {},
   "outputs": [
    {
     "name": "stdout",
     "output_type": "stream",
     "text": [
      "['032-232-3245']\n",
      "032-232-3245\n"
     ]
    }
   ],
   "source": [
    "# [과제] 정규표현식을 사용하여 test에서 전화번호만 출력하세요.\n",
    "# test='문의사항이 있으면 032-232-3245로 연락주시기 바랍니다.'\n",
    "\n",
    "import re\n",
    "li=[]\n",
    "p=re.compile('[0-9]+[-][0-9]+[-][0-9]+')\n",
    "test='문의사항이 있으면 032-232-3245로 연락주시기 바랍니다.'\n",
    "result=p.findall(test)\n",
    "print(result)\n",
    "print(result[0])\n"
   ]
  },
  {
   "cell_type": "code",
   "execution_count": 126,
   "id": "ca567195",
   "metadata": {},
   "outputs": [
    {
     "name": "stdout",
     "output_type": "stream",
     "text": [
      "[' Python', ' is', ' very', ' good', ' programming', ' language']\n"
     ]
    }
   ],
   "source": [
    "# ' Python3 is very good programming language!' 에서 ['Python', 'is', 'very', 'good', 'programming', 'language']를 모두 출력하세요\n",
    "p=re.compile(' [A-Z]?[a-z]+')\n",
    "text=' Python3 is very good programming language!'\n",
    "result=p.findall(text)\n",
    "print(result)"
   ]
  },
  {
   "cell_type": "code",
   "execution_count": 3,
   "id": "a457a9af",
   "metadata": {},
   "outputs": [
    {
     "name": "stdout",
     "output_type": "stream",
     "text": [
      "python\n",
      "0\n",
      "6\n",
      "(0, 6)\n"
     ]
    }
   ],
   "source": [
    "# match 객체의 메소드\n",
    "# import re\n",
    "p=re.compile('[a-z]+')\n",
    "m=p.match('python')\n",
    "print(m.group())\n",
    "print(m.start()) #시작 인덱스\n",
    "print(m.end()) #종료인덱스\n",
    "print(m.span()) #범위"
   ]
  },
  {
   "cell_type": "code",
   "execution_count": 4,
   "id": "9a98b113",
   "metadata": {},
   "outputs": [
    {
     "name": "stdout",
     "output_type": "stream",
     "text": [
      "python\n",
      "2\n",
      "8\n",
      "(2, 8)\n"
     ]
    }
   ],
   "source": [
    "m=p.search('3 python')\n",
    "print(m.group())\n",
    "print(m.start())\n",
    "print(m.end())\n",
    "print(m.span())"
   ]
  },
  {
   "cell_type": "code",
   "execution_count": 15,
   "id": "4c015ae5",
   "metadata": {},
   "outputs": [
    {
     "name": "stdout",
     "output_type": "stream",
     "text": [
      "python\n"
     ]
    }
   ],
   "source": [
    "# 모듈 단위로 수행하기\n",
    "m=re.match('[a-z]+',\"python\")\n",
    "print(m.group())"
   ]
  },
  {
   "cell_type": "code",
   "execution_count": 2,
   "id": "9bd767cd",
   "metadata": {},
   "outputs": [
    {
     "name": "stdout",
     "output_type": "stream",
     "text": [
      "None\n",
      "acb\n",
      "a12?Ab\n"
     ]
    }
   ],
   "source": [
    "# Dot(.) 메타 분자\n",
    "import re\n",
    "p=re.compile('a.+b')\n",
    "m1=p.match('a\\nb')\n",
    "m2=p.match('acb')\n",
    "m3=p.match('a12?Ab')\n",
    "print(m1)\n",
    "print(m2.group())\n",
    "print(m3.group())"
   ]
  },
  {
   "cell_type": "code",
   "execution_count": 3,
   "id": "fcb9f7b9",
   "metadata": {},
   "outputs": [
    {
     "data": {
      "text/plain": [
       "'a\\nb'"
      ]
     },
     "execution_count": 3,
     "metadata": {},
     "output_type": "execute_result"
    }
   ],
   "source": [
    "p=re.compile('a.b', re.DOTALL)\n",
    "m=p.match('a\\nb')\n",
    "m.group()"
   ]
  },
  {
   "cell_type": "code",
   "execution_count": 4,
   "id": "fa67ea89",
   "metadata": {},
   "outputs": [
    {
     "name": "stdout",
     "output_type": "stream",
     "text": [
      "<re.Match object; span=(0, 6), match='python'>\n",
      "<re.Match object; span=(0, 6), match='PYTHON'>\n",
      "<re.Match object; span=(0, 6), match='PyTHon'>\n"
     ]
    }
   ],
   "source": [
    "# re.IGNORANCE 또는 re.I 옵션은 대소문자 구분없이 매치를 수행시 사용\n",
    "p=re.compile('[a-z]+', re.I)\n",
    "print(p.match('python'))\n",
    "print(p.match('PYTHON'))\n",
    "print(p.match('PyTHon'))"
   ]
  },
  {
   "cell_type": "code",
   "execution_count": 7,
   "id": "8725ed19",
   "metadata": {},
   "outputs": [
    {
     "name": "stdout",
     "output_type": "stream",
     "text": [
      "<re.Match object; span=(0, 6), match='python'>\n",
      "<re.Match object; span=(0, 6), match='PYTHON'>\n",
      "<re.Match object; span=(0, 6), match='PyTHon'>\n"
     ]
    }
   ],
   "source": [
    "print(p.search('python'))\n",
    "print(p.search('PYTHON'))\n",
    "print(p.search('PyTHon'))"
   ]
  },
  {
   "cell_type": "code",
   "execution_count": 8,
   "id": "5fbc2233",
   "metadata": {},
   "outputs": [
    {
     "name": "stdout",
     "output_type": "stream",
     "text": [
      "['python one']\n"
     ]
    }
   ],
   "source": [
    "p=re.compile('^python\\s\\w+') #문자열 안에 ^이 있으면 처음 하나만\n",
    "\n",
    "data=\"\"\"python one\n",
    "life is too short\n",
    "python two\n",
    "you need python\n",
    "python three\"\"\"\n",
    "\n",
    "print(p.findall(data))"
   ]
  },
  {
   "cell_type": "code",
   "execution_count": 16,
   "id": "5e3161b2",
   "metadata": {},
   "outputs": [
    {
     "name": "stdout",
     "output_type": "stream",
     "text": [
      "Crow\n"
     ]
    }
   ],
   "source": [
    "# | or 와 동일한 의미\n",
    "p=re.compile('Crow|Servo')\n",
    "m=p.match('CrowHello')\n",
    "print(m)"
   ]
  },
  {
   "cell_type": "code",
   "execution_count": 14,
   "id": "0a05f96a",
   "metadata": {},
   "outputs": [
    {
     "name": "stdout",
     "output_type": "stream",
     "text": [
      "<re.Match object; span=(0, 8), match='\\\\section'>\n"
     ]
    },
    {
     "data": {
      "text/plain": [
       "['\\\\section', '\\\\section']"
      ]
     },
     "execution_count": 14,
     "metadata": {},
     "output_type": "execute_result"
    }
   ],
   "source": [
    "# Raw String 규칙\n",
    "p=re.compile(r'\\\\section')\n",
    "print(p.match('\\section'))\n",
    "p.findall('\\section\\section')"
   ]
  },
  {
   "cell_type": "code",
   "execution_count": 9,
   "id": "df1e1897",
   "metadata": {},
   "outputs": [
    {
     "name": "stdout",
     "output_type": "stream",
     "text": [
      "['python three']\n"
     ]
    }
   ],
   "source": [
    "p=re.compile('python\\s\\w+$') # 마지막 하나만 \n",
    "\n",
    "data=\"\"\"python one\n",
    "life is too short\n",
    "python two\n",
    "you need python\n",
    "python three\"\"\"\n",
    "\n",
    "print(p.findall(data))"
   ]
  },
  {
   "cell_type": "code",
   "execution_count": 28,
   "id": "580821e9",
   "metadata": {},
   "outputs": [
    {
     "data": {
      "text/plain": [
       "['home']"
      ]
     },
     "execution_count": 28,
     "metadata": {},
     "output_type": "execute_result"
    }
   ],
   "source": [
    "# Q. 'we are going home'에서 home만 출력하세요.\n",
    "p=re.compile('home$')\n",
    "m=p.findall('we are going home')\n",
    "m"
   ]
  },
  {
   "cell_type": "code",
   "execution_count": 38,
   "id": "efe8d160",
   "metadata": {},
   "outputs": [
    {
     "data": {
      "text/plain": [
       "['home']"
      ]
     },
     "execution_count": 38,
     "metadata": {},
     "output_type": "execute_result"
    }
   ],
   "source": [
    "# [과제] 'home sweet'에서 home만 출력하세요.\n",
    "p=re.compile('^home')\n",
    "m=p.findall('home sweet')\n",
    "m"
   ]
  },
  {
   "cell_type": "code",
   "execution_count": 63,
   "id": "5c17e4e0",
   "metadata": {},
   "outputs": [
    {
     "name": "stdout",
     "output_type": "stream",
     "text": [
      "199305\n"
     ]
    }
   ],
   "source": [
    "# [과제] '199305, 1923A, a93247'에서 '199305'만 출력하세요\n",
    "test='199305, 1923A, a93247'\n",
    "p=re.compile('[\\w]+')\n",
    "m=p.search(test)\n",
    "print(m.group())"
   ]
  },
  {
   "cell_type": "code",
   "execution_count": 37,
   "id": "0ebd892e",
   "metadata": {},
   "outputs": [
    {
     "name": "stdout",
     "output_type": "stream",
     "text": [
      "<re.Match object; span=(3, 9), match='ABCDEF'>\n",
      "ABCDEF\n",
      "ABCDEF\n",
      "AB\n",
      "CD\n",
      "EF\n"
     ]
    }
   ],
   "source": [
    "# 그룹핑 : 매치된 문자열 중에서 특정 부분의 문자열만 뽑아내는 경우 ()을 만들어 준다.\n",
    "# group(0) 매치된 전체 문자열, 1 첫번째 그룹, 2 두번째 그룹, n n번째 그룹\n",
    "p=re.compile('((AB)(CD)(EF))+')\n",
    "m=p.search('DEFABCDEFDEF OK?')\n",
    "print(m)\n",
    "print(m.group(0))\n",
    "print(m.group(1))\n",
    "print(m.group(2))\n",
    "print(m.group(3))\n",
    "print(m.group(4))\n"
   ]
  },
  {
   "cell_type": "code",
   "execution_count": 80,
   "id": "79927487",
   "metadata": {},
   "outputs": [
    {
     "name": "stdout",
     "output_type": "stream",
     "text": [
      "abcdefghi\n",
      "e\n"
     ]
    }
   ],
   "source": [
    "# [과제] 'abcdefghij'에서 중첩을 적용한 서브그룹 5개로 컴파일 하여 group()함수를 이용하여\n",
    "# 'abcdefghi'와 'e'를 출력하세요.\n",
    "\n",
    "p=re.compile('(((ab)(cd(e))(fg)(hi))(j))')\n",
    "m=p.search('abcdefghij')\n",
    "print(m.group(2))\n",
    "print(m.group(5))"
   ]
  }
 ],
 "metadata": {
  "kernelspec": {
   "display_name": "Python 3 (ipykernel)",
   "language": "python",
   "name": "python3"
  },
  "language_info": {
   "codemirror_mode": {
    "name": "ipython",
    "version": 3
   },
   "file_extension": ".py",
   "mimetype": "text/x-python",
   "name": "python",
   "nbconvert_exporter": "python",
   "pygments_lexer": "ipython3",
   "version": "3.8.12"
  }
 },
 "nbformat": 4,
 "nbformat_minor": 5
}
