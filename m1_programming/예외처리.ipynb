{
 "cells": [
  {
   "cell_type": "code",
   "execution_count": 1,
   "id": "ba044445",
   "metadata": {},
   "outputs": [
    {
     "ename": "SyntaxError",
     "evalue": "EOL while scanning string literal (Temp/ipykernel_2840/2517040979.py, line 4)",
     "output_type": "error",
     "traceback": [
      "\u001b[1;36m  File \u001b[1;32m\"C:\\Users\\admin\\AppData\\Local\\Temp/ipykernel_2840/2517040979.py\"\u001b[1;36m, line \u001b[1;32m4\u001b[0m\n\u001b[1;33m    print('구문오류!)\u001b[0m\n\u001b[1;37m                 ^\u001b[0m\n\u001b[1;31mSyntaxError\u001b[0m\u001b[1;31m:\u001b[0m EOL while scanning string literal\n"
     ]
    }
   ],
   "source": [
    "# 구문 오류 : 프로그램 실행전에 발생하는 오류\n",
    "# 예외 또는 런타임 오류 : 프로그램 실행중에 발생하는 오류\n",
    "\n",
    "print('구문오류!)"
   ]
  },
  {
   "cell_type": "code",
   "execution_count": 5,
   "id": "592b37e8",
   "metadata": {},
   "outputs": [
    {
     "name": "stdout",
     "output_type": "stream",
     "text": [
      "정수 입력 > r\n"
     ]
    },
    {
     "ename": "ValueError",
     "evalue": "invalid literal for int() with base 10: 'r'",
     "output_type": "error",
     "traceback": [
      "\u001b[1;31m---------------------------------------------------------------------------\u001b[0m",
      "\u001b[1;31mValueError\u001b[0m                                Traceback (most recent call last)",
      "\u001b[1;32m~\\AppData\\Local\\Temp/ipykernel_2840/2336103678.py\u001b[0m in \u001b[0;36m<module>\u001b[1;34m\u001b[0m\n\u001b[0;32m      1\u001b[0m \u001b[1;31m# 정수를 입력하지 않은 경우 예외 발생\u001b[0m\u001b[1;33m\u001b[0m\u001b[1;33m\u001b[0m\u001b[1;33m\u001b[0m\u001b[0m\n\u001b[1;32m----> 2\u001b[1;33m \u001b[0mnum_input\u001b[0m\u001b[1;33m=\u001b[0m\u001b[0mint\u001b[0m\u001b[1;33m(\u001b[0m\u001b[0minput\u001b[0m\u001b[1;33m(\u001b[0m\u001b[1;34m'정수 입력 > '\u001b[0m\u001b[1;33m)\u001b[0m\u001b[1;33m)\u001b[0m\u001b[1;33m\u001b[0m\u001b[1;33m\u001b[0m\u001b[0m\n\u001b[0m\u001b[0;32m      3\u001b[0m \u001b[0mprint\u001b[0m\u001b[1;33m(\u001b[0m\u001b[1;34m'원의 반지름 : '\u001b[0m\u001b[1;33m,\u001b[0m\u001b[0mnum_input\u001b[0m\u001b[1;33m)\u001b[0m\u001b[1;33m\u001b[0m\u001b[1;33m\u001b[0m\u001b[0m\n",
      "\u001b[1;31mValueError\u001b[0m: invalid literal for int() with base 10: 'r'"
     ]
    }
   ],
   "source": [
    "# 정수를 입력하지 않은 경우 예외 발생\n",
    "num_input=int(input('정수 입력 > '))\n",
    "print('원의 반지름 : ',num_input)"
   ]
  },
  {
   "cell_type": "code",
   "execution_count": 16,
   "id": "c30a487a",
   "metadata": {},
   "outputs": [
    {
     "name": "stdout",
     "output_type": "stream",
     "text": [
      "정수 입력 > 1\n",
      "원의 반지름 :  1\n"
     ]
    }
   ],
   "source": [
    "# 조건문으로 예외 처리\n",
    "\n",
    "while 1:\n",
    "    num_input=input('정수 입력 > ')\n",
    "    if num_input.isdigit() == True:\n",
    "        print('원의 반지름 : ',num_input)\n",
    "        break\n",
    "    else:\n",
    "        print('정수만 입력하시오.')"
   ]
  },
  {
   "cell_type": "code",
   "execution_count": 17,
   "id": "5cf34461",
   "metadata": {},
   "outputs": [
    {
     "name": "stdout",
     "output_type": "stream",
     "text": [
      "안녕하세요\n"
     ]
    },
    {
     "ename": "NameError",
     "evalue": "name 'param' is not defined",
     "output_type": "error",
     "traceback": [
      "\u001b[1;31m---------------------------------------------------------------------------\u001b[0m",
      "\u001b[1;31mNameError\u001b[0m                                 Traceback (most recent call last)",
      "\u001b[1;32m~\\AppData\\Local\\Temp/ipykernel_2840/12626273.py\u001b[0m in \u001b[0;36m<module>\u001b[1;34m\u001b[0m\n\u001b[0;32m      1\u001b[0m \u001b[0mprint\u001b[0m\u001b[1;33m(\u001b[0m\u001b[1;34m'안녕하세요'\u001b[0m\u001b[1;33m)\u001b[0m\u001b[1;33m\u001b[0m\u001b[1;33m\u001b[0m\u001b[0m\n\u001b[1;32m----> 2\u001b[1;33m \u001b[0mprint\u001b[0m\u001b[1;33m(\u001b[0m\u001b[0mparam\u001b[0m\u001b[1;33m)\u001b[0m\u001b[1;33m\u001b[0m\u001b[1;33m\u001b[0m\u001b[0m\n\u001b[0m",
      "\u001b[1;31mNameError\u001b[0m: name 'param' is not defined"
     ]
    }
   ],
   "source": [
    "print('안녕하세요')\n",
    "print(param)"
   ]
  },
  {
   "cell_type": "code",
   "execution_count": 18,
   "id": "59219f2a",
   "metadata": {},
   "outputs": [
    {
     "name": "stdout",
     "output_type": "stream",
     "text": [
      "안녕하세요\n",
      "예외가 발생했습니다.\n"
     ]
    }
   ],
   "source": [
    "try:\n",
    "    print('안녕하세요')\n",
    "    print(param)\n",
    "except:\n",
    "    print('예외가 발생했습니다.')"
   ]
  },
  {
   "cell_type": "code",
   "execution_count": 19,
   "id": "6226f85b",
   "metadata": {},
   "outputs": [
    {
     "name": "stdout",
     "output_type": "stream",
     "text": [
      "안녕하세요\n",
      "예외가 발생했습니다.\n",
      "무조건 실행하는 코드\n"
     ]
    }
   ],
   "source": [
    "try:\n",
    "    print('안녕하세요')\n",
    "    print(param)\n",
    "except:\n",
    "    print('예외가 발생했습니다.')\n",
    "finally:\n",
    "    print('무조건 실행하는 코드')"
   ]
  },
  {
   "cell_type": "code",
   "execution_count": 20,
   "id": "b7bd3197",
   "metadata": {},
   "outputs": [
    {
     "name": "stdout",
     "output_type": "stream",
     "text": [
      "name 'param' is not defined\n"
     ]
    }
   ],
   "source": [
    "# 코드에서 예외 발생 내용을 확인하고자 하는 경우 처리 방법\n",
    "\n",
    "try:\n",
    "    print(param)\n",
    "except Exception as e:\n",
    "    print(e)"
   ]
  },
  {
   "cell_type": "code",
   "execution_count": 24,
   "id": "9d5d412c",
   "metadata": {},
   "outputs": [
    {
     "name": "stdout",
     "output_type": "stream",
     "text": [
      "1\n",
      "2\n",
      "3\n",
      "사용자에 의해 프로그램이 중단되었습니다.\n"
     ]
    }
   ],
   "source": [
    "import time\n",
    "count=1\n",
    "try:\n",
    "    5\n",
    "    while 1:\n",
    "        print(count)\n",
    "        count+=1\n",
    "        time.sleep(0.5)\n",
    "except KeyboardInterrupt :\n",
    "    print('사용자에 의해 프로그램이 중단되었습니다.')"
   ]
  },
  {
   "cell_type": "code",
   "execution_count": null,
   "id": "9c14acc1",
   "metadata": {},
   "outputs": [],
   "source": [
    "List=['52','273','32','문자','103']\n",
    "try:\n",
    "    for i in List:\n",
    "        if i.isdigit()==1:\n",
    "            print(i)\n",
    "except:\n",
    "    print('Error')\n",
    "# finally:\n",
    "#     print(i)"
   ]
  },
  {
   "cell_type": "code",
   "execution_count": 48,
   "id": "9ad84fea",
   "metadata": {},
   "outputs": [
    {
     "name": "stdout",
     "output_type": "stream",
     "text": [
      "[52, 273, 32, 103]\n"
     ]
    }
   ],
   "source": [
    "# Q. 리스트 ['52','273','32','문자','103'] 에서 숫자 부분만 출력하세요.\n",
    "List=['52','273','32','문자','103']\n",
    "num=[]\n",
    "for i in List:\n",
    "    try:\n",
    "        num.append(int(i))\n",
    "    except :\n",
    "        pass\n",
    "    \n",
    "print(num)"
   ]
  },
  {
   "cell_type": "code",
   "execution_count": 50,
   "id": "7df43986",
   "metadata": {},
   "outputs": [
    {
     "name": "stdout",
     "output_type": "stream",
     "text": [
      "입력 : 1\n",
      "정수\n"
     ]
    }
   ],
   "source": [
    "# Q. 정수를 입력하면 '정수', 정수가 아니면 '정수 아님'을 출력하세요.\n",
    "try:\n",
    "    inp=int(input(\"입력 : \"))\n",
    "    print('정수')\n",
    "except:\n",
    "    print('정수 아님')\n",
    "\n",
    "    "
   ]
  },
  {
   "cell_type": "code",
   "execution_count": 66,
   "id": "980332f1",
   "metadata": {},
   "outputs": [
    {
     "name": "stdout",
     "output_type": "stream",
     "text": [
      "입력 : 가\n",
      "가\n",
      "정수 아님\n",
      "프로그램 종료\n"
     ]
    }
   ],
   "source": [
    "# Q. 정수를 입력하면 '입력 정수' > '예외 발생하지 않음' > '프로그램 종료'\n",
    "# 정수가 아니면 '입력 값' > '정수 아님' > '프로그램 종료' 순서대로 출력하세요.\n",
    "\n",
    "inp=input(\"입력 : \")\n",
    "try:\n",
    "    print(int(inp))\n",
    "    print('예외 발생하지 않음')\n",
    "except:\n",
    "    print(inp)\n",
    "    print('정수 아님')\n",
    "finally:\n",
    "    print('프로그램 종료')\n"
   ]
  },
  {
   "cell_type": "code",
   "execution_count": 64,
   "id": "ff0f6e9a",
   "metadata": {},
   "outputs": [
    {
     "name": "stdout",
     "output_type": "stream",
     "text": [
      "입력 : 가\n",
      "프로그램 종료\n"
     ]
    },
    {
     "ename": "ValueError",
     "evalue": "invalid literal for int() with base 10: '가'",
     "output_type": "error",
     "traceback": [
      "\u001b[1;31m---------------------------------------------------------------------------\u001b[0m",
      "\u001b[1;31mValueError\u001b[0m                                Traceback (most recent call last)",
      "\u001b[1;32m~\\AppData\\Local\\Temp/ipykernel_2840/3317309883.py\u001b[0m in \u001b[0;36m<module>\u001b[1;34m\u001b[0m\n\u001b[0;32m      6\u001b[0m     \u001b[0mprint\u001b[0m\u001b[1;33m(\u001b[0m\u001b[1;34m'정수 아님'\u001b[0m\u001b[1;33m)\u001b[0m\u001b[1;33m\u001b[0m\u001b[1;33m\u001b[0m\u001b[0m\n\u001b[0;32m      7\u001b[0m \u001b[1;32melse\u001b[0m\u001b[1;33m:\u001b[0m\u001b[1;33m\u001b[0m\u001b[1;33m\u001b[0m\u001b[0m\n\u001b[1;32m----> 8\u001b[1;33m     \u001b[0mprint\u001b[0m\u001b[1;33m(\u001b[0m\u001b[0mint\u001b[0m\u001b[1;33m(\u001b[0m\u001b[0minp\u001b[0m\u001b[1;33m)\u001b[0m\u001b[1;33m)\u001b[0m\u001b[1;33m\u001b[0m\u001b[1;33m\u001b[0m\u001b[0m\n\u001b[0m\u001b[0;32m      9\u001b[0m     \u001b[0mprint\u001b[0m\u001b[1;33m(\u001b[0m\u001b[1;34m'예외 발생하지 않음'\u001b[0m\u001b[1;33m)\u001b[0m\u001b[1;33m\u001b[0m\u001b[1;33m\u001b[0m\u001b[0m\n\u001b[0;32m     10\u001b[0m \u001b[1;32mfinally\u001b[0m\u001b[1;33m:\u001b[0m\u001b[1;33m\u001b[0m\u001b[1;33m\u001b[0m\u001b[0m\n",
      "\u001b[1;31mValueError\u001b[0m: invalid literal for int() with base 10: '가'"
     ]
    }
   ],
   "source": [
    "\n",
    "try:\n",
    "    inp=input(\"입력 : \")    \n",
    "except:\n",
    "    print(inp)\n",
    "    print('정수 아님')\n",
    "else:\n",
    "    print(int(inp))\n",
    "    print('예외 발생하지 않음')\n",
    "finally:\n",
    "    print('프로그램 종료')"
   ]
  },
  {
   "cell_type": "code",
   "execution_count": 76,
   "id": "bcc71990",
   "metadata": {},
   "outputs": [
    {
     "name": "stdout",
     "output_type": "stream",
     "text": [
      "프로그램이 시작되었습니다.\n",
      "try 구문이 실행되었습니다.\n",
      "except 구문이 실행되었습니다.\n",
      "finally 구문이 실행되었습니다.\n",
      "프로그램이 종료되었습니다.\n"
     ]
    }
   ],
   "source": [
    "print('프로그램이 시작되었습니다.')\n",
    "while 1:\n",
    "    try :\n",
    "        print('try 구문이 실행되었습니다.')\n",
    "        int('a')\n",
    "    except:\n",
    "        print('except 구문이 실행되었습니다.')\n",
    "    finally:\n",
    "        print('finally 구문이 실행되었습니다.')\n",
    "        break\n",
    "    print('while 반복문의 마지막 줄입니다.')\n",
    "print('프로그램이 종료되었습니다.')\n",
    "        "
   ]
  },
  {
   "cell_type": "code",
   "execution_count": 85,
   "id": "9635fbd3",
   "metadata": {},
   "outputs": [
    {
     "name": "stdout",
     "output_type": "stream",
     "text": [
      "정수 입력> rr\n",
      "<class 'ValueError'>\n",
      "invalid literal for int() with base 10: 'rr'\n"
     ]
    }
   ],
   "source": [
    "# [과제] 숫자 대신 문자를 입력 시 예외가 발생되는데 아래 코드를 수정해서 예외 객체의\n",
    "# 자료형과 예외 객체 자체를 출력하세요\n",
    "try:\n",
    "    num_input = input('정수 입력> ')\n",
    "    num=int(num_input)\n",
    "    print('원의 반지름 : ', num)\n",
    "    print('원의 둘레 : ', 2*3.14*num)\n",
    "    print('원의 넓이 : ', 3.14*num*num)\n",
    "except Exception as e:\n",
    "\n",
    "    print(type(e))\n",
    "    print(e)\n",
    "    \n"
   ]
  },
  {
   "cell_type": "code",
   "execution_count": 88,
   "id": "3077d284",
   "metadata": {},
   "outputs": [
    {
     "name": "stdout",
     "output_type": "stream",
     "text": [
      "정수 입력 > 7\n",
      "<class 'IndexError'>\n",
      "list index out of range\n",
      "\"모든 예외처리 완료\"\n"
     ]
    }
   ],
   "source": [
    "# [과제] 아래 코드를 보완하여 발생 가능한 모든 예외(정수, 인덱스, 미리 파악하지 못한 예외)\n",
    "# 를 처리한 후 마지막에 \"모든 예외처리 완료\"를 출력하세요.\n",
    "\n",
    "list_num=[52,273,32,72,100]\n",
    "try:\n",
    "    num_input=(input('정수 입력 > '))\n",
    "    num=int(num_input)\n",
    "    print(f'{num}번째 요소 : {list_num[num-1]}')\n",
    "except Exception as e:\n",
    "    print(type(e))\n",
    "    print(e)\n",
    "finally:\n",
    "    print('\"모든 예외처리 완료\"')"
   ]
  },
  {
   "cell_type": "code",
   "execution_count": null,
   "id": "c43db62d",
   "metadata": {},
   "outputs": [],
   "source": [
    "# [도전 과제] 예외처리 3건 이상 사용 자유 주제"
   ]
  }
 ],
 "metadata": {
  "kernelspec": {
   "display_name": "Python 3 (ipykernel)",
   "language": "python",
   "name": "python3"
  },
  "language_info": {
   "codemirror_mode": {
    "name": "ipython",
    "version": 3
   },
   "file_extension": ".py",
   "mimetype": "text/x-python",
   "name": "python",
   "nbconvert_exporter": "python",
   "pygments_lexer": "ipython3",
   "version": "3.8.12"
  }
 },
 "nbformat": 4,
 "nbformat_minor": 5
}
