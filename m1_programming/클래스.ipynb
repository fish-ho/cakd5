{
 "cells": [
  {
   "cell_type": "markdown",
   "id": "e627a3c9",
   "metadata": {},
   "source": [
    "## 클래스\n",
    "\n",
    "클래스(class)란 똑같은 무엇인가를 계속해서 만들어 낼 수 있는 설계 도면이고(과자 틀), 객체(object)란 클래스로 만든 피조물(과자 틀을 사용해 만든 과자)을 뜻한다. 과자 틀 → 클래스 (class)과자 틀에 의해서 만들어진 과자 → 객체 (object)\n",
    "\n",
    "- class : 함수 + 변수 모아놓은 것\n",
    "- 오브젝트(object) : 클래스를 써서 만든 것\n",
    "- 오브젝트(object) == 인스턴스(instance)\n",
    "- 클래스를 정의한 후, 그 클래스를 사용해서 데이터 객체(인스턴스)를 만들 수 있다.\n",
    "- 동일한 클래스에 의해 만들어진 각 객체들은 유사한 특징을 공유한다.\n",
    "- 모든 인스턴스에서 메소드(=코드)는 동일하지만, 속성(데이터)는 다르다.\n",
    "    - 메소드 : 코드\n",
    "    - 속성 : 데이터\n",
    "    - 인스턴스 : 클래스에 의해 만들어진 데이터 객체\n",
    "    - a = 클래스() 이렇게 만든 a는 객체이다. 그리고 a 객체는 클래스의 인스턴스이다. 즉 인스턴스라는 말은 특정 객체(a)가 어떤 클래스의 객체인지를 관계 위주로 설명할 때 사용\n",
    "\n",
    "\n"
   ]
  },
  {
   "cell_type": "code",
   "execution_count": null,
   "id": "bd1e2054",
   "metadata": {},
   "outputs": [],
   "source": [
    "# [과제] 클래스의 정의 및 사용하는 방법을 설명"
   ]
  },
  {
   "cell_type": "code",
   "execution_count": 6,
   "id": "354573d5",
   "metadata": {},
   "outputs": [
    {
     "name": "stdout",
     "output_type": "stream",
     "text": [
      "어정호은 25세이며 computer을 전공했습니다. \n",
      "어정호\n",
      "25\n",
      "computer\n"
     ]
    }
   ],
   "source": [
    "# 클래스 생성자(인자가 있는 경우)\n",
    "\n",
    "class Cakd:\n",
    "    def __init__(self,name,age,major):\n",
    "        self.name = name\n",
    "        self.age = age\n",
    "        self.major = major\n",
    "        print(f'{self.name}은 {self.age}세이며 {self.major}을 전공했습니다. ')\n",
    "\n",
    "어정호 = Cakd('어정호',25,'computer')\n",
    "print(어정호.name)\n",
    "print(어정호.age)\n",
    "print(어정호.major)\n",
    "    "
   ]
  },
  {
   "cell_type": "code",
   "execution_count": 1,
   "id": "2ae2bc06",
   "metadata": {},
   "outputs": [
    {
     "name": "stdout",
     "output_type": "stream",
     "text": [
      "Cakd 인스턴스 객체가 메모리에서 제거됩니다.\n"
     ]
    }
   ],
   "source": [
    "# 클래스 소멸자\n",
    "# 클래스 인스턴스 객체가 메모리에서 제거될 때 자동으로 호출되는 클래스 메소드\n",
    "\n",
    "class Cakd:\n",
    "    def __del__(self):\n",
    "        print('Cakd 인스턴스 객체가 메모리에서 제거됩니다.')\n",
    "        \n",
    "obj=Cakd()\n",
    "del obj"
   ]
  },
  {
   "cell_type": "markdown",
   "id": "97f4f245",
   "metadata": {},
   "source": [
    "## 클래스 멤버, 클래스 메소드\n",
    "- 클래스를 구성하는 주요 요소는 클래스 멤버(변수)와 클래스 메소드(함수)로 클래스 공간내에서 정의\n",
    "- 클래스 멤버는 클래스 메소드내에서 정의되는 지역변수나 인스턴스 멤버와는 다름\n",
    "- 클래스 메소드는 첫번째 인자가 반드시 self로 시작한다.\n",
    "- self는 이 클래스의 인스턴스 객체를 가리키는 참조자\n",
    "- 인스턴스 객체에서 클래스 메소드를 호출 시 첫번째 인자인 self 생략"
   ]
  },
  {
   "cell_type": "code",
   "execution_count": 3,
   "id": "f3cb3663",
   "metadata": {},
   "outputs": [
    {
     "name": "stdout",
     "output_type": "stream",
     "text": [
      "안녕하세요\n",
      "안녕하세요\n"
     ]
    }
   ],
   "source": [
    "class MyClass:\n",
    "    var = '안녕하세요' # 클래스 멤버\n",
    "    def sayHello(self): # 클래스 메소드\n",
    "        return self.var\n",
    "    \n",
    "obj=MyClass()\n",
    "print(obj.var)\n",
    "print(obj.sayHello())"
   ]
  },
  {
   "cell_type": "code",
   "execution_count": 1,
   "id": "46b7e18d",
   "metadata": {},
   "outputs": [
    {
     "name": "stdout",
     "output_type": "stream",
     "text": [
      "안녕하세요\n",
      "안녕\n",
      "안녕하세요\n"
     ]
    }
   ],
   "source": [
    "# 클래스 멤버와 인스턴스 멤버\n",
    "# 클래스 멤버는 클래스 메소드 바깥에서 선언되고 인스턴스 멤버는 클래스 메소드 안에서 self와 함께 선언\n",
    "\n",
    "class MyClass:\n",
    "    var='안녕하세요' # 클래스 멤버\n",
    "    def sayHello(self): # 클래스 메소드\n",
    "        param1='안녕' # 지역변수\n",
    "        self.param2='하이' # 인스턴스 멤버\n",
    "        print(param1)\n",
    "        print(self.var)\n",
    "        \n",
    "obj=MyClass()\n",
    "print(obj.var)\n",
    "obj.sayHello()"
   ]
  },
  {
   "cell_type": "code",
   "execution_count": 1,
   "id": "2e3e8dc3",
   "metadata": {},
   "outputs": [
    {
     "name": "stdout",
     "output_type": "stream",
     "text": [
      "안녕하세요\n",
      "어정호! 다음에 보자\n"
     ]
    }
   ],
   "source": [
    "# 클래스 메소드\n",
    "# 클래스네에서 정의되는 클래스 메소드는 첫번째 인자가 반드시 self여야 한다.\n",
    "\n",
    "class MyClass:\n",
    "    def sayHello(self):\n",
    "        print('안녕하세요')\n",
    "    def sayBye(self,name):\n",
    "        print(f'{name}! 다음에 보자')\n",
    "\n",
    "obj=MyClass()\n",
    "obj.sayHello()\n",
    "obj.sayBye('어정호')"
   ]
  },
  {
   "cell_type": "markdown",
   "id": "fd5c43bc",
   "metadata": {},
   "source": [
    "## 객체 지향 프로그래밍(Object-Oriented Programming)\n",
    "- 클래스 인스턴스는 객체(object)라고도 하며 이렇게 클래스를 정의하고 객체를 만드는 패턴을 객체 지향 프로그래밍(OOP)이라고 함\n",
    "- 인스턴스를 불러온다는 것은 클래스를 가져와 객체로 바꿔준다는 것인데 type() 함수를 사용하는 것은 그 반대\n",
    "- 객체의 type을 확인해 보면 해당 객체가 어떤 클래스의 인스턴스인지를 확인\n",
    "- 파이썬에서 main은 \"현재 실행중인 파일\"을 의미"
   ]
  },
  {
   "cell_type": "code",
   "execution_count": 2,
   "id": "01739145",
   "metadata": {},
   "outputs": [
    {
     "name": "stdout",
     "output_type": "stream",
     "text": [
      "<class '__main__.Test'>\n"
     ]
    }
   ],
   "source": [
    "# 임의의 클래스를 작성한 후 인스턴스를 생성하고 그것의 타입을 확인\n",
    "class Test:\n",
    "    pass\n",
    "\n",
    "test=Test()\n",
    "print(type(test))"
   ]
  },
  {
   "cell_type": "markdown",
   "id": "6ad1c793",
   "metadata": {},
   "source": [
    "## 클래스 상속\n",
    "- 어떤 클래스가 가지고 있는 모든 멤버나 메소드를 상송받는 클래스가 모두 사용할 수 있도록 해주는 것\n",
    "- 상속을 해주는 클래스가 부모 클래스(슈퍼), 상속을 받는 클래스가 자식클래스(서브)라 함. class 자식클래스명(부모클래스명)\n",
    "- 자식 클래스는 여러 부모클래스로 부터 상속받을 수 있으며 다중상속이라 함. class 자식클래스명(부모클래스1, 부모클래스2,...)"
   ]
  },
  {
   "cell_type": "code",
   "execution_count": 3,
   "id": "ffb720d9",
   "metadata": {},
   "outputs": [
    {
     "name": "stdout",
     "output_type": "stream",
     "text": [
      "9\n",
      "6\n",
      "2\n"
     ]
    }
   ],
   "source": [
    "class Sum:\n",
    "    def sum(self,n1,n2):\n",
    "        return n1+n2\n",
    "\n",
    "class Mul:\n",
    "    def mul(self, x,y):\n",
    "        return x*y\n",
    "\n",
    "class Cal(Sum,Mul):\n",
    "    def sub(self, a,b):\n",
    "        return a-b\n",
    "\n",
    "obj=Cal()\n",
    "print(obj.sum(7,2))\n",
    "print(obj.mul(3,2))\n",
    "print(obj.sub(5,3))"
   ]
  },
  {
   "cell_type": "code",
   "execution_count": 22,
   "id": "69682b36",
   "metadata": {},
   "outputs": [
    {
     "name": "stdout",
     "output_type": "stream",
     "text": [
      "어정호, 안녕하세요. \n",
      "어정호! 다음에 보자.\n"
     ]
    }
   ],
   "source": [
    "# Q. 클래스 MyClass를 작성하고 객체를 생성하여 아래와 같이 출력하세요(생성자 사용)\n",
    "# kevin, 안녕하세요\n",
    "# kevin! 다음에 보자\n",
    "class MyClass:\n",
    "    def __init__(self, name):\n",
    "        self.name=name\n",
    "    def hello(self):    \n",
    "        print(f'{self.name}, 안녕하세요. ')\n",
    "    def bye(self):\n",
    "        print(f'{self.name}! 다음에 보자.')\n",
    "\n",
    "obj=MyClass('어정호')\n",
    "obj.hello()\n",
    "obj.bye()\n"
   ]
  },
  {
   "cell_type": "code",
   "execution_count": 6,
   "id": "16c404f7",
   "metadata": {},
   "outputs": [
    {
     "name": "stdout",
     "output_type": "stream",
     "text": [
      "값을 입력하세요 : 700\n",
      "1700\n",
      "0\n",
      "값을 입력하세요 : 800\n",
      "1800\n",
      "1800\n"
     ]
    }
   ],
   "source": [
    "# [과제] 사용자 함수를 작성하여 기본가격 1000에 입력 받은 값을 추가한 가격을 산출하세요.\n",
    "# (지역변수, 전역변수 2가지 방법)\n",
    "base=1000\n",
    "result=0\n",
    "def plus():\n",
    "    inp=int(input(\"값을 입력하세요 : \"))\n",
    "    global result\n",
    "    result=base+inp\n",
    "    return result\n",
    "def plus_2():\n",
    "    inp=int(input(\"값을 입력하세요 : \"))\n",
    "    result=base+inp\n",
    "    return result\n",
    "print(plus_2())\n",
    "print(result)\n",
    "\n",
    "print(plus())\n",
    "print(result)"
   ]
  },
  {
   "cell_type": "code",
   "execution_count": 7,
   "id": "a9065adc",
   "metadata": {},
   "outputs": [
    {
     "name": "stdout",
     "output_type": "stream",
     "text": [
      "값을 입력하세요 : 700\n",
      "1700\n",
      "0\n"
     ]
    }
   ],
   "source": [
    "base=1000\n",
    "result=0\n",
    "def plus():\n",
    "    inp=int(input(\"값을 입력하세요 : \"))\n",
    "    result=base+inp\n",
    "    return result\n",
    "print(plus())\n",
    "print(result)"
   ]
  },
  {
   "cell_type": "code",
   "execution_count": 8,
   "id": "623c236c",
   "metadata": {},
   "outputs": [
    {
     "name": "stdout",
     "output_type": "stream",
     "text": [
      "첫번째 숫자10\n",
      "두번째 숫자5\n",
      "15\n",
      "5\n",
      "50\n",
      "2.0\n",
      "첫번째 숫자100\n",
      "두번째 숫자0\n",
      "100\n",
      "100\n",
      "0\n",
      "계산 불가\n",
      "None\n"
     ]
    },
    {
     "ename": "KeyboardInterrupt",
     "evalue": "Interrupted by user",
     "output_type": "error",
     "traceback": [
      "\u001b[1;31m---------------------------------------------------------------------------\u001b[0m",
      "\u001b[1;31mKeyboardInterrupt\u001b[0m                         Traceback (most recent call last)",
      "\u001b[1;32m~\\AppData\\Local\\Temp/ipykernel_6260/2887701463.py\u001b[0m in \u001b[0;36m<module>\u001b[1;34m\u001b[0m\n\u001b[0;32m     19\u001b[0m \u001b[1;32mwhile\u001b[0m \u001b[1;36m1\u001b[0m\u001b[1;33m:\u001b[0m\u001b[1;33m\u001b[0m\u001b[1;33m\u001b[0m\u001b[0m\n\u001b[0;32m     20\u001b[0m     \u001b[1;32mtry\u001b[0m\u001b[1;33m:\u001b[0m\u001b[1;33m\u001b[0m\u001b[1;33m\u001b[0m\u001b[0m\n\u001b[1;32m---> 21\u001b[1;33m         \u001b[0mx\u001b[0m\u001b[1;33m=\u001b[0m\u001b[0mint\u001b[0m\u001b[1;33m(\u001b[0m\u001b[0minput\u001b[0m\u001b[1;33m(\u001b[0m\u001b[1;34m\"첫번째 숫자\"\u001b[0m\u001b[1;33m)\u001b[0m\u001b[1;33m)\u001b[0m\u001b[1;33m\u001b[0m\u001b[1;33m\u001b[0m\u001b[0m\n\u001b[0m\u001b[0;32m     22\u001b[0m         \u001b[0my\u001b[0m\u001b[1;33m=\u001b[0m\u001b[0mint\u001b[0m\u001b[1;33m(\u001b[0m\u001b[0minput\u001b[0m\u001b[1;33m(\u001b[0m\u001b[1;34m\"두번째 숫자\"\u001b[0m\u001b[1;33m)\u001b[0m\u001b[1;33m)\u001b[0m\u001b[1;33m\u001b[0m\u001b[1;33m\u001b[0m\u001b[0m\n\u001b[0;32m     23\u001b[0m         \u001b[0mCal\u001b[0m\u001b[1;33m=\u001b[0m\u001b[0mCal4\u001b[0m\u001b[1;33m(\u001b[0m\u001b[0mx\u001b[0m\u001b[1;33m,\u001b[0m\u001b[0my\u001b[0m\u001b[1;33m)\u001b[0m\u001b[1;33m\u001b[0m\u001b[1;33m\u001b[0m\u001b[0m\n",
      "\u001b[1;32m~\\Anaconda3\\envs\\cakd5\\lib\\site-packages\\ipykernel\\kernelbase.py\u001b[0m in \u001b[0;36mraw_input\u001b[1;34m(self, prompt)\u001b[0m\n\u001b[0;32m   1004\u001b[0m                 \u001b[1;34m\"raw_input was called, but this frontend does not support input requests.\"\u001b[0m\u001b[1;33m\u001b[0m\u001b[1;33m\u001b[0m\u001b[0m\n\u001b[0;32m   1005\u001b[0m             )\n\u001b[1;32m-> 1006\u001b[1;33m         return self._input_request(\n\u001b[0m\u001b[0;32m   1007\u001b[0m             \u001b[0mstr\u001b[0m\u001b[1;33m(\u001b[0m\u001b[0mprompt\u001b[0m\u001b[1;33m)\u001b[0m\u001b[1;33m,\u001b[0m\u001b[1;33m\u001b[0m\u001b[1;33m\u001b[0m\u001b[0m\n\u001b[0;32m   1008\u001b[0m             \u001b[0mself\u001b[0m\u001b[1;33m.\u001b[0m\u001b[0m_parent_ident\u001b[0m\u001b[1;33m[\u001b[0m\u001b[1;34m\"shell\"\u001b[0m\u001b[1;33m]\u001b[0m\u001b[1;33m,\u001b[0m\u001b[1;33m\u001b[0m\u001b[1;33m\u001b[0m\u001b[0m\n",
      "\u001b[1;32m~\\Anaconda3\\envs\\cakd5\\lib\\site-packages\\ipykernel\\kernelbase.py\u001b[0m in \u001b[0;36m_input_request\u001b[1;34m(self, prompt, ident, parent, password)\u001b[0m\n\u001b[0;32m   1049\u001b[0m             \u001b[1;32mexcept\u001b[0m \u001b[0mKeyboardInterrupt\u001b[0m\u001b[1;33m:\u001b[0m\u001b[1;33m\u001b[0m\u001b[1;33m\u001b[0m\u001b[0m\n\u001b[0;32m   1050\u001b[0m                 \u001b[1;31m# re-raise KeyboardInterrupt, to truncate traceback\u001b[0m\u001b[1;33m\u001b[0m\u001b[1;33m\u001b[0m\u001b[1;33m\u001b[0m\u001b[0m\n\u001b[1;32m-> 1051\u001b[1;33m                 \u001b[1;32mraise\u001b[0m \u001b[0mKeyboardInterrupt\u001b[0m\u001b[1;33m(\u001b[0m\u001b[1;34m\"Interrupted by user\"\u001b[0m\u001b[1;33m)\u001b[0m \u001b[1;32mfrom\u001b[0m \u001b[1;32mNone\u001b[0m\u001b[1;33m\u001b[0m\u001b[1;33m\u001b[0m\u001b[0m\n\u001b[0m\u001b[0;32m   1052\u001b[0m             \u001b[1;32mexcept\u001b[0m \u001b[0mException\u001b[0m\u001b[1;33m:\u001b[0m\u001b[1;33m\u001b[0m\u001b[1;33m\u001b[0m\u001b[0m\n\u001b[0;32m   1053\u001b[0m                 \u001b[0mself\u001b[0m\u001b[1;33m.\u001b[0m\u001b[0mlog\u001b[0m\u001b[1;33m.\u001b[0m\u001b[0mwarning\u001b[0m\u001b[1;33m(\u001b[0m\u001b[1;34m\"Invalid Message:\"\u001b[0m\u001b[1;33m,\u001b[0m \u001b[0mexc_info\u001b[0m\u001b[1;33m=\u001b[0m\u001b[1;32mTrue\u001b[0m\u001b[1;33m)\u001b[0m\u001b[1;33m\u001b[0m\u001b[1;33m\u001b[0m\u001b[0m\n",
      "\u001b[1;31mKeyboardInterrupt\u001b[0m: Interrupted by user"
     ]
    }
   ],
   "source": [
    "# [과제] 사칙연산 기능을 포함한 Cal4 클래스(생성자 이용)을 작성하고 이 클래스를 이용하여\n",
    "# Cal 계산기 객체를 만든 후 적절한 수를 적용하여 사칙연산 수행 결과를 출력하세요.\n",
    "class Cal4:\n",
    "    def __init__(self,x,y):\n",
    "        self.x=x\n",
    "        self.y=y\n",
    "    def add(self):\n",
    "        return self.x + self.y\n",
    "    def sub(self):\n",
    "        return self.x - self.y\n",
    "    def mul(self):\n",
    "        return self.x * self.y\n",
    "    def div(self):\n",
    "        try:\n",
    "            return self.x / self.y\n",
    "        except Exception:\n",
    "            print('계산 불가')\n",
    "            \n",
    "while 1:            \n",
    "    try:\n",
    "        x=int(input(\"첫번째 숫자\"))\n",
    "        y=int(input(\"두번째 숫자\"))\n",
    "        Cal=Cal4(x,y)\n",
    "        print(Cal.add())\n",
    "        print(Cal.sub())\n",
    "        print(Cal.mul())\n",
    "        print(Cal.div())\n",
    "    except Exception:\n",
    "        print('오류')"
   ]
  },
  {
   "cell_type": "code",
   "execution_count": null,
   "id": "8e6561e4",
   "metadata": {},
   "outputs": [],
   "source": [
    "# [도전과제] 관심 주제에 대하여 100 ~ 200 라인 정도의 프로그램을 구조지향적으로 작성하신 후\n",
    "# 클래스를 이용한 객체지향 프로그래밍으로 수정하세요.(필요시 상속 이용)\n",
    "\n",
    "# [도전 과제] 예외처리 3건 이상 사용 자유 주제 ****************************************************\n",
    "import datetime as dt\n",
    "import time\n",
    "dic={}\n",
    "flag=True\n",
    "plag=True\n",
    "base_fee = 3000\n",
    "fee_per_10min = 500\n",
    "final_fee=0\n",
    "able_area=3\n",
    "def enter():\n",
    "    try:\n",
    "        car_num_come= input('차량 번호 입력: ')\n",
    "        print(len(car_num_come))\n",
    "        if len(car_num_come) == 7:\n",
    "            global able_area\n",
    "            global enter_time\n",
    "            global e_t\n",
    "            enter_time=dt.datetime.now()\n",
    "            e_t=enter_time.strftime('%Y%m%d%H%M%S')\n",
    "            dic[car_num_come]=e_t\n",
    "            able_area -= 1\n",
    "            print(f'주차 현황 - {dic}')\n",
    "            print(f'주차 가능 공간 : {able_area}')\n",
    "        else:\n",
    "            raise      \n",
    "    except:\n",
    "        print('차량번호를 \"00가0000\" 형식으로 입력해 주세요.')\n",
    "\n",
    "def work():\n",
    "    global able_area\n",
    "    while 1: #정산\n",
    "        car_num_out= input('차량 번호 입력: ')\n",
    "        if car_num_out in dic:\n",
    "            out_time= input('출차 시간 입력: ')\n",
    "            o_t_for_cal=dt.datetime.strptime(out_time,'%Y%m%d%H%M%S')\n",
    "            e_t_for_cal=dt.datetime.strptime(e_t,'%Y%m%d%H%M%S')\n",
    "            dif=o_t_for_cal - e_t_for_cal\n",
    "            time_total_sec=round(dif.total_seconds())\n",
    "            time_h=time_total_sec//3600\n",
    "            time_m=time_total_sec%3600//60\n",
    "            time_10m=time_m//10\n",
    "\n",
    "            if time_h > 0:\n",
    "                final_fee=base_fee + ((time_h-1)*fee_per_10min)*6 + ((time_10m)*fee_per_10min) \n",
    "                print(f'{car_num_out} 차량의 주차시간은 {time_h}시간 {time_m}분 \\n요금은 {final_fee}원 입니다.')\n",
    "                while 1:\n",
    "                    use_coupon=input('주차권(4시간)을 사용하시겠습니까? -- \"Y\" or \"N\"')\n",
    "                    try:\n",
    "                        if use_coupon =='Y':                       \n",
    "                            if time_h >= 4:\n",
    "                                final_fee=((time_h-4)*fee_per_10min)*6 + ((time_10m)*fee_per_10min)\n",
    "                                print(f'최종 요금은 {final_fee}원 입니다.')\n",
    "                                pay_fee=input('결제 하시겠습니까? -- \"Y\" or \"N\"')\n",
    "                                if pay_fee =='Y':\n",
    "                                    print('정산이 완료되었습니다.')\n",
    "                                    del dic[car_num_out]\n",
    "                                    able_area += 1\n",
    "                                    flag=False\n",
    "                                    plag=False\n",
    "                                    break\n",
    "\n",
    "                                elif pay_fee =='N':\n",
    "                                    print('초기화면으로 돌아갑니다.')\n",
    "                                    flag=False\n",
    "                                    plag=False\n",
    "                                    break\n",
    "\n",
    "                            else:\n",
    "                                print('정산이 완료되었습니다.')\n",
    "                                del dic[car_num_out]\n",
    "                                able_area += 1\n",
    "                                flag=False\n",
    "                                plag=False\n",
    "                                break\n",
    "\n",
    "                        elif use_coupon =='N':\n",
    "                            print(f'요금은 {final_fee}원 입니다. ')\n",
    "                            pay_fee=input('결제 하시겠습니까? -- \"Y\" or \"N\"')\n",
    "                            if pay_fee =='Y':\n",
    "                                print('정산이 완료되었습니다.')\n",
    "                                del dic[car_num_out]\n",
    "                                able_area += 1\n",
    "                                flag=False\n",
    "                                plag=False\n",
    "                                break\n",
    "\n",
    "                            elif pay_fee =='N':\n",
    "                                print('초기화면으로 돌아갑니다.')\n",
    "                                flag=False\n",
    "                                plag=False\n",
    "                                break\n",
    "                        else:\n",
    "                            raise\n",
    "                        \n",
    "                        if flag == False:\n",
    "                            break\n",
    "                        if plag == False:\n",
    "                            break\n",
    "                    except Exception as e:\n",
    "                        #print(e)\n",
    "                        print('\"Y\", \"N\"만 입력하세요')                \n",
    "            else:\n",
    "                final_fee=base_fee\n",
    "                print(f'{car_num_out} 차량의 주차시간은 {time_h}시간 {time_m}분 \\n 요금은 {final_fee}원 입니다.')\n",
    "                pay_fee=input('결제 하시겠습니까? -- \"Y\" or \"N\"')\n",
    "                if pay_fee =='Y':\n",
    "                    print('정산이 완료되었습니다.')\n",
    "                    del dic[car_num_out]\n",
    "                    able_area += 1\n",
    "                    flag=False\n",
    "                    plag=False\n",
    "                    break\n",
    "\n",
    "                elif pay_fee =='N':\n",
    "                    print('초기화면으로 돌아갑니다.')\n",
    "                    break\n",
    "        else:\n",
    "            print('없는 차량입니다. 차량 번호를 확인하여 주세요.')\n",
    "            break\n",
    "            \n",
    "        if plag == False:\n",
    "            break\n",
    "\n",
    "while 1:\n",
    "    if able_area > 0:\n",
    "        try:\n",
    "            work_choice=int(input('1. 입장 정보 입력 2. 정산 3. 종료'))\n",
    "            if work_choice == 1:\n",
    "                enter()\n",
    "            elif work_choice == 2:\n",
    "                work()\n",
    "            elif work_choice == 3: # 종료\n",
    "                break\n",
    "            else:\n",
    "                raise\n",
    "        except:\n",
    "            print('1,2,3 만 입력하세요')\n",
    "                      \n",
    "    else:\n",
    "        try:\n",
    "            work_choice=int(input('2. 정산 3. 종료'))\n",
    "            if work_choice == 2:\n",
    "                work()\n",
    "            elif work_choice == 3: # 종료\n",
    "                break\n",
    "            else:\n",
    "                raise\n",
    "        except:\n",
    "            print('2,3 만 입력하세요')\n",
    "            \n",
    "        \n",
    "\n",
    "\n",
    "        "
   ]
  },
  {
   "cell_type": "code",
   "execution_count": 11,
   "id": "757a28ae",
   "metadata": {},
   "outputs": [
    {
     "name": "stdout",
     "output_type": "stream",
     "text": [
      "2000\n",
      "7000\n",
      "1800\n"
     ]
    }
   ],
   "source": [
    "# Q. 기본가격 1000원인 3개의 상품에 대하여 임의의 추가 가격을 인수로 대입시 더한 가격을 산출하세요\n",
    "# (클래스 이용)\n",
    "\n",
    "class Order:\n",
    "    def __init__(self):\n",
    "        self.p=1000\n",
    "    def order(self,add):\n",
    "        self.p += add\n",
    "        return self.p\n",
    "    \n",
    "pd1=Order()\n",
    "pd2=Order()\n",
    "pd3=Order()\n",
    "\n",
    "print(pd1.order(1000))\n",
    "print(pd2.order(6000))\n",
    "print(pd3.order(800))"
   ]
  },
  {
   "cell_type": "code",
   "execution_count": 68,
   "id": "ff7d5b38",
   "metadata": {},
   "outputs": [
    {
     "name": "stdout",
     "output_type": "stream",
     "text": [
      "추가 금액 입력 : 500\n",
      "1500\n",
      "1350.0\n"
     ]
    }
   ],
   "source": [
    "# Q. 기본가격 1000원인 2개의 상품에 대하여 임의의 추가 가격을 입력시 아래 두개의 방식으로 산출하세요\n",
    "# price1 : 기본가격 + 추가가격\n",
    "# price2 : (기본가격 + 추가가격) * 90%\n",
    "\n",
    "class Order:\n",
    "    def __init__(self,add):\n",
    "        self.p=1000\n",
    "        self.a=add\n",
    "        price = self.p + self.a\n",
    "    def add_price(self):\n",
    "#        price = self.p + self.a\n",
    "        return price\n",
    "    def discount(self):\n",
    "        return price *0.9\n",
    "    \n",
    "price1=Order(add)\n",
    "price2=Order(add)\n",
    "\n",
    "try:\n",
    "    add=int(input(\"추가 금액 입력 : \"))\n",
    "    print(price1.add_price())\n",
    "    print(price2.discount())\n",
    "except:\n",
    "    print('숫자 입력')\n"
   ]
  },
  {
   "cell_type": "code",
   "execution_count": 69,
   "id": "54f70805",
   "metadata": {},
   "outputs": [
    {
     "name": "stdout",
     "output_type": "stream",
     "text": [
      "추가 금액 입력 : 500\n",
      "1500\n",
      "900.0\n"
     ]
    }
   ],
   "source": [
    "class Order:\n",
    "    def __init__(self):\n",
    "        self.p=1000\n",
    "    def add_price(self,add):\n",
    "        price = self.p + add\n",
    "        self.p += add\n",
    "        return self.p\n",
    "    def discount(self):\n",
    "        return price *0.9\n",
    "    \n",
    "price1=Order()\n",
    "price2=Order()\n",
    "\n",
    "try:\n",
    "    add=int(input(\"추가 금액 입력 : \"))\n",
    "    print(price1.add_price(add))\n",
    "    print(price2.discount())\n",
    "except:\n",
    "    print('숫자 입력')\n"
   ]
  },
  {
   "cell_type": "code",
   "execution_count": 15,
   "id": "24f4025c",
   "metadata": {},
   "outputs": [
    {
     "name": "stdout",
     "output_type": "stream",
     "text": [
      "시간 입력 : 18\n",
      "이름 입력 : 어정호\n",
      "2022-01-06 17:05:06.547128\n",
      "17\n",
      "05\n"
     ]
    }
   ],
   "source": [
    "# [과제] 업무미팅이 2시임을 알려주는 자동 이메일을 클래스 AutoEmail을 작성하여 아래와 같이 출력하세요.\n",
    "# 안녕하세요. 어정호님, 업무미팅은 2시입니다.\n",
    "import datetime as dt\n",
    "class AutoEmail:\n",
    "    def __init__(self,t,name):\n",
    "        self.now=dt.datetime.now()   \n",
    "        self.meet=t\n",
    "        self.name=name\n",
    "    def send_email(self):\n",
    "        print(self.now)\n",
    "        h_for_alarm=self.now.strftime('%H')\n",
    "        m_for_alarm=self.now.strftime('%M')\n",
    "        print(h_for_alarm)\n",
    "        print(m_for_alarm)\n",
    "        int_meet=int(self.meet)\n",
    "        int_h=int(h_for_alarm)\n",
    "        int_m=int(m_for_alarm)\n",
    "        if int_meet - int_h == 0 and int_m < 60:            \n",
    "            print(f'안녕하세요. {self.name}님, 업무미팅은 {self.meet}시 입니다.')\n",
    "\n",
    "t=input('시간 입력 : ')\n",
    "name=input('이름 입력 : ')         \n",
    "obj= AutoEmail(t,name)\n",
    "    \n",
    "obj.send_email()"
   ]
  },
  {
   "cell_type": "code",
   "execution_count": 18,
   "id": "44cdea16",
   "metadata": {},
   "outputs": [
    {
     "name": "stdout",
     "output_type": "stream",
     "text": [
      "시간 입력 : 18\n",
      "이름 입력 : 어정호\n",
      "안녕하세요. 어정호님, 업무미팅은 18시 입니다.\n"
     ]
    }
   ],
   "source": [
    "# [과제] 업무미팅이 2시임을 알려주는 자동 이메일을 클래스 AutoEmail을 작성하여 아래와 같이 출력하세요.\n",
    "# 안녕하세요. 어정호님, 업무미팅은 2시입니다.\n",
    "import datetime as dt\n",
    "class AutoEmail:\n",
    "    def __init__(self,t,name):\n",
    "        self.now=dt.datetime.now()   \n",
    "        self.meet=t\n",
    "        self.name=name\n",
    "    def send_email(self):\n",
    "        h_for_alarm=self.now.strftime('%H')\n",
    "        int_meet=int(self.meet)\n",
    "        int_h=int(h_for_alarm)\n",
    "        if int_meet - int_h == 1 :            \n",
    "            print(f'안녕하세요. {self.name}님, 업무미팅은 {self.meet}시 입니다.')\n",
    "\n",
    "t=input('시간 입력 : ')\n",
    "name=input('이름 입력 : ')\n",
    "\n",
    "obj= AutoEmail(t,name)\n",
    "    \n",
    "obj.send_email()"
   ]
  },
  {
   "cell_type": "code",
   "execution_count": 72,
   "id": "6b332a3e",
   "metadata": {},
   "outputs": [
    {
     "name": "stdout",
     "output_type": "stream",
     "text": [
      "1000\n",
      "1000원\n"
     ]
    }
   ],
   "source": [
    "# 오버라이딩\n",
    "# Order 클래스를 상속받아 extraOrder 클래스에서 메소드 오버라이딩하여 출력가격에 원이 추가되도록 출력하세요.\n",
    "class Order:\n",
    "    def __init__(self,name):\n",
    "        self.customer=0\n",
    "        self.name=name\n",
    "    def order(self,price):\n",
    "        self.customer += price\n",
    "        return self.customer\n",
    "    \n",
    "class ExtraOrder(Order):\n",
    "    def order(self,price):\n",
    "        self.customer += price\n",
    "        return str(self.customer)+'원'\n",
    "    \n",
    "order=(Order('어정호'))\n",
    "print(order.order(1000))\n",
    "\n",
    "extraCustomer=ExtraOrder(\"어정호\")\n",
    "print(extraCustomer.order(1000))"
   ]
  },
  {
   "cell_type": "code",
   "execution_count": 76,
   "id": "4ae51d45",
   "metadata": {},
   "outputs": [
    {
     "data": {
      "text/plain": [
       "4"
      ]
     },
     "execution_count": 76,
     "metadata": {},
     "output_type": "execute_result"
    }
   ],
   "source": [
    "# 인터프리터에서 마지막 실행결과 값을 가지는 변수로 사용\n",
    "1+1\n",
    "2+2\n",
    "_"
   ]
  },
  {
   "cell_type": "code",
   "execution_count": 81,
   "id": "17eb58d5",
   "metadata": {
    "scrolled": true
   },
   "outputs": [
    {
     "name": "stdout",
     "output_type": "stream",
     "text": [
      "hello world!\n",
      "hello world!\n",
      "hello world!\n",
      "hello world!\n",
      "hello world!\n",
      "\n",
      "0\n",
      "1\n",
      "2\n",
      "\n",
      "1 4\n"
     ]
    }
   ],
   "source": [
    "# 변수 값을 굳이 사용할 필요가 없는 경우\n",
    "\n",
    "for _ in range(5):\n",
    "    print('hello world!')\n",
    "print()\n",
    "for _ in range(3):\n",
    "    print(_)\n",
    "print()\n",
    "def values():\n",
    "    return (1,2,3,4)\n",
    "\n",
    "a,b,_,_=values()\n",
    "print(a,_)"
   ]
  },
  {
   "cell_type": "code",
   "execution_count": 91,
   "id": "e3acbb43",
   "metadata": {},
   "outputs": [
    {
     "name": "stdout",
     "output_type": "stream",
     "text": [
      "<class '__main__.Order'>\n"
     ]
    }
   ],
   "source": [
    "# 예약어를 변수명으로 사용할 수 없는 경우\n",
    "class Order:\n",
    "    def __init__(self):\n",
    "        self.coffee='Americano'\n",
    "        self.price=3000\n",
    "        \n",
    "def printClassName(class_):\n",
    "    print(class_)\n",
    "        \n",
    "order=Order()\n",
    "printClassName(order.__class__)"
   ]
  },
  {
   "cell_type": "markdown",
   "id": "44b88e22",
   "metadata": {},
   "source": [
    "https://ebbnflow.tistory.com/255\n"
   ]
  },
  {
   "cell_type": "code",
   "execution_count": 92,
   "id": "5467da1c",
   "metadata": {},
   "outputs": [
    {
     "name": "stdout",
     "output_type": "stream",
     "text": [
      "abc\n"
     ]
    }
   ],
   "source": [
    "# 클래스 변수 : 인스턴스 변수와 달리 모든 인스턴스 사이에 공유된 값을 가진 변수\n",
    "class MyClass:\n",
    "    value='abc' # 클래스 변수를 선언\n",
    "\n",
    "if __name__=='__main__':\n",
    "    print(MyClass.value)"
   ]
  },
  {
   "cell_type": "code",
   "execution_count": 94,
   "id": "71698000",
   "metadata": {},
   "outputs": [
    {
     "name": "stdout",
     "output_type": "stream",
     "text": [
      "1\n",
      "2\n",
      "3\n"
     ]
    }
   ],
   "source": [
    "# 인스턴스를 생성할 때마다 클래스 변수 value를 +1\n",
    "class MyClass:\n",
    "    value=0\n",
    "    def __init__(self):\n",
    "        MyClass.value += 1\n",
    "        \n",
    "if __name__==\"__main__\":\n",
    "    a=MyClass() # 인스턴스 a 생성\n",
    "    print(MyClass.value)\n",
    "    b=MyClass() # 인스턴스 b 생성\n",
    "    print(MyClass.value)\n",
    "    c=MyClass() # 인스턴스 c 생성\n",
    "    print(MyClass.value)"
   ]
  },
  {
   "cell_type": "code",
   "execution_count": 110,
   "id": "d3ec9d1e",
   "metadata": {},
   "outputs": [
    {
     "name": "stdout",
     "output_type": "stream",
     "text": [
      "1 honux\n",
      "2 crong\n"
     ]
    }
   ],
   "source": [
    "# 인스턴스 변수\n",
    "class User:\n",
    "    num_users=0 # 클래스 변수\n",
    "    def __init__(self,name):\n",
    "        self.name=name # 인스턴스 변수\n",
    "        User.num_users +=1\n",
    "\n",
    "u=User('honux')\n",
    "print(User.num_users, u.name)\n",
    "\n",
    "u2=User('crong')\n",
    "print(User.num_users, u2.name)"
   ]
  },
  {
   "cell_type": "code",
   "execution_count": 103,
   "id": "d9db9f60",
   "metadata": {},
   "outputs": [
    {
     "name": "stdout",
     "output_type": "stream",
     "text": [
      "i'm a Rockstar! \n"
     ]
    }
   ],
   "source": [
    "# 메소드 : 메소드는 클래스 안에서 정의된 함수. 첫번째 인수를 항상 self로 지정\n",
    "\n",
    "class Musician:\n",
    "    title='Rockstar'\n",
    "    def explanation(self):\n",
    "        print(f\"i'm a {self.title}! \")\n",
    "\n",
    "drummer = Musician()\n",
    "drummer.explanation()"
   ]
  },
  {
   "cell_type": "code",
   "execution_count": 109,
   "id": "fbf1eb1a",
   "metadata": {},
   "outputs": [
    {
     "name": "stdout",
     "output_type": "stream",
     "text": [
      "반지름 입력: 5\n",
      "78.5\n"
     ]
    }
   ],
   "source": [
    "# 다른 인수가 있는 메소드\n",
    "class Circle():\n",
    "    pi = 3.14\n",
    "    def area(self,radius):\n",
    "        return self.pi * radius ** 2\n",
    "\n",
    "circle=Circle()\n",
    "cus=Circle()\n",
    "pizza_area = circle.area(6)\n",
    "\n",
    "r=int(input('반지름 입력: '))\n",
    "pizza_area = circle.area(r)\n",
    "\n",
    "print(pizza_area)"
   ]
  },
  {
   "cell_type": "code",
   "execution_count": 111,
   "id": "caa2e343",
   "metadata": {},
   "outputs": [
    {
     "name": "stdout",
     "output_type": "stream",
     "text": [
      "Hello?!\n"
     ]
    }
   ],
   "source": [
    "# 생성자(Constructor)\n",
    "# 클래스를 호출할 때 자동으로 어떤 함수를 실행하거나 값을 호출하고 싶은 경우. __intit__ 을 사용\n",
    "# Shouter라는 클래스를 객체로 불러올 때마다 \"hello?!\" 라는 문자열을 출력\n",
    "\n",
    "class Shouter:\n",
    "    def __init__(self):\n",
    "        print('Hello?!')\n",
    "shout=Shouter()"
   ]
  }
 ],
 "metadata": {
  "kernelspec": {
   "display_name": "Python 3 (ipykernel)",
   "language": "python",
   "name": "python3"
  },
  "language_info": {
   "codemirror_mode": {
    "name": "ipython",
    "version": 3
   },
   "file_extension": ".py",
   "mimetype": "text/x-python",
   "name": "python",
   "nbconvert_exporter": "python",
   "pygments_lexer": "ipython3",
   "version": "3.8.12"
  }
 },
 "nbformat": 4,
 "nbformat_minor": 5
}
