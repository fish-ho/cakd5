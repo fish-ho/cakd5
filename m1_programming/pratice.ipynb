{
 "cells": [
  {
   "cell_type": "code",
   "execution_count": null,
   "id": "32ee364c",
   "metadata": {},
   "outputs": [],
   "source": [
    "# Q. '12345abc'에서 'a'만 출력하세요."
   ]
  },
  {
   "cell_type": "code",
   "execution_count": 12,
   "id": "4aea7163",
   "metadata": {},
   "outputs": [
    {
     "name": "stdout",
     "output_type": "stream",
     "text": [
      "4550\n"
     ]
    }
   ],
   "source": [
    "sum_n=0\n",
    "for i in range(1,101):\n",
    "    if 4 < i < 96:\n",
    "        sum_n+=i\n",
    "print(sum_n)"
   ]
  },
  {
   "cell_type": "code",
   "execution_count": 24,
   "id": "c3c0ca96",
   "metadata": {},
   "outputs": [
    {
     "name": "stdout",
     "output_type": "stream",
     "text": [
      "숫자를 입력하세요 : 2\n",
      "숫자를 입력하세요 : 4\n",
      "숫자를 입력하세요 : 6\n",
      "숫자를 입력하세요 : 7\n",
      "숫자를 입력하세요 : 9\n",
      "24679"
     ]
    }
   ],
   "source": [
    "li=[]\n",
    "li2=[]\n",
    "for i in range(5):\n",
    "    inp=input('숫자를 입력하세요 : ')\n",
    "    li.append(inp)\n",
    "\n",
    "for j in range(len(li)):\n",
    "    #print(str(li[j]),end='')\n",
    "    print(li[j],end='')\n",
    "    \n",
    "    "
   ]
  },
  {
   "cell_type": "code",
   "execution_count": 32,
   "id": "bf229e17",
   "metadata": {},
   "outputs": [
    {
     "name": "stdout",
     "output_type": "stream",
     "text": [
      "[1, 4, 9, 16, 25]\n"
     ]
    }
   ],
   "source": [
    "# 람다함수와 적합한 내장함수를 사용하여 아래와 같이 출력하세요\n",
    "# [1,2,3,4,5] -> [1,4,9,16,25]\n",
    "# [1,2,3,4,5] -> [1,2]\n",
    "a=[1,2,3,4,5]\n",
    "re=[]\n",
    "for i in range(1,len(a)+1):\n",
    "    c=[lambda x: x**2]\n",
    "    re.append(c[0](i))\n",
    "print(re)\n",
    "    \n",
    "    "
   ]
  }
 ],
 "metadata": {
  "kernelspec": {
   "display_name": "Python 3 (ipykernel)",
   "language": "python",
   "name": "python3"
  },
  "language_info": {
   "codemirror_mode": {
    "name": "ipython",
    "version": 3
   },
   "file_extension": ".py",
   "mimetype": "text/x-python",
   "name": "python",
   "nbconvert_exporter": "python",
   "pygments_lexer": "ipython3",
   "version": "3.8.12"
  }
 },
 "nbformat": 4,
 "nbformat_minor": 5
}
