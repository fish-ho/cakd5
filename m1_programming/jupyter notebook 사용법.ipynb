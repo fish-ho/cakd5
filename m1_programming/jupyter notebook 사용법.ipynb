{
 "cells": [
  {
   "cell_type": "code",
   "execution_count": 1,
   "id": "9e921dc0",
   "metadata": {},
   "outputs": [
    {
     "name": "stdout",
     "output_type": "stream",
     "text": [
      "Hello python\n"
     ]
    }
   ],
   "source": [
    "print(\"Hello python\")"
   ]
  },
  {
   "cell_type": "markdown",
   "id": "234cc3b2",
   "metadata": {},
   "source": [
    "# 주피터 노트북 사용법\n",
    "## 주피터 노트북 사용법\n",
    "### 주피터 노트북 사용법\n",
    "#### 주피터 노트북 사용법\n",
    "- 주피터\n",
    "- 노트북\n",
    "\n",
    "#### 주피터 노트북 사용법\n",
    "1. 주피터\n",
    "2. 노트북"
   ]
  },
  {
   "cell_type": "markdown",
   "id": "58b64bd9",
   "metadata": {},
   "source": [
    "단축키\n",
    "- ESC를 눌러 커맨드 모드로 진입하여 Enter를 통해 cell을 수정할 수 있다.\n",
    "- A 위에 생성\n",
    "- B 아래 생성\n",
    "- X cell 삭제\n",
    "- M 마크다운\n",
    "- Y 코드\n",
    "- Ctrl + Enter . Shift + Enter , Alt + Enter"
   ]
  },
  {
   "cell_type": "markdown",
   "id": "37c2025b",
   "metadata": {},
   "source": [
    "매직명령어 : 맨 앞에 %를 붙이고 특정 명령을 수행할 수 있다. 파이썬 문법에는 포함되지 않는 Jupyter notebook만의 기능\n",
    "<img src = '매직명령어.jpg' STYLE='width=800px:'>"
   ]
  },
  {
   "cell_type": "code",
   "execution_count": 5,
   "id": "a09293d8",
   "metadata": {},
   "outputs": [
    {
     "name": "stdout",
     "output_type": "stream",
     "text": [
      " C 드라이브의 볼륨에는 이름이 없습니다.\n",
      " 볼륨 일련 번호: 90FC-2C70\n",
      "\n",
      " C:\\cakd5\\workspace\\m1_programming 디렉터리\n",
      "\n",
      "2021-12-28  오후 04:27    <DIR>          .\n",
      "2021-12-28  오후 04:27    <DIR>          ..\n",
      "2021-12-28  오후 03:49    <DIR>          .ipynb_checkpoints\n",
      "2021-12-28  오후 04:27             1,899 jupyter notebook 사용법.ipynb\n",
      "2021-12-28  오후 03:49             1,097 기초.ipynb\n",
      "2021-12-28  오후 04:18            94,995 매직명령어.jpg\n",
      "               3개 파일              97,991 바이트\n",
      "               3개 디렉터리  957,574,987,776 바이트 남음\n"
     ]
    }
   ],
   "source": [
    "%ls"
   ]
  },
  {
   "cell_type": "code",
   "execution_count": 7,
   "id": "bfb794ef",
   "metadata": {},
   "outputs": [],
   "source": [
    "# 수식 문법\n",
    "# - markdown cell을 이용\n",
    "# - $ or $$를 앞뒤로 감싸서 수식을 기술\n",
    "#  - $' : 문장 안에 기술해야하는 경우\n",
    "#  - $$ : 전체 라인으로 표기\n",
    "# - _와 ^기호를 이용해서 아래첨자와 위첨자를 사용: a_1, a_{ij}, b^2, b^{ij}, c_1^2"
   ]
  },
  {
   "cell_type": "code",
   "execution_count": 2,
   "id": "278e6308",
   "metadata": {},
   "outputs": [
    {
     "name": "stdout",
     "output_type": "stream",
     "text": [
      "0 1 2 3 4 5 6 7 9 b "
     ]
    }
   ],
   "source": [
    "a=[0,1,2,3,4,5,6,7,9,'b','c']\n",
    "del a[-1]\n",
    "for i in a:\n",
    "    print(i,end=' ')"
   ]
  },
  {
   "cell_type": "markdown",
   "id": "f48879f2",
   "metadata": {},
   "source": [
    "$a^2 + b^2 = c^2$\n",
    "\n",
    "$$ E = mc^2 $$"
   ]
  },
  {
   "cell_type": "markdown",
   "id": "803e0433",
   "metadata": {},
   "source": [
    "https://www.youtube.com/channel/UCOlMZP-QJc0sWC2T0Rg2ZfA"
   ]
  }
 ],
 "metadata": {
  "kernelspec": {
   "display_name": "Python 3 (ipykernel)",
   "language": "python",
   "name": "python3"
  },
  "language_info": {
   "codemirror_mode": {
    "name": "ipython",
    "version": 3
   },
   "file_extension": ".py",
   "mimetype": "text/x-python",
   "name": "python",
   "nbconvert_exporter": "python",
   "pygments_lexer": "ipython3",
   "version": "3.8.12"
  }
 },
 "nbformat": 4,
 "nbformat_minor": 5
}
