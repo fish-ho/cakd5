{
 "cells": [
  {
   "cell_type": "code",
   "execution_count": 1,
   "id": "96aced00",
   "metadata": {},
   "outputs": [
    {
     "name": "stdout",
     "output_type": "stream",
     "text": [
      "Python 3.8.12\n"
     ]
    }
   ],
   "source": [
    "!python -V"
   ]
  },
  {
   "cell_type": "code",
   "execution_count": 6,
   "id": "24b4be4e",
   "metadata": {},
   "outputs": [
    {
     "name": "stdout",
     "output_type": "stream",
     "text": [
      "273\n"
     ]
    },
    {
     "data": {
      "text/plain": [
       "60"
      ]
     },
     "execution_count": 6,
     "metadata": {},
     "output_type": "execute_result"
    }
   ],
   "source": [
    "# 표현식\n",
    "print(273)\n",
    "10+20+30"
   ]
  },
  {
   "cell_type": "code",
   "execution_count": 7,
   "id": "22796aab",
   "metadata": {},
   "outputs": [
    {
     "name": "stdout",
     "output_type": "stream",
     "text": [
      "Hello Python\n",
      "52 Hello Python 8\n"
     ]
    }
   ],
   "source": [
    "# 표현식이 하나 이상씩 모이면 문장\n",
    "print(\"Hello Python\")\n",
    "print(52, 'Hello Python', 5+3)"
   ]
  },
  {
   "cell_type": "code",
   "execution_count": 13,
   "id": "6035a01f",
   "metadata": {},
   "outputs": [
    {
     "name": "stdout",
     "output_type": "stream",
     "text": [
      "2\n"
     ]
    }
   ],
   "source": [
    "# 문장이 모여서 프로그램\n",
    "a = 1; b = 1 ;c = a+b\n",
    "print(c)"
   ]
  },
  {
   "cell_type": "code",
   "execution_count": 19,
   "id": "473da821",
   "metadata": {},
   "outputs": [
    {
     "name": "stdout",
     "output_type": "stream",
     "text": [
      "['False', 'None', 'True', 'and', 'as', 'assert', 'async', 'await', 'break', 'class', 'continue', 'def', 'del', 'elif', 'else', 'except', 'finally', 'for', 'from', 'global', 'if', 'import', 'in', 'is', 'lambda', 'nonlocal', 'not', 'or', 'pass', 'raise', 'return', 'try', 'while', 'with', 'yield'] \n",
      "\n",
      "35\n"
     ]
    }
   ],
   "source": [
    "# Python Keyword\n",
    "import keyword\n",
    "print(keyword.kwlist,'\\n')\n",
    "print(len(keyword.kwlist))"
   ]
  },
  {
   "cell_type": "markdown",
   "id": "8ba78a13",
   "metadata": {},
   "source": [
    "식별자 기본 규칙\n",
    "- 키워드를 사용하면 안된다.\n",
    "- 특수문자는 언더바 만 사용한다.\n",
    "- 숫자로 시작하면 안된다.\n",
    "- 공백을 포함할 수 없다."
   ]
  },
  {
   "cell_type": "code",
   "execution_count": null,
   "id": "47d6e1f2",
   "metadata": {},
   "outputs": [],
   "source": [
    "alpha\n",
    "break # 키워드\n",
    "alpha10\n",
    "_alpha\n",
    "273alpha #숫자시작\n",
    "Alpha\n",
    "ALPHA\n",
    "has alpha #공백 포함"
   ]
  },
  {
   "cell_type": "markdown",
   "id": "7e8a9969",
   "metadata": {},
   "source": [
    "https://bibi6666667.tistory.com/277\n",
    "파이썬은 snake_case와 CamelCase를 모두 사용\n",
    "\n",
    "- itemlist item_list ItemList\n",
    "- loginstatus login_status LoginStatus\n",
    "- 캐멀 케이스(대문자로 시작) 클래스\n",
    "- 스네이크 케이스(소문자로 시작) 뒤에 ()가 있다. - 함수\n",
    "- 스네이크 케이스(소문자로 시작) 뒤에 ()가 없다. - 변수\n"
   ]
  },
  {
   "cell_type": "code",
   "execution_count": 1,
   "id": "5831ab23",
   "metadata": {},
   "outputs": [
    {
     "name": "stdout",
     "output_type": "stream",
     "text": [
      "3이 있습니다.\n"
     ]
    }
   ],
   "source": [
    "# 사람이 생각하는 방식을 그대로 표현할 수 있는 언어\n",
    "\n",
    "if 3 in [1,2,3,4]: print(\"3이 있습니다.\")"
   ]
  },
  {
   "cell_type": "code",
   "execution_count": 10,
   "id": "3b9f2eb8",
   "metadata": {},
   "outputs": [
    {
     "name": "stdout",
     "output_type": "stream",
     "text": [
      "exist\n"
     ]
    }
   ],
   "source": [
    "if 5 in [1,2,3,4,5]: \n",
    "    print('exist')\n",
    "else: print('no exist')\n",
    "    "
   ]
  },
  {
   "cell_type": "code",
   "execution_count": 24,
   "id": "62bfc606",
   "metadata": {},
   "outputs": [
    {
     "name": "stdout",
     "output_type": "stream",
     "text": [
      "o\n"
     ]
    }
   ],
   "source": [
    "if \"eo\" in [\"kang\", \"seo\", \"eo\"]:\n",
    "    print('o')"
   ]
  },
  {
   "cell_type": "code",
   "execution_count": 13,
   "id": "6328887c",
   "metadata": {},
   "outputs": [
    {
     "name": "stdout",
     "output_type": "stream",
     "text": [
      "123\n",
      "-123\n",
      "0\n",
      "1.23\n",
      "127\n",
      "2748\n",
      "42\n"
     ]
    }
   ],
   "source": [
    "# 파이썬 자료형 - 숫자형(정수, 실수, 8진수, 16진수)\n",
    "a=123\n",
    "b=-123\n",
    "c=0\n",
    "d=1.23\n",
    "e=0o177 # 8진수 0o로 시작\n",
    "f=0xABC # 16진수 0x로 시작\n",
    "g=0b101010 # 2진수 0b로 시작\n",
    "print(a)\n",
    "print(b)\n",
    "print(c)\n",
    "print(d)\n",
    "print(e)\n",
    "print(f)\n",
    "print(g)"
   ]
  },
  {
   "cell_type": "code",
   "execution_count": 14,
   "id": "7ad037df",
   "metadata": {},
   "outputs": [
    {
     "name": "stdout",
     "output_type": "stream",
     "text": [
      "10\n",
      "2\n",
      "12\n",
      "20\n",
      "5.0\n",
      "0\n",
      "5\n",
      "8\n"
     ]
    }
   ],
   "source": [
    "# 사칙연산\n",
    "a=10\n",
    "b=2\n",
    "c=a+b\n",
    "d=a*b\n",
    "e=a/b\n",
    "f=a%b # 나머지\n",
    "g=a//b # 몫\n",
    "h=2**3 # 제곱\n",
    "print(a)\n",
    "print(b)\n",
    "print(c)\n",
    "print(d)\n",
    "print(e)\n",
    "print(f)\n",
    "print(g)\n",
    "print(h)"
   ]
  },
  {
   "cell_type": "code",
   "execution_count": 17,
   "id": "093a0e34",
   "metadata": {},
   "outputs": [
    {
     "ename": "TypeError",
     "evalue": "can only concatenate str (not \"int\") to str",
     "output_type": "error",
     "traceback": [
      "\u001b[1;31m---------------------------------------------------------------------------\u001b[0m",
      "\u001b[1;31mTypeError\u001b[0m                                 Traceback (most recent call last)",
      "\u001b[1;32m~\\AppData\\Local\\Temp/ipykernel_2908/4126259730.py\u001b[0m in \u001b[0;36m<module>\u001b[1;34m\u001b[0m\n\u001b[0;32m      2\u001b[0m \u001b[0mstring\u001b[0m \u001b[1;33m=\u001b[0m \u001b[1;34m\"문자열\"\u001b[0m\u001b[1;33m\u001b[0m\u001b[1;33m\u001b[0m\u001b[0m\n\u001b[0;32m      3\u001b[0m \u001b[0mnumber\u001b[0m \u001b[1;33m=\u001b[0m \u001b[1;36m273\u001b[0m\u001b[1;33m\u001b[0m\u001b[1;33m\u001b[0m\u001b[0m\n\u001b[1;32m----> 4\u001b[1;33m \u001b[0mstring\u001b[0m \u001b[1;33m+\u001b[0m \u001b[0mnumber\u001b[0m\u001b[1;33m\u001b[0m\u001b[1;33m\u001b[0m\u001b[0m\n\u001b[0m",
      "\u001b[1;31mTypeError\u001b[0m: can only concatenate str (not \"int\") to str"
     ]
    }
   ],
   "source": [
    "# 다른 타입간 연산은 안됨\n",
    "string = \"문자열\"\n",
    "number = 273\n",
    "string + number"
   ]
  },
  {
   "cell_type": "code",
   "execution_count": 20,
   "id": "6305e4d7",
   "metadata": {},
   "outputs": [
    {
     "data": {
      "text/plain": [
       "float"
      ]
     },
     "execution_count": 20,
     "metadata": {},
     "output_type": "execute_result"
    }
   ],
   "source": [
    "a=10\n",
    "a=\"문자\"\n",
    "a=100.0\n",
    "type(a)"
   ]
  },
  {
   "cell_type": "code",
   "execution_count": 21,
   "id": "cb5ea377",
   "metadata": {},
   "outputs": [
    {
     "data": {
      "text/plain": [
       "200"
      ]
     },
     "execution_count": 21,
     "metadata": {},
     "output_type": "execute_result"
    }
   ],
   "source": [
    "# 복합 대입 연산자\n",
    "num = 10\n",
    "num += 10\n",
    "num *= 10\n",
    "num"
   ]
  },
  {
   "cell_type": "code",
   "execution_count": 25,
   "id": "518a3893",
   "metadata": {},
   "outputs": [
    {
     "data": {
      "text/plain": [
       "10"
      ]
     },
     "execution_count": 25,
     "metadata": {},
     "output_type": "execute_result"
    }
   ],
   "source": [
    "num=100\n",
    "num-=50\n",
    "num//=5\n",
    "num"
   ]
  },
  {
   "cell_type": "code",
   "execution_count": 26,
   "id": "63eb7115",
   "metadata": {},
   "outputs": [
    {
     "name": "stdout",
     "output_type": "stream",
     "text": [
      "인사말을 입력하세요: 안녕하세요.\n"
     ]
    },
    {
     "data": {
      "text/plain": [
       "'안녕하세요.'"
      ]
     },
     "execution_count": 26,
     "metadata": {},
     "output_type": "execute_result"
    }
   ],
   "source": [
    "# 사용자 입력\n",
    "input('인사말을 입력하세요: ')"
   ]
  },
  {
   "cell_type": "code",
   "execution_count": 27,
   "id": "cc7b9f50",
   "metadata": {},
   "outputs": [
    {
     "name": "stdout",
     "output_type": "stream",
     "text": [
      "숫자를 입력하세요: 10\n",
      "10\n"
     ]
    },
    {
     "data": {
      "text/plain": [
       "str"
      ]
     },
     "execution_count": 27,
     "metadata": {},
     "output_type": "execute_result"
    }
   ],
   "source": [
    "num = input('숫자를 입력하세요: ') #input함수는 문자열로 출력함\n",
    "print(num)\n",
    "type(num)"
   ]
  },
  {
   "cell_type": "code",
   "execution_count": 28,
   "id": "bfa3dfd3",
   "metadata": {},
   "outputs": [
    {
     "name": "stdout",
     "output_type": "stream",
     "text": [
      "숫자를 입력하세요5\n",
      "숫자를 입력하세요5\n",
      "55\n"
     ]
    }
   ],
   "source": [
    "num1 = input('숫자를 입력하세요')\n",
    "num2 = input('숫자를 입력하세요')\n",
    "print(num1+num2)"
   ]
  },
  {
   "cell_type": "code",
   "execution_count": 29,
   "id": "432c4259",
   "metadata": {},
   "outputs": [
    {
     "name": "stdout",
     "output_type": "stream",
     "text": [
      "숫자를 입력하세요5\n",
      "숫자를 입력하세요5\n",
      "10\n"
     ]
    }
   ],
   "source": [
    "num1 = input('숫자를 입력하세요')\n",
    "num1_n = int(num1)\n",
    "num2 = input('숫자를 입력하세요')\n",
    "num2_n = int(num2)\n",
    "print(num1_n+num2_n)"
   ]
  },
  {
   "cell_type": "code",
   "execution_count": 35,
   "id": "d8a34503",
   "metadata": {},
   "outputs": [
    {
     "name": "stdout",
     "output_type": "stream",
     "text": [
      "a입력3\n",
      "b입력3.3\n",
      "6.3\n"
     ]
    }
   ],
   "source": [
    "a=input('a입력')\n",
    "a1=int(a)\n",
    "b=input('b입력')\n",
    "b1=float(b)\n",
    "print(a1+b1)"
   ]
  },
  {
   "cell_type": "code",
   "execution_count": 37,
   "id": "1664de8e",
   "metadata": {},
   "outputs": [
    {
     "name": "stdout",
     "output_type": "stream",
     "text": [
      "5252.273\n"
     ]
    }
   ],
   "source": [
    "a=52\n",
    "b=52.273\n",
    "print(str(a) + str(b))"
   ]
  },
  {
   "cell_type": "code",
   "execution_count": 38,
   "id": "94958f29",
   "metadata": {},
   "outputs": [
    {
     "name": "stdout",
     "output_type": "stream",
     "text": [
      "python's value is great\n"
     ]
    }
   ],
   "source": [
    "# 문자열 : \"\", '', \"\"\" \"\"\", ''' '''\n",
    "p1=\"python's value is great\"\n",
    "print(p1)"
   ]
  },
  {
   "cell_type": "code",
   "execution_count": 39,
   "id": "d1c0aae4",
   "metadata": {},
   "outputs": [
    {
     "name": "stdout",
     "output_type": "stream",
     "text": [
      "\"python is valuable\" he says\n"
     ]
    }
   ],
   "source": [
    "s1='\"python is valuable\" he says'\n",
    "print(s1)"
   ]
  },
  {
   "cell_type": "code",
   "execution_count": 40,
   "id": "d6372ddf",
   "metadata": {},
   "outputs": [
    {
     "name": "stdout",
     "output_type": "stream",
     "text": [
      "python's value is great\n"
     ]
    }
   ],
   "source": [
    "s2= 'python\\'s value is great'\n",
    "print(s2)"
   ]
  },
  {
   "cell_type": "code",
   "execution_count": 42,
   "id": "195318c9",
   "metadata": {},
   "outputs": [
    {
     "name": "stdout",
     "output_type": "stream",
     "text": [
      "Once you study data analysis\n",
      "You need Python\n",
      "Once you study data analysis\n",
      "You need Python\n",
      "Once you study data analysus\n",
      "You need Python\n"
     ]
    }
   ],
   "source": [
    "y1=\"Once you study data analysis\\nYou need Python\"\n",
    "print(y1)\n",
    "y2= '''Once you study data analysis\n",
    "You need Python'''\n",
    "print(y2)\n",
    "y3= \"\"\"Once you study data analysus\n",
    "You need Python\"\"\"\n",
    "print(y3)"
   ]
  },
  {
   "cell_type": "code",
   "execution_count": 46,
   "id": "547c4266",
   "metadata": {},
   "outputs": [
    {
     "name": "stdout",
     "output_type": "stream",
     "text": [
      "He says \"I'm hungry\"\n",
      "and I say \"me, too\"\n"
     ]
    }
   ],
   "source": [
    "t1='He says \"I\\'m hungry\"\\nand I say \"me, too\"'\n",
    "print(t1)"
   ]
  },
  {
   "cell_type": "code",
   "execution_count": 51,
   "id": "95930d1e",
   "metadata": {},
   "outputs": [
    {
     "name": "stdout",
     "output_type": "stream",
     "text": [
      "Python is easy to learn\n",
      "Python Python Python \n",
      "====================\n"
     ]
    }
   ],
   "source": [
    "# 문자열 연산\n",
    "a1='Python'\n",
    "a2=' is easy to learn'\n",
    "print(a1+a2)\n",
    "print((a1+' ') * 3)\n",
    "print(\"=\"*20)\n"
   ]
  },
  {
   "cell_type": "code",
   "execution_count": 54,
   "id": "33b2ebfd",
   "metadata": {},
   "outputs": [
    {
     "name": "stdout",
     "output_type": "stream",
     "text": [
      "[1, 'a', 'abc', [1, 2, 3, 4, 5], ['a', 'b', 'c', 'd'], 5, 7]\n"
     ]
    }
   ],
   "source": [
    "# 자료형 - List\n",
    "# 리스트는 []로 표시하며 []안의 요소를 콤마로 구분하여 순서있게 나열\n",
    "list1=[1,2,3,4,5]\n",
    "a1=5;a2=7\n",
    "list2=['a','b','c','d']\n",
    "list3=[1,'a','abc',list1,list2, a1, a2]\n",
    "print(list3)"
   ]
  },
  {
   "cell_type": "code",
   "execution_count": 60,
   "id": "cd7f7b09",
   "metadata": {},
   "outputs": [
    {
     "name": "stdout",
     "output_type": "stream",
     "text": [
      "[1, 2, 3, 4, 5]\n",
      "abc\n",
      "5\n",
      "b\n"
     ]
    }
   ],
   "source": [
    "# 인덱싱\n",
    "list1=[1,2,3,4,5]\n",
    "print(list1[:])\n",
    "print(list3[2])\n",
    "print(list3[3][4])\n",
    "print(list3[4][1])"
   ]
  },
  {
   "cell_type": "code",
   "execution_count": 65,
   "id": "507f1774",
   "metadata": {},
   "outputs": [
    {
     "name": "stdout",
     "output_type": "stream",
     "text": [
      "[1, 1, 2, 3, 4, 5, 6, 7, 8, 9]\n",
      "['a', 'a', 'c']\n",
      "['a', 'c']\n"
     ]
    }
   ],
   "source": [
    "#리스트 수정, 삭제\n",
    "a=[0,1,2,3,4,5,6,7,8,9]\n",
    "b=['a','b','c']\n",
    "a[0]=1\n",
    "b[1]='a'\n",
    "print(a)\n",
    "print(b)\n",
    "del b[1]\n",
    "print(b)"
   ]
  },
  {
   "cell_type": "code",
   "execution_count": 69,
   "id": "b295ce8a",
   "metadata": {},
   "outputs": [
    {
     "name": "stdout",
     "output_type": "stream",
     "text": [
      "[0, 1, 2, 3, 4, 5, 6, 7, 8, 9, 'a', 'b', 'c']\n",
      "c\n",
      "1\n"
     ]
    }
   ],
   "source": [
    "a=[0,1,2,3,4,5,6,7,8,9]\n",
    "b=['a','b','c']\n",
    "c= a+b\n",
    "print(c)\n",
    "print(c[-1]) #맨 끝 인덱스\n",
    "c[-1]=1\n",
    "print(c[-1])"
   ]
  },
  {
   "cell_type": "code",
   "execution_count": 75,
   "id": "bbaa2735",
   "metadata": {},
   "outputs": [
    {
     "name": "stdout",
     "output_type": "stream",
     "text": [
      "[1, 2, 3, 4]\n",
      "[4, 3, 2, 1]\n",
      "[4, 3, 2, 1]\n"
     ]
    }
   ],
   "source": [
    "# 정렬 x.sort()\n",
    "b=[2,4,3,1]\n",
    "b.sort()\n",
    "print(b)\n",
    "# 내림차순\n",
    "b_d=sorted(b,reverse=True)\n",
    "print(b_d)\n",
    "b.reverse()\n",
    "print(b)"
   ]
  },
  {
   "cell_type": "code",
   "execution_count": 80,
   "id": "9e51d092",
   "metadata": {},
   "outputs": [
    {
     "name": "stdout",
     "output_type": "stream",
     "text": [
      "[9, 8, 7, 6, 5, 4, 3, 2, 1, 1, 1]\n"
     ]
    }
   ],
   "source": [
    "s=[1,1,2,3,4,5,6,7,8,9,1]\n",
    "#s.sort(); print(s)\n",
    "#s.reverse(); print(s)\n",
    "s=sorted(s,reverse=True); print(s)"
   ]
  },
  {
   "cell_type": "code",
   "execution_count": 82,
   "id": "4aaa3ad4",
   "metadata": {},
   "outputs": [
    {
     "name": "stdout",
     "output_type": "stream",
     "text": [
      "2\n"
     ]
    }
   ],
   "source": [
    "# 인덱스 위치 반환 x.index()\n",
    "c=[1,2,3,1,5]\n",
    "print(c.index(3))"
   ]
  },
  {
   "cell_type": "code",
   "execution_count": 85,
   "id": "948fdbaa",
   "metadata": {},
   "outputs": [
    {
     "name": "stdout",
     "output_type": "stream",
     "text": [
      "[74, 7, 46, 98, 38, 14, 81, 47, 30, 41, 28, 10, 64, 73, 68, 77, 29, 35, 95, 65, 90, 52, 83, 81, 79, 40, 81, 66, 4, 72, 17, 14, 2, 43, 46, 29, 71, 96, 19, 45, 89, 9, 9, 6, 89, 41, 69, 15, 96, 36, 40, 14, 37, 97, 14, 24, 68, 25, 10, 50, 56, 24, 99, 47, 82, 44, 65, 50, 10, 45, 63, 81, 16, 87, 15, 19, 52, 67, 89, 39, 70, 71, 40, 42, 44, 6, 32, 55, 25, 25, 51, 34, 73, 31, 82, 40, 42, 59, 65, 7]\n"
     ]
    },
    {
     "data": {
      "text/plain": [
       "19"
      ]
     },
     "execution_count": 85,
     "metadata": {},
     "output_type": "execute_result"
    }
   ],
   "source": [
    "import numpy as np\n",
    "c=np.random.randint(100,size=100).tolist()\n",
    "print(c)\n",
    "c.index(65)"
   ]
  },
  {
   "cell_type": "code",
   "execution_count": 86,
   "id": "778f43e0",
   "metadata": {},
   "outputs": [
    {
     "name": "stdout",
     "output_type": "stream",
     "text": [
      "3\n"
     ]
    }
   ],
   "source": [
    "# 개수 반환 x.count()\n",
    "c=[1,1,3,3,3,5,5]\n",
    "print(c.count(3))"
   ]
  },
  {
   "cell_type": "code",
   "execution_count": 105,
   "id": "3d948210",
   "metadata": {},
   "outputs": [
    {
     "name": "stdout",
     "output_type": "stream",
     "text": [
      "[1, 2, 3, 4, 5]\n",
      "[1, 2, 3, 4, 5, 6]\n",
      "[5, 1, 2, 3, 4, 5, 6]\n",
      "[5, 1, 2, 3, 4, 5, 6, 7]\n"
     ]
    }
   ],
   "source": [
    "# 리스트 확장\n",
    "h=[1,2,3]\n",
    "h.extend([4,5])\n",
    "print(h)\n",
    "# 추가\n",
    "h.append(6)\n",
    "print(h)\n",
    "h.insert(0,5)\n",
    "print(h)\n",
    "h.insert(7,7)\n",
    "print(h)\n"
   ]
  },
  {
   "cell_type": "code",
   "execution_count": 112,
   "id": "0cfc44e4",
   "metadata": {},
   "outputs": [
    {
     "name": "stdout",
     "output_type": "stream",
     "text": [
      "(1, 2, 3, 4, 5)\n",
      "abc\n",
      "5\n",
      "c\n"
     ]
    }
   ],
   "source": [
    "# 튜플\n",
    "tuple1=(1,2,3,4,5)\n",
    "a1=5;a2=7\n",
    "tuple2=('a','c','d')\n",
    "tuple3=(1,'a','abc',tuple1,tuple2, a1, a2)\n",
    "\n",
    "print(tuple1[:])\n",
    "print(tuple3[2])\n",
    "print(tuple3[3][4])\n",
    "print(tuple3[4][1])"
   ]
  },
  {
   "cell_type": "code",
   "execution_count": null,
   "id": "944d909c",
   "metadata": {},
   "outputs": [],
   "source": [
    "# 자료형 - Tuple\n",
    "# 튜플의 요소 값은 변경할 수 없음 - 프로그램에서 그 값이 항상 변하지 않아야되는 경우 사용"
   ]
  },
  {
   "cell_type": "code",
   "execution_count": 108,
   "id": "4182a170",
   "metadata": {},
   "outputs": [
    {
     "name": "stdout",
     "output_type": "stream",
     "text": [
      "(1,)\n",
      "(1, 2, 3)\n",
      "(1, 2, 3, 1, 2, 3, 1, 2, 3)\n",
      "(1, 1, 2, 3)\n",
      "1\n"
     ]
    },
    {
     "data": {
      "text/plain": [
       "int"
      ]
     },
     "execution_count": 108,
     "metadata": {},
     "output_type": "execute_result"
    }
   ],
   "source": [
    "t1=(1,) #1개의 요소만 가질 때는 요소뒤에 콤마를 붙여야 함\n",
    "print(t1)\n",
    "t2=1,2,3\n",
    "print(t2)\n",
    "print(t2*3)\n",
    "t3=t1+t2\n",
    "print(t3)\n",
    "t4=(1) #,안붙이면 int로 취급\n",
    "print(t4)\n",
    "type(t4)"
   ]
  },
  {
   "cell_type": "code",
   "execution_count": 113,
   "id": "641a8e2f",
   "metadata": {},
   "outputs": [
    {
     "name": "stdout",
     "output_type": "stream",
     "text": [
      "1\n",
      "{'a': 1, 'b': 5, 'c': 3}\n"
     ]
    }
   ],
   "source": [
    "# 자료형 - 사전(키와 값을 하나의 요소로 하는 순서가 없는 집합) key:value 형태\n",
    "# 리스트와 튜플은 인덱스로 값에 접근\n",
    "d1={'a':1, 'b':2,'c':3}\n",
    "print(d1['a'])\n",
    "d1['b']=5\n",
    "print(d1)"
   ]
  },
  {
   "cell_type": "code",
   "execution_count": 115,
   "id": "c1c77d24",
   "metadata": {},
   "outputs": [
    {
     "name": "stdout",
     "output_type": "stream",
     "text": [
      "dict_keys(['a', 'b', 'c'])\n",
      "dict_values([1, 5, 3])\n",
      "dict_items([('a', 1), ('b', 5), ('c', 3)])\n"
     ]
    }
   ],
   "source": [
    "print(d1.keys())\n",
    "print(d1.values())\n",
    "print(d1.items())"
   ]
  },
  {
   "cell_type": "code",
   "execution_count": 118,
   "id": "db7fd58e",
   "metadata": {},
   "outputs": [
    {
     "name": "stdout",
     "output_type": "stream",
     "text": [
      "dict_keys(['철수', '영수', '국수'])\n",
      "dict_values(['사과', '바나나', '배'])\n",
      "dict_items([('철수', '사과'), ('영수', '바나나'), ('국수', '배')])\n",
      "{'철수': '파인애플', '영수': '바나나', '국수': '배'}\n"
     ]
    }
   ],
   "source": [
    "d={'철수':'사과','영수':'바나나','국수':'배'}\n",
    "print(d.keys())\n",
    "print(d.values())\n",
    "print(d.items())\n",
    "\n",
    "d['철수']= '파인애플'\n",
    "print(d)\n"
   ]
  },
  {
   "cell_type": "code",
   "execution_count": 202,
   "id": "d2da55b6",
   "metadata": {},
   "outputs": [
    {
     "name": "stdout",
     "output_type": "stream",
     "text": [
      "이름을 입력하세요 :영수\n",
      "영수가 좋아하는 과일은 바나나 입니다.\n"
     ]
    }
   ],
   "source": [
    "# 사전 검색\n",
    "\n",
    "d={'철수':'사과','영수':'바나나','국수':'배'}\n",
    "\n",
    "a=input('이름을 입력하세요 :')\n",
    "a_in=str(a)\n",
    "if a in d:\n",
    "    print(f'{a}가 좋아하는 과일은 {d[a]} 입니다.')\n",
    "else: \n",
    "    print('no exist name.')\n"
   ]
  },
  {
   "cell_type": "code",
   "execution_count": 121,
   "id": "1596f40e",
   "metadata": {},
   "outputs": [
    {
     "name": "stdout",
     "output_type": "stream",
     "text": [
      "{2, 3, 4, 7, 8}\n",
      "{'H', 'o', 'e', 'l'}\n"
     ]
    }
   ],
   "source": [
    "# 자료형 - 집합, set(중복을 하용하지 않으며 순서가 없다.) ()안의 []리스트 형태\n",
    "s1=set([7,8,2,4,3])\n",
    "s2=set(\"Hello\")\n",
    "print(s1); print(s2)"
   ]
  },
  {
   "cell_type": "code",
   "execution_count": 122,
   "id": "564281dc",
   "metadata": {},
   "outputs": [
    {
     "name": "stdout",
     "output_type": "stream",
     "text": [
      "3\n",
      "o\n"
     ]
    }
   ],
   "source": [
    "# 집합은 인덱싱으로 값을 얻을 수 없으며 필요시 리스트나 튜플로 변환 후 인덱싱\n",
    "l1=list(s1)\n",
    "print(l1[1])\n",
    "l2=list(s2)\n",
    "print(l2[1])"
   ]
  },
  {
   "cell_type": "code",
   "execution_count": 132,
   "id": "cca4a1f0",
   "metadata": {},
   "outputs": [
    {
     "name": "stdout",
     "output_type": "stream",
     "text": [
      "union : [1, 2, 3, 4, 5, 6, 8, 9]\n",
      "intersection : [4, 5, 6]\n"
     ]
    }
   ],
   "source": [
    "s1=set([1,2,3,4,5,6])\n",
    "s2=set([4,5,6,8,9])\n",
    "\n",
    "print('union :',list(s1|s2))\n",
    "print('intersection :',list(s1&s2))"
   ]
  },
  {
   "cell_type": "code",
   "execution_count": 137,
   "id": "3cde04de",
   "metadata": {},
   "outputs": [
    {
     "name": "stdout",
     "output_type": "stream",
     "text": [
      "[1, 2, 3, 4, 5]\n",
      "(1, 2, 3, 4, 5)\n",
      "{'a': 1, 'b': 2, 'c': 3}\n",
      "[1, 2, 'a', 'c', 5]\n"
     ]
    }
   ],
   "source": [
    "list=[1,2,3,4,5]\n",
    "tuple=(1,2,3,4,5)\n",
    "dic={'a':1,'b':2,'c':3}\n",
    "set=([1,2,'a','c',5])\n",
    "\n",
    "print(list)\n",
    "print(tuple)\n",
    "print(dic)\n",
    "print(set)\n"
   ]
  },
  {
   "cell_type": "code",
   "execution_count": 138,
   "id": "35963741",
   "metadata": {},
   "outputs": [
    {
     "name": "stdout",
     "output_type": "stream",
     "text": [
      "a가 li에 있습니다.\n"
     ]
    }
   ],
   "source": [
    "# 들여쓰기\n",
    "li=['a','b','c']\n",
    "if 'a' in li:\n",
    "    print('a가 li에 있습니다.')\n",
    "else:\n",
    "    print('a가 li에 없습니다.')"
   ]
  },
  {
   "cell_type": "code",
   "execution_count": 144,
   "id": "b0dd2093",
   "metadata": {},
   "outputs": [
    {
     "name": "stdout",
     "output_type": "stream",
     "text": [
      "나의 이름은 홍길동 입니다. 나이는 30 입니다.\n"
     ]
    },
    {
     "data": {
      "text/plain": [
       "'나의 이름은홍길동입니다. 나이는 30입니다.'"
      ]
     },
     "execution_count": 144,
     "metadata": {},
     "output_type": "execute_result"
    }
   ],
   "source": [
    "# 문자열 포멧\n",
    "name='홍길동'\n",
    "age=30\n",
    "print('나의 이름은',name,'입니다. 나이는',age,'입니다.')\n",
    "f'나의 이름은 {name}입니다. 나이는 {age}입니다.'"
   ]
  },
  {
   "cell_type": "code",
   "execution_count": 200,
   "id": "bcbbbe2f",
   "metadata": {},
   "outputs": [
    {
     "name": "stdout",
     "output_type": "stream",
     "text": [
      "나의 이름은 홍길동 입니다. 나이는 30 입니다.\n",
      "나의 이름은 홍길동입니다. 나이는 30입니다.\n"
     ]
    }
   ],
   "source": [
    "d={'name':'홍길동', 'age':30}\n",
    "print('나의 이름은',d[\"name\"],'입니다. 나이는',d[\"age\"],'입니다.')\n",
    "print(f'나의 이름은 {d[\"name\"]}입니다. 나이는 {d[\"age\"]}입니다.')"
   ]
  },
  {
   "cell_type": "code",
   "execution_count": 149,
   "id": "b8c5055a",
   "metadata": {},
   "outputs": [
    {
     "data": {
      "text/plain": [
       "'3.4213'"
      ]
     },
     "execution_count": 149,
     "metadata": {},
     "output_type": "execute_result"
    }
   ],
   "source": [
    "y=3.4213234\n",
    "f'{y:0.4f}' # 소수점 4자리까지만 표현"
   ]
  },
  {
   "cell_type": "code",
   "execution_count": 150,
   "id": "fbbd72bf",
   "metadata": {},
   "outputs": [
    {
     "data": {
      "text/plain": [
       "'    3.4213'"
      ]
     },
     "execution_count": 150,
     "metadata": {},
     "output_type": "execute_result"
    }
   ],
   "source": [
    "f'{y:10.4f}' # 소수점 4자리까지 표현, 총 자리수를 10으로 맞춤"
   ]
  },
  {
   "cell_type": "code",
   "execution_count": 153,
   "id": "1e7755df",
   "metadata": {},
   "outputs": [
    {
     "name": "stdout",
     "output_type": "stream",
     "text": [
      "홍길동 선수가 1등입니다.\n",
      "홍길동 선수가 1등입니다.\n",
      "홍길동 선수가 1등입니다.\n"
     ]
    }
   ],
   "source": [
    "# 포멧함수\n",
    "f1=\"{} 선수가 {}등입니다.\" .format('홍길동',1)\n",
    "print(f1)\n",
    "f1=\"{1} 선수가 {0}등입니다.\" .format(1,'홍길동') # {}안의 숫자는 인자의 순서\n",
    "print(f1)\n",
    "print(\"%s 선수가 %d등입니다.\" %(\"홍길동\",1))"
   ]
  },
  {
   "cell_type": "code",
   "execution_count": 155,
   "id": "535f8eb2",
   "metadata": {},
   "outputs": [
    {
     "name": "stdout",
     "output_type": "stream",
     "text": [
      "파이썬은 자바보다 2배 쉽습니다.\n",
      "파이썬은 자바보다 2배 쉽습니다.\n"
     ]
    }
   ],
   "source": [
    "f=\"{}은 {}보다 {}배 쉽습니다.\" .format('파이썬','자바',2)\n",
    "print(f)\n",
    "print(\"%s은 %s보다 %d배 쉽습니다.\" %('파이썬','자바',2))"
   ]
  },
  {
   "cell_type": "markdown",
   "id": "bd1bb3f6",
   "metadata": {},
   "source": [
    "12345\n",
    "     12345\n",
    "12.345679\n",
    "          12.346"
   ]
  },
  {
   "cell_type": "code",
   "execution_count": 191,
   "id": "c8d3e67e",
   "metadata": {},
   "outputs": [
    {
     "name": "stdout",
     "output_type": "stream",
     "text": [
      "12345\n",
      "     12345\n",
      "12.345679\n",
      "           12.346\n"
     ]
    }
   ],
   "source": [
    "# 과제\n",
    "\n",
    "a=12.345679\n",
    "a1=int(a*1000)\n",
    "print(f'{a1}')\n",
    "print(f'{a1:10}')\n",
    "print(f'{a}')\n",
    "print(f'{a:17.3f}')"
   ]
  },
  {
   "cell_type": "code",
   "execution_count": 203,
   "id": "28667f95",
   "metadata": {},
   "outputs": [
    {
     "name": "stdout",
     "output_type": "stream",
     "text": [
      "저축 증가\n"
     ]
    }
   ],
   "source": [
    "# 제어문 - if-elif~else\n",
    "# \"수입과 지출금액을 비교해서 수입이 많으면 저축 증가, 반대이면 빚이 증가 \n",
    "# 같으면 현상 유지\"\n",
    "i=5,000,000\n",
    "e=3,000,000\n",
    "\n",
    "if i>e:\n",
    "    print('저축 증가')\n",
    "elif i<e:\n",
    "    print('빚이 증가')\n",
    "else:\n",
    "    print('현상 유지')"
   ]
  },
  {
   "cell_type": "code",
   "execution_count": 204,
   "id": "334b488b",
   "metadata": {},
   "outputs": [
    {
     "name": "stdout",
     "output_type": "stream",
     "text": [
      "5 15 6 20 7 25 "
     ]
    }
   ],
   "source": [
    "# for 반복문\n",
    "numbers=[5,15,6,20,7,25]\n",
    "for num in numbers:\n",
    "    print(num,end=' ')"
   ]
  },
  {
   "cell_type": "code",
   "execution_count": 229,
   "id": "207721b1",
   "metadata": {},
   "outputs": [
    {
     "name": "stdout",
     "output_type": "stream",
     "text": [
      "1 2 3 4 5 "
     ]
    }
   ],
   "source": [
    "# for ~ continue ~ break\n",
    "# 1~10 범위의 정수에서 1부터 5까지만 출력하세요.\n",
    "i=0\n",
    "for i in range(1,11):\n",
    "    print(i,end=' ')\n",
    "    if i<5:\n",
    "        continue\n",
    "    else:\n",
    "        break"
   ]
  },
  {
   "cell_type": "code",
   "execution_count": 230,
   "id": "1a4783a8",
   "metadata": {},
   "outputs": [
    {
     "name": "stdout",
     "output_type": "stream",
     "text": [
      "15 20 25 "
     ]
    }
   ],
   "source": [
    "# numbers 리스트에서 15,20,25를 출력하세요. (for,if 필수)\n",
    "numbers=[5,15,6,20,7,25]\n",
    "num=0\n",
    "for num in numbers:\n",
    "    if num>= 15:\n",
    "        print(num,end=' ')\n"
   ]
  },
  {
   "cell_type": "code",
   "execution_count": 238,
   "id": "3f23510d",
   "metadata": {},
   "outputs": [
    {
     "name": "stdout",
     "output_type": "stream",
     "text": [
      "45\n",
      "1035\n"
     ]
    }
   ],
   "source": [
    "# while\n",
    "# 정수 1부터 n까지 더할 때 그 합이 1000보다 커지게 되는 n과 합을 구하시오.\n",
    "\n",
    "x=1; sum=0\n",
    "while 1:\n",
    "    sum=sum+x\n",
    "    if sum>1000:\n",
    "        print(x)\n",
    "        print(sum)\n",
    "        break\n",
    "    x=x+1"
   ]
  },
  {
   "cell_type": "code",
   "execution_count": 267,
   "id": "b0f7cc8d",
   "metadata": {},
   "outputs": [
    {
     "name": "stdout",
     "output_type": "stream",
     "text": [
      "166833\n"
     ]
    }
   ],
   "source": [
    "# while문을 사용해 1부터 1000까지의 정수 중 3의 배수의 합을 구하시오.\n",
    "a=0; sum=0\n",
    "while a<1000:\n",
    "    a+=1\n",
    "    if a%3==0:\n",
    "        sum=sum+a\n",
    "print(sum)\n",
    "\n",
    "        \n",
    "        \n",
    "    "
   ]
  },
  {
   "cell_type": "code",
   "execution_count": 257,
   "id": "3a4400be",
   "metadata": {},
   "outputs": [
    {
     "name": "stdout",
     "output_type": "stream",
     "text": [
      "4550\n"
     ]
    }
   ],
   "source": [
    "#[과제] 1부터 100까지의 정수중 5에서 95까지의 합을 구하세요.\n",
    "i=0; sum=0\n",
    "while i<101:\n",
    "    i+=1\n",
    "    if i>4 and i<96:\n",
    "        sum=sum+i\n",
    "print(sum)\n",
    "        \n",
    "    "
   ]
  },
  {
   "cell_type": "code",
   "execution_count": 206,
   "id": "f941b137",
   "metadata": {},
   "outputs": [
    {
     "name": "stdout",
     "output_type": "stream",
     "text": [
      "몫은 2, 나머지는 1입니다. \n"
     ]
    }
   ],
   "source": [
    "# 5를 2로 나누었을때의 몫과 나머지를 구하시오.\n",
    "x=5; y=2\n",
    "a=x//y; b=x%y\n",
    "print(f'몫은 {a}, 나머지는 {b}입니다. ')"
   ]
  },
  {
   "cell_type": "code",
   "execution_count": 208,
   "id": "46829ea0",
   "metadata": {},
   "outputs": [
    {
     "name": "stdout",
     "output_type": "stream",
     "text": [
      "1030301\n"
     ]
    }
   ],
   "source": [
    "# 101의 3승을 구하시오.\n",
    "print(101**3)"
   ]
  },
  {
   "cell_type": "code",
   "execution_count": 217,
   "id": "2c0c1541",
   "metadata": {},
   "outputs": [
    {
     "name": "stdout",
     "output_type": "stream",
     "text": [
      "Python 3.8.3\n",
      "<class 'int'>\n",
      "125\n",
      "2\n"
     ]
    }
   ],
   "source": [
    "a='Python'\n",
    "b='3.8.3'\n",
    "print(a+' '+b)\n",
    "\n",
    "a=5\n",
    "a='10'\n",
    "a=15\n",
    "print(type(a))\n",
    "\n",
    "a=5\n",
    "a**=3\n",
    "a%=3\n",
    "print(a)"
   ]
  },
  {
   "cell_type": "code",
   "execution_count": 218,
   "id": "a0908a4a",
   "metadata": {},
   "outputs": [
    {
     "name": "stdout",
     "output_type": "stream",
     "text": [
      "이름을 입력하시오: 어정호\n",
      "이름은 어정호입니다.\n"
     ]
    }
   ],
   "source": [
    "a=input('이름을 입력하시오: ')\n",
    "print(f'이름은 {a} 입니다.')"
   ]
  },
  {
   "cell_type": "code",
   "execution_count": 219,
   "id": "00f5f577",
   "metadata": {},
   "outputs": [
    {
     "name": "stdout",
     "output_type": "stream",
     "text": [
      "첫 번째 숫자를 입력하시오: 2\n",
      "두 번째 숫자를 입력하시오: 2\n",
      "세 번째 숫자를 입력하시오: 3\n",
      "1.3333333333333333\n"
     ]
    }
   ],
   "source": [
    "a=input(\"첫 번째 숫자를 입력하시오: \")\n",
    "a_1=int(a)\n",
    "b=input(\"두 번째 숫자를 입력하시오: \")\n",
    "b_1=int(b)\n",
    "c=input(\"세 번째 숫자를 입력하시오: \")\n",
    "c_1=int(c)\n",
    "print((a_1**b_1)/c_1)"
   ]
  },
  {
   "cell_type": "code",
   "execution_count": 287,
   "id": "76dcb18d",
   "metadata": {},
   "outputs": [
    {
     "name": "stdout",
     "output_type": "stream",
     "text": [
      "33165\n"
     ]
    }
   ],
   "source": [
    "# [과제] while문을 사용해 1부터 1000까지의 정수 중 3괴 5의 공배수의 합을 구하시오.\n",
    "i=1; sum=0;\n",
    "while i<=1000:\n",
    "    i+=1\n",
    "    if i%3==0 or i%5==0:\n",
    "        sum+=i\n",
    "print(sum)"
   ]
  },
  {
   "cell_type": "code",
   "execution_count": 265,
   "id": "c57f5909",
   "metadata": {},
   "outputs": [
    {
     "name": "stdout",
     "output_type": "stream",
     "text": [
      "숫자를 입력하시오: 1\n",
      "숫자를 입력하시오: 2\n",
      "숫자를 입력하시오: 3\n",
      "숫자를 입력하시오: 4\n",
      "숫자를 입력하시오: 5\n",
      "12345\n"
     ]
    }
   ],
   "source": [
    "# [과제] 1부터 5까지 입력해서 12345를 출력하세요\n",
    "a=input('숫자를 입력하시오: ')\n",
    "b=input('숫자를 입력하시오: ')\n",
    "c=input('숫자를 입력하시오: ')\n",
    "d=input('숫자를 입력하시오: ')\n",
    "e=input('숫자를 입력하시오: ')\n",
    "print(a+b+c+d+e)\n",
    "    "
   ]
  },
  {
   "cell_type": "code",
   "execution_count": 289,
   "id": "4f1c2bf7",
   "metadata": {},
   "outputs": [
    {
     "name": "stdout",
     "output_type": "stream",
     "text": [
      "[0, 1, 2, 3, 4, 5, 6, 7, 8, 'b', 'c']\n"
     ]
    }
   ],
   "source": [
    "# [과제] [0,1,2,3,4,5,6,7,8,9,'a','b','c']에서 9와 'a'를 삭제 후 리스트로 출력하세요.\n",
    "a=[0,1,2,3,4,5,6,7,8,9,'a','b','c']\n",
    "del a[9]; del a[-3]\n",
    "print(a)"
   ]
  },
  {
   "cell_type": "code",
   "execution_count": 361,
   "id": "82c983b7",
   "metadata": {},
   "outputs": [
    {
     "name": "stdout",
     "output_type": "stream",
     "text": [
      "0 1 2 3 4 5 6 7 9 b "
     ]
    }
   ],
   "source": [
    "# [과제] [0,1,2,3,4,5,6,7,9,'b','c']에서 'c'를 삭제 후 출력하세요.\n",
    "a=[0,1,2,3,4,5,6,7,9,'b','c']\n",
    "del a[-1]\n",
    "for i in a:\n",
    "    print(i,end=' ')"
   ]
  },
  {
   "cell_type": "code",
   "execution_count": 296,
   "id": "4d9cec9b",
   "metadata": {},
   "outputs": [
    {
     "name": "stdout",
     "output_type": "stream",
     "text": [
      "[9, 8, 7, 6, 5, 4, 3, 2, 1, 1, 1]\n"
     ]
    }
   ],
   "source": [
    "# [과제] [4,8,5,4,8,4,3,9,1,9]를 내림차순으로 정렬하세요.\n",
    "a=[4,8,5,4,8,4,3,9,1,9]\n",
    "#a.sort()\n",
    "#a.reverse()\n",
    "#print(a)\n",
    "a=sorted(a,reverse=True); print(a)"
   ]
  },
  {
   "cell_type": "code",
   "execution_count": 382,
   "id": "b9528881",
   "metadata": {},
   "outputs": [
    {
     "name": "stdout",
     "output_type": "stream",
     "text": [
      "2021년 12월 29일 18시 23분 4초\n"
     ]
    }
   ],
   "source": [
    "# [과제] format 함수를 이용해서 다음과 같은 형식으로 현재 날짜/시간을 출력하세요.\n",
    "# 2021년 12월 29일 15시 47분 30초\n",
    "import datetime\n",
    "today=datetime.datetime.today()\n",
    "year=today.year\n",
    "mon=today.month\n",
    "day=today.day\n",
    "hour=today.hour\n",
    "min=today.minute\n",
    "sec=today.second\n",
    "print(f'{year}년 {mon}월 {day}일 {hour}시 {min}분 {sec}초')"
   ]
  },
  {
   "cell_type": "code",
   "execution_count": 395,
   "id": "bf143455",
   "metadata": {},
   "outputs": [
    {
     "name": "stdout",
     "output_type": "stream",
     "text": [
      "현재시각은 오후 6시 28분 입니다.\n"
     ]
    }
   ],
   "source": [
    "# [과제] 현재 시각을 오전과 오후로 구분하는 프로그램을 작성하세요.\n",
    "import datetime\n",
    "t=datetime.datetime.now()\n",
    "hour=t.hour\n",
    "min=t.minute\n",
    "if hour>12:\n",
    "    print(f'현재시각은 오후 {int(hour)-12}시 {min}분 입니다.')\n",
    "else:\n",
    "    print(f'현재시각은 오전 {hour}시 {min}분 입니다.')\n"
   ]
  },
  {
   "cell_type": "code",
   "execution_count": 354,
   "id": "1cc54898",
   "metadata": {},
   "outputs": [
    {
     "name": "stdout",
     "output_type": "stream",
     "text": [
      "숫자를 입력하세요: 456489\n",
      "입력한 숫자 456489은 홀수 입니다.\n"
     ]
    }
   ],
   "source": [
    "# [과제] 정수를 입력하면 홀수 짝수를 판별하는 프로그램 작성\n",
    "num=input('숫자를 입력하세요: ')\n",
    "if int(num)%2==0:\n",
    "    print(f'입력한 숫자 {num}은 짝수 입니다.')\n",
    "else:\n",
    "    print(f'입력한 숫자 {num}은 홀수 입니다.')"
   ]
  },
  {
   "cell_type": "code",
   "execution_count": 396,
   "id": "84644a1b",
   "metadata": {},
   "outputs": [
    {
     "name": "stdout",
     "output_type": "stream",
     "text": [
      "태어난 연도를 입력해주세요: 1997\n",
      "1997년은 소띠 입니다.\n"
     ]
    }
   ],
   "source": [
    "# [과제] 태어난 연도를 입력받아 띠를 출력하는 프로그램을 작성하세요.\n",
    "# 원숭이, 닭, 개, 돼지, 쥐, 소 ,범 ,토끼, 용, 뱀, 말, 양\n",
    "y=int(input('태어난 연도를 입력해주세요: '))\n",
    "if y%12==0:\n",
    "    print(f'{y}년은 원숭이띠 입니다.')\n",
    "elif y%12==1:\n",
    "    print(f'{y}년은 닭띠 입니다.')\n",
    "elif y%12==2:\n",
    "    print(f'{y}년은 개띠 입니다.')\n",
    "elif y%12==3:\n",
    "    print(f'{y}년은 돼지띠 입니다.')\n",
    "elif y%12==4:\n",
    "    print(f'{y}년은 쥐띠 입니다.')\n",
    "elif y%12==5:\n",
    "    print(f'{y}년은 소띠 입니다.')\n",
    "elif y%12==6:\n",
    "    print(f'{y}년은 범띠 입니다.')\n",
    "elif y%12==7:\n",
    "    print(f'{y}년은 토끼띠 입니다.')\n",
    "elif y%12==8:\n",
    "    print(f'{y}년은 용띠 입니다.')\n",
    "elif y%12==9:\n",
    "    print(f'{y}년은 뱀띠 입니다.')\n",
    "elif y%12==10:\n",
    "    print(f'{y}년은 말띠 입니다.')\n",
    "else:\n",
    "    print(f'{y}년은 양띠 입니다.')"
   ]
  },
  {
   "cell_type": "markdown",
   "id": "013f4459",
   "metadata": {},
   "source": [
    "[과제] 계절 구분 프로그램\n",
    "- 각 계절별 출력 멘트는 계절에 맞게 창작\n",
    "- if 조건문으로 datetime 모듈을 import해서 datetime.now 함수를 사용해서 작성"
   ]
  },
  {
   "cell_type": "code",
   "execution_count": 398,
   "id": "8808d770",
   "metadata": {},
   "outputs": [
    {
     "name": "stdout",
     "output_type": "stream",
     "text": [
      "현재는 겨울 입니다.\n"
     ]
    }
   ],
   "source": [
    "#1~3봄4~6여7~9가10~12겨\n",
    "import datetime\n",
    "t=datetime.datetime.now()\n",
    "mon=t.month\n",
    "if mon>=1 and mon<=3:\n",
    "    print('현재는 봄 입니다.')\n",
    "elif mon>=4 and mon<=6:\n",
    "    print('현재는 여름 입니다.')\n",
    "elif mon>=7 and mon<=9:\n",
    "    print('현재는 가을 입니다.')\n",
    "else:\n",
    "    print('현재는 겨울 입니다.')"
   ]
  },
  {
   "cell_type": "markdown",
   "id": "314db37c",
   "metadata": {},
   "source": [
    "[과제] 커피 자판기 프로그램\n",
    "- 시나리오 : 자판기 커피 재고 5잔, 커피 1잔 가격 300원, 재고 범위내에서 300원 이상 돈을 넣으면 거스름돈과 커피를 주고 그렇지 않으면 반환하며 재고가 소진되면 안내멘트 출력\n",
    "- 각 case별 멘트 출력은 상황에 맞게 창작\n",
    "\n",
    "- while, if ~ elif ~ \n",
    "else 제어문을 사용하여 작성"
   ]
  },
  {
   "cell_type": "code",
   "execution_count": 408,
   "id": "720a5a94",
   "metadata": {},
   "outputs": [
    {
     "name": "stdout",
     "output_type": "stream",
     "text": [
      "구매를 원하는 수량을 입력하세요: 5\n"
     ]
    }
   ],
   "source": [
    "insert=0; cost=300; stock=5;\n",
    "if stock>0:\n",
    "    buy=input('구매를 원하는 수량을 입력하세요: ')\n",
    "    if int(buy)>stock:\n",
    "        print(f'재고가 부족합니다. 남은 수량: {stock}')\n",
    "    elif int(buy)<stock:\n",
    "        print(f'구매 수량은 {buy}잔, 금액은 {int(buy)*300}원 입니다.')\n",
    "        in_cost=input('금액을 투입하여 주세요. 투입한 금액: ')\n",
    "        if int(in_cost)==int(buy)*300:\n",
    "            print('커피 나왔습니다. 감사합니다.')\n",
    "        elif int(in_cost)<int(buy)*300:\n",
    "            print(f'금액이 부족합니다. 투입된 금액 :{in_cost}원, 부족한 금액 :{int(buy)*300-int(in_cost)}')\n",
    "            print('투입한 금액을 반환합니다.')\n",
    "        else: \n",
    "            print(f'투입한 금액은 {in_cost}원, 거스름돈은 {int(in_cost)-int(buy)*300}원 입니다.')\n",
    "            print('커피와 거스름돈을 챙겨주세요. 감사합니다.')\n",
    "#else stock==0:\n",
    "   # print('재고가 부족합니다.')\n",
    "        \n",
    " "
   ]
  },
  {
   "cell_type": "code",
   "execution_count": null,
   "id": "11ed29e1",
   "metadata": {},
   "outputs": [
    {
     "name": "stdout",
     "output_type": "stream",
     "text": [
      "구매를 원하는 수량을 입력하세요: 3\n",
      "구매 수량은 3잔, 금액은 900원 입니다.\n",
      "금액을 투입하여 주세요. 투입한 금액: 1200\n",
      "투입한 금액은 1200원, 거스름돈은 300원 입니다.\n",
      "커피와 거스름돈을 챙겨주세요. 감사합니다.\n",
      "구매를 원하는 수량을 입력하세요: 3\n",
      "재고가 부족합니다. 남은 수량: 2\n",
      "구매를 원하는 수량을 입력하세요: 1\n",
      "구매 수량은 1잔, 금액은 300원 입니다.\n",
      "금액을 투입하여 주세요. 투입한 금액: 200\n",
      "금액이 부족합니다. 투입된 금액 :200원, 부족한 금액 :100\n",
      "투입한 금액을 반환합니다.\n",
      "구매를 원하는 수량을 입력하세요: 2\n",
      "구매 수량은 2잔, 금액은 600원 입니다.\n",
      "금액을 투입하여 주세요. 투입한 금액: 200\n",
      "금액이 부족합니다. 투입된 금액 :200원, 부족한 금액 :400\n",
      "투입한 금액을 반환합니다.\n",
      "구매를 원하는 수량을 입력하세요: 5\n",
      "재고가 부족합니다. 남은 수량: 2\n",
      "구매를 원하는 수량을 입력하세요: 1\n",
      "구매 수량은 1잔, 금액은 300원 입니다.\n",
      "금액을 투입하여 주세요. 투입한 금액: 600\n",
      "투입한 금액은 600원, 거스름돈은 300원 입니다.\n",
      "커피와 거스름돈을 챙겨주세요. 감사합니다.\n",
      "구매를 원하는 수량을 입력하세요: 2\n",
      "재고가 부족합니다. 남은 수량: 1\n",
      "구매를 원하는 수량을 입력하세요: 1\n",
      "구매 수량은 1잔, 금액은 300원 입니다.\n",
      "금액을 투입하여 주세요. 투입한 금액: 600\n",
      "투입한 금액은 600원, 거스름돈은 300원 입니다.\n",
      "커피와 거스름돈을 챙겨주세요. 감사합니다.\n"
     ]
    }
   ],
   "source": [
    "insert=0; cost=300; stock=5;\n",
    "while 1:\n",
    "    if stock>0:\n",
    "        buy=input('구매를 원하는 수량을 입력하세요: ')\n",
    "        if int(buy)>stock:\n",
    "            print(f'재고가 부족합니다. 남은 수량: {stock}')\n",
    "            \n",
    "        elif int(buy)<=stock:\n",
    "            print(f'구매 수량은 {buy}잔, 금액은 {int(buy)*300}원 입니다.')\n",
    "            in_cost=input('금액을 투입하여 주세요. 투입한 금액: ')\n",
    "            if int(in_cost)==int(buy)*300:\n",
    "                print('커피 나왔습니다. 감사합니다.')\n",
    "                stock=stock-int(buy)\n",
    "                if stock==0:\n",
    "                    print(\"재고가 모두 소진되었습니다. 판매를 중지합니다.\")\n",
    "                    break\n",
    "            elif int(in_cost)<int(buy)*300:\n",
    "                print(f'금액이 부족합니다. 투입된 금액 :{in_cost}원, 부족한 금액 :{int(buy)*300-int(in_cost)}')\n",
    "                print('투입한 금액을 반환합니다.')\n",
    "                continue\n",
    "            else: \n",
    "                print(f'투입한 금액은 {in_cost}원, 거스름돈은 {int(in_cost)-int(buy)*300}원 입니다.')\n",
    "                print('커피와 거스름돈을 챙겨주세요. 감사합니다.')\n",
    "                stock=stock-int(buy)\n",
    " \n",
    "\n",
    "\n",
    "        \n",
    "        \n",
    "\n"
   ]
  },
  {
   "cell_type": "code",
   "execution_count": 404,
   "id": "330154bc",
   "metadata": {},
   "outputs": [
    {
     "name": "stdout",
     "output_type": "stream",
     "text": [
      "32\n",
      "25\n"
     ]
    }
   ],
   "source": [
    "# [과제] 람다 함수를 이용해서 a의 b제곱을 구하는 식을 만들고\n",
    "# a, b가 아래와 같이 주어졌을 때 각각의 값을 구하세요. \n",
    "# a = 2, b = 5\n",
    "# a= 5, b = 2\n",
    "L=lambda x,y:x**y\n",
    "a=2; b=5\n",
    "print(L(a,b))\n",
    "a=5; b=2\n",
    "print(L(a,b))"
   ]
  }
 ],
 "metadata": {
  "kernelspec": {
   "display_name": "Python 3 (ipykernel)",
   "language": "python",
   "name": "python3"
  },
  "language_info": {
   "codemirror_mode": {
    "name": "ipython",
    "version": 3
   },
   "file_extension": ".py",
   "mimetype": "text/x-python",
   "name": "python",
   "nbconvert_exporter": "python",
   "pygments_lexer": "ipython3",
   "version": "3.8.12"
  }
 },
 "nbformat": 4,
 "nbformat_minor": 5
}
